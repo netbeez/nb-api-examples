{
 "cells": [
  {
   "cell_type": "markdown",
   "metadata": {},
   "source": [
    "# NetBeez API examples\n",
    "## Example 1: Retrive PING test results from a specific agent for the past 60 minutes\n",
    "## Example 2: Display top 10 agents with most alerts from the last 24 hours"
   ]
  },
  {
   "cell_type": "markdown",
   "metadata": {},
   "source": [
    "This notebook uses a Python environment to demonstrate how a NetBeez user can retrive data from the API and manipulate them and visualize them in a meaningful way.\n",
    "\n",
    "First we describe the setup process for getting data from the API."
   ]
  },
  {
   "cell_type": "markdown",
   "metadata": {},
   "source": [
    "## Setup your NetBeez Beezkeeper details"
   ]
  },
  {
   "cell_type": "markdown",
   "metadata": {},
   "source": [
    "First you need to identify your server's FQDN and generate an API key to use in these examples.\n",
    "\n",
    "If the URL you use to access NetBeez looks like this https://demo.netbeecloud.net then `demo.netbeecloud.net` is the fqdn."
   ]
  },
  {
   "cell_type": "code",
   "execution_count": 1,
   "metadata": {},
   "outputs": [],
   "source": [
    "beezkeeper_fqdn=\"demo.netbeezcloud.net\"  ## <--------- CHANGE THIS TO YOUR INSTANCE FQDN\n",
    "base_url='https://' + beezkeeper_fqdn"
   ]
  },
  {
   "cell_type": "code",
   "execution_count": 2,
   "metadata": {
    "jupyter": {
     "source_hidden": true
    },
    "tags": []
   },
   "outputs": [
    {
     "data": {
      "text/markdown": [
       "For documentation go to https://api.netbeez.net or https://demo.netbeezcloud.net/swagger/"
      ],
      "text/plain": [
       "<IPython.core.display.Markdown object>"
      ]
     },
     "execution_count": 2,
     "metadata": {},
     "output_type": "execute_result"
    }
   ],
   "source": [
    "from IPython.display import Markdown as md\n",
    "\n",
    "md(f\"To generate an API key head over to https://{beezkeeper_fqdn}/#settings-tab/api-keys-settings\")\n",
    "\n",
    "md(f\"For documentation go to https://api.netbeez.net or https://{beezkeeper_fqdn}/swagger/\")"
   ]
  },
  {
   "cell_type": "code",
   "execution_count": 3,
   "metadata": {
    "tags": []
   },
   "outputs": [],
   "source": [
    "api_key=\"pYzGcKX-3TqJM2npcUsT06F40ORTpv9KCwhybnP_xKTTXlWQZnYK8Q\"  # <--------- CHANGE THIS TO YOUR KEY"
   ]
  },
  {
   "cell_type": "markdown",
   "metadata": {},
   "source": [
    "## Setup the headers\n",
    "We define the content type format as JSON and provide the API key that you generated in the previous step as part of the headers."
   ]
  },
  {
   "cell_type": "code",
   "execution_count": 4,
   "metadata": {
    "tags": []
   },
   "outputs": [],
   "source": [
    "import requests\n",
    "import urllib3\n",
    "\n",
    "urllib3.disable_warnings()\n",
    "\n",
    "\n",
    "headers = {\n",
    "            'Cache-Control': 'no-store',\n",
    "            'Content-type': 'application/json',\n",
    "            'Authorization': 'Bearer ' + api_key\n",
    "          }\n",
    "\n",
    "legacy_api_headers = {\n",
    "    'Authorization': api_key,\n",
    "    'API-VERSION': 'v1',\n",
    "    'Content-type': 'application/json'\n",
    "}"
   ]
  },
  {
   "cell_type": "markdown",
   "metadata": {},
   "source": [
    "Note that when the legacy api headers are used it means that we are using the legacy API which is subject to be replaced soon by the new JSON API (documentation here: https://api.netbeez.net)"
   ]
  },
  {
   "cell_type": "markdown",
   "metadata": {},
   "source": [
    "# Example 1: Get NetBeez Agent information and last 24 hours Ping results.\n",
    "\n",
    "In this example we will be searching for an agent by name, then selecting the ping tests that are currently running, and then retriving the raw measurement results for those tests from the past 60 minutes."
   ]
  },
  {
   "cell_type": "markdown",
   "metadata": {},
   "source": [
    "## Retrieve the agent\n",
    "First we set retrieve the agent by search by name using this API endpoint: https://api.netbeez.net/#f3d48709-5344-45b7-af9b-7b92feddd4ec."
   ]
  },
  {
   "cell_type": "code",
   "execution_count": 5,
   "metadata": {},
   "outputs": [],
   "source": [
    "search_name = \"Virtual Agent\"\n",
    "url = f\"{base_url}/agents?filter[name]={search_name}&type=beta\"\n"
   ]
  },
  {
   "cell_type": "code",
   "execution_count": 6,
   "metadata": {},
   "outputs": [
    {
     "name": "stdout",
     "output_type": "stream",
     "text": [
      "{'id': '341', 'type': 'agent', 'attributes': {'name': 'Pittsburgh - Virtual Agent', 'reached_target_test_limit': False, 'reached_scheduled_test_limit': False, 'nb_target_ids': [463, 464, 465, 437, 32], 'nb_test_ids': [1667068, 1667069, 1667070, 1667065, 1667066, 1667067, 1667071, 1688201, 1688302, 1688303, 1688304, 1688305, 1688306, 1688391, 1688392, 1688393, 1688394, 1688395, 1688474, 1688475, 1688476, 1688477, 1688478], 'agent_type_name': 'virtual-model-ova', 'os_version': 'Debian GNU/Linux 8.11 (jessie)', 'kernel_version': '#1 SMP Debian 3.16.51-3 (2017-12-13)', 'created_at': '2021-04-01T19:39:11.000Z', 'uuid': '00:0c:29:09:fa:ee', 'agent_class': 'virtual', 'active': True, 'active_ts': 1631648799161, 'description': None, 'category': 'network_agent', 'software_version': '8.1.1', 'open_incident_id': None, 'test_aggregate_counts_by_type': {'1': {'success': 4, 'fail': 0, 'warning': 1, 'paused': 0, 'unknown': 0}, '2': {'success': 5, 'fail': 0, 'warning': 0, 'paused': 0, 'unknown': 0}, '3': {'success': 4, 'fail': 1, 'warning': 0, 'paused': 0, 'unknown': 0}, '4': {'success': 4, 'fail': 0, 'warning': 0, 'paused': 0, 'unknown': 0}}}, 'relationships': {'scheduled_nb_test_templates': {'data': [{'id': '1', 'type': 'scheduled_nb_test_template'}]}, 'network_interfaces': {'data': [{'id': '387', 'type': 'network_interface'}]}, 'agent_groups': {'data': [{'id': '5', 'type': 'agent_group'}]}}}\n"
     ]
    }
   ],
   "source": [
    "response = requests.request(\"GET\", url, headers=headers, verify=False)\n",
    "\n",
    "import json\n",
    "data = json.loads(response.text)\n",
    "agent = data['data'][0]\n",
    "print(agent)"
   ]
  },
  {
   "cell_type": "markdown",
   "metadata": {},
   "source": [
    "## Retrieve Ping tests\n",
    "Then we iterate through the tests and select the ping tests."
   ]
  },
  {
   "cell_type": "code",
   "execution_count": 7,
   "metadata": {},
   "outputs": [
    {
     "name": "stdout",
     "output_type": "stream",
     "text": [
      "{'id': 1667068, 'target': 'www.google.com', 'count': 0, 'interval': 5, 'timeout': 5, 'start_ts': '2021-04-01T15:39:11.736-04:00', 'created_at': '2021-04-01T19:39:11.000Z', 'updated_at': '2021-09-21T02:02:01.000Z', 'agent_id': 341, 'test_type_id': 1, 'heir_id': 11374, 'heir_type': 'PingTest', 'ad_hoc': False, 'test_name': None, 'nb_test_templatable_type': 'NbTestTemplate', 'nb_test_templatable_id': 99, 'current_alert_mode': 'success', 'wifi_profile_id': None, 'network_interface_id': 387, 'nb_target_id': 32, 'nb_test_template_id': 99, 'schedule_type': 'periodic', 'options': {'data_size': 54, 'dont_fragment': False, 'tos': None, 'port': None, 'ping_type': 2, 'flags': None, 'jitter_mos': True}, 'alert_mode': 'success', 'interface_type': 'wired'}\n",
      "{'id': 1667065, 'target': 'demo-app.netbeezcloud.net', 'count': 0, 'interval': 5, 'timeout': 5, 'start_ts': '2021-04-01T15:39:11.604-04:00', 'created_at': '2021-04-01T19:39:11.000Z', 'updated_at': '2021-09-14T21:50:04.000Z', 'agent_id': 341, 'test_type_id': 1, 'heir_id': 11373, 'heir_type': 'PingTest', 'ad_hoc': False, 'test_name': '', 'nb_test_templatable_type': 'NbTestTemplate', 'nb_test_templatable_id': 1830, 'current_alert_mode': 'success', 'wifi_profile_id': None, 'network_interface_id': 387, 'nb_target_id': 437, 'nb_test_template_id': 1830, 'schedule_type': 'periodic', 'options': {'data_size': 54, 'dont_fragment': False, 'tos': None, 'port': None, 'ping_type': 2, 'flags': None, 'jitter_mos': False}, 'alert_mode': 'success', 'interface_type': 'wired'}\n",
      "{'id': 1688303, 'target': 'baidu.com', 'count': 0, 'interval': 5, 'timeout': 5, 'start_ts': '2021-05-17T23:56:56.125-04:00', 'created_at': '2021-05-18T03:56:56.000Z', 'updated_at': '2021-09-21T15:17:03.000Z', 'agent_id': 341, 'test_type_id': 1, 'heir_id': 11441, 'heir_type': 'PingTest', 'ad_hoc': False, 'test_name': '', 'nb_test_templatable_type': 'NbTestTemplate', 'nb_test_templatable_id': 2074, 'current_alert_mode': 'warning', 'wifi_profile_id': None, 'network_interface_id': 387, 'nb_target_id': 463, 'nb_test_template_id': 2074, 'schedule_type': 'periodic', 'options': {'data_size': 54, 'dont_fragment': False, 'tos': None, 'port': None, 'ping_type': 2, 'flags': None, 'jitter_mos': None}, 'alert_mode': 'warning', 'interface_type': 'wired'}\n",
      "{'id': 1688391, 'target': 'in.gr', 'count': 0, 'interval': 5, 'timeout': 5, 'start_ts': '2021-05-17T23:57:16.957-04:00', 'created_at': '2021-05-18T03:57:16.000Z', 'updated_at': '2021-09-21T14:51:03.000Z', 'agent_id': 341, 'test_type_id': 1, 'heir_id': 11461, 'heir_type': 'PingTest', 'ad_hoc': False, 'test_name': '', 'nb_test_templatable_type': 'NbTestTemplate', 'nb_test_templatable_id': 2078, 'current_alert_mode': 'success', 'wifi_profile_id': None, 'network_interface_id': 387, 'nb_target_id': 464, 'nb_test_template_id': 2078, 'schedule_type': 'periodic', 'options': {'data_size': 54, 'dont_fragment': False, 'tos': None, 'port': None, 'ping_type': 2, 'flags': None, 'jitter_mos': None}, 'alert_mode': 'success', 'interface_type': 'wired'}\n",
      "{'id': 1688474, 'target': 'amazon.com', 'count': 0, 'interval': 5, 'timeout': 5, 'start_ts': '2021-05-18T00:00:42.578-04:00', 'created_at': '2021-05-18T04:00:42.000Z', 'updated_at': '2021-09-14T21:50:03.000Z', 'agent_id': 341, 'test_type_id': 1, 'heir_id': 11477, 'heir_type': 'PingTest', 'ad_hoc': False, 'test_name': '', 'nb_test_templatable_type': 'NbTestTemplate', 'nb_test_templatable_id': 2083, 'current_alert_mode': 'success', 'wifi_profile_id': None, 'network_interface_id': 387, 'nb_target_id': 465, 'nb_test_template_id': 2083, 'schedule_type': 'periodic', 'options': {'data_size': 54, 'dont_fragment': False, 'tos': None, 'port': None, 'ping_type': 2, 'flags': None, 'jitter_mos': None}, 'alert_mode': 'success', 'interface_type': 'wired'}\n"
     ]
    }
   ],
   "source": [
    "nb_tests = []\n",
    "for nb_test_id in agent['attributes']['nb_test_ids']:\n",
    "    url = f\"{base_url}/nb_tests/{nb_test_id}.json\"\n",
    "    response = requests.request(\"GET\", url, headers=legacy_api_headers, verify=False)\n",
    "    data = json.loads(response.text)\n",
    "    if data['heir_type'] == 'PingTest':\n",
    "        print(data)\n",
    "        nb_tests.append(data)\n"
   ]
  },
  {
   "cell_type": "markdown",
   "metadata": {},
   "source": [
    "## Retrive the results\n",
    "Then we retrieve the results for the past 60 minutes."
   ]
  },
  {
   "cell_type": "code",
   "execution_count": 8,
   "metadata": {},
   "outputs": [
    {
     "name": "stdout",
     "output_type": "stream",
     "text": [
      "2021-09-21 14:22:17.677000\n",
      "2021-09-21 15:22:17.677000\n"
     ]
    }
   ],
   "source": [
    "import time\n",
    "import datetime\n",
    "to_ts = int(time.time() * 1000)\n",
    "from_ts = to_ts - (60 * 60 * 1000)\n",
    "\n",
    "print(datetime.datetime.fromtimestamp(from_ts/1000.0))\n",
    "print(datetime.datetime.fromtimestamp(to_ts/1000.0))\n"
   ]
  },
  {
   "cell_type": "code",
   "execution_count": 9,
   "metadata": {
    "scrolled": false
   },
   "outputs": [],
   "source": [
    "results = []\n",
    "import pandas as pd\n",
    "for nb_test in nb_tests:\n",
    "    url = f\"{base_url}/results.json?nb_test_id={nb_test['id']}&from={from_ts}&to={to_ts}\"\n",
    "    response = requests.request(\"GET\", url, headers=legacy_api_headers, verify=False)\n",
    "    df = pd.json_normalize(json.loads(response.text), 'index')\n",
    "    if df.empty == False :\n",
    "        df['timestamp'] = df['timestamp'].transform(lambda x: datetime.datetime.fromtimestamp(x/1000.0))\n",
    "        df.set_index('id', inplace=True)\n",
    "        results.append(df)\n",
    "    \n",
    "results = pd.concat(results)"
   ]
  },
  {
   "cell_type": "markdown",
   "metadata": {},
   "source": [
    "...and here is a printout of the results:"
   ]
  },
  {
   "cell_type": "code",
   "execution_count": 10,
   "metadata": {
    "scrolled": true
   },
   "outputs": [
    {
     "name": "stdout",
     "output_type": "stream",
     "text": [
      "             value               timestamp  sequence_number  nb_test_id\n",
      "id                                                                     \n",
      "10102936722   10.8 2021-09-21 14:22:22.178          2247379     1667068\n",
      "10102936874   11.0 2021-09-21 14:22:27.185          2247380     1667068\n",
      "10102937021   19.0 2021-09-21 14:22:32.195          2247381     1667068\n",
      "10102937187   11.0 2021-09-21 14:22:37.202          2247382     1667068\n",
      "10102937304   27.5 2021-09-21 14:22:42.212          2247383     1667068\n",
      "...            ...                     ...              ...         ...\n",
      "10103049488   10.8 2021-09-21 15:21:54.564          1448246     1688474\n",
      "10103049654   10.8 2021-09-21 15:21:59.566          1448247     1688474\n",
      "10103049826   10.7 2021-09-21 15:22:04.567          1448248     1688474\n",
      "10103049937   10.7 2021-09-21 15:22:09.572          1448249     1688474\n",
      "10103050138   10.7 2021-09-21 15:22:14.577          1448250     1688474\n",
      "\n",
      "[3544 rows x 4 columns]\n"
     ]
    }
   ],
   "source": [
    "print(results)"
   ]
  },
  {
   "cell_type": "code",
   "execution_count": 11,
   "metadata": {},
   "outputs": [
    {
     "name": "stdout",
     "output_type": "stream",
     "text": [
      "nb_test_id               1667065  1667068  1688303  1688391  1688474\n",
      "timestamp                                                           \n",
      "2021-09-21 14:22:21.992    14.30      NaN      NaN      NaN      NaN\n",
      "2021-09-21 14:22:22.178    13.72    10.80      NaN      NaN      NaN\n",
      "2021-09-21 14:22:22.199    13.14    10.84      0.0      NaN      NaN\n",
      "2021-09-21 14:22:22.290    12.56    10.88     41.2    106.0      NaN\n",
      "2021-09-21 14:22:22.467    11.98    10.92     82.4    105.8     10.1\n",
      "...                          ...      ...      ...      ...      ...\n",
      "2021-09-21 15:22:14.171    10.58    20.20    219.6    105.0     10.7\n",
      "2021-09-21 15:22:14.201    10.56    20.20    218.0    105.0     10.7\n",
      "2021-09-21 15:22:14.431    10.54    20.20    218.0    105.0     10.7\n",
      "2021-09-21 15:22:14.577    10.52    20.20    218.0    105.0     10.7\n",
      "2021-09-21 15:22:15.032    10.50    20.20    218.0    105.0     10.7\n",
      "\n",
      "[3544 rows x 5 columns]\n"
     ]
    }
   ],
   "source": [
    "results_pivot = results.pivot(index='timestamp', columns='nb_test_id', values='value')\n",
    "pf = results_pivot.interpolate()\n",
    "print(pf)"
   ]
  },
  {
   "cell_type": "code",
   "execution_count": 12,
   "metadata": {},
   "outputs": [
    {
     "data": {
      "text/plain": [
       "<AxesSubplot:xlabel='timestamp'>"
      ]
     },
     "execution_count": 12,
     "metadata": {},
     "output_type": "execute_result"
    },
    {
     "data": {
      "image/png": "[encoded data removed]",
      "text/plain": [
       "<Figure size 432x288 with 1 Axes>"
      ]
     },
     "metadata": {
      "needs_background": "light"
     },
     "output_type": "display_data"
    }
   ],
   "source": [
    "pf.plot()"
   ]
  },
  {
   "cell_type": "markdown",
   "metadata": {},
   "source": [
    "# Example 2: Get the top 10 Agents with the most alerts triggered during the past 24 hours.\n",
    "\n",
    "In this example we will be retrieve all the alerts triggered during the past 24 hours. Then we'll group them by agent and count them on a per agent basis. We then sort and pick the top 10. We then enrich the data with the agent names by fetching them through some extra API calls."
   ]
  },
  {
   "cell_type": "markdown",
   "metadata": {},
   "source": [
    "First we set the timestamps for `from` and `to`"
   ]
  },
  {
   "cell_type": "code",
   "execution_count": 13,
   "metadata": {
    "scrolled": true
   },
   "outputs": [
    {
     "name": "stdout",
     "output_type": "stream",
     "text": [
      "From: 2021-09-17 15:24:30.291000\n",
      "To:   2021-09-18 15:24:30.291000\n"
     ]
    }
   ],
   "source": [
    "import time\n",
    "import datetime\n",
    "to_ts = int(time.time() * 1000 - 3 * 24 * 60 * 60 * 1000)\n",
    "from_ts = to_ts - (24 * 60 * 60 * 1000)\n",
    "\n",
    "print(f\"From: {datetime.datetime.fromtimestamp(from_ts/1000.0)}\")\n",
    "print(f\"To:   {datetime.datetime.fromtimestamp(to_ts/1000.0)}\")"
   ]
  },
  {
   "cell_type": "markdown",
   "metadata": {},
   "source": [
    "We then retrieve the alerts using the `/nb_alerts.json` legacy api from swagger."
   ]
  },
  {
   "cell_type": "code",
   "execution_count": 14,
   "metadata": {
    "scrolled": false
   },
   "outputs": [
    {
     "ename": "KeyError",
     "evalue": "'current_alerts'",
     "output_type": "error",
     "traceback": [
      "\u001b[0;31m---------------------------------------------------------------------------\u001b[0m",
      "\u001b[0;31mKeyError\u001b[0m                                  Traceback (most recent call last)",
      "\u001b[0;32m/tmp/ipykernel_50/1359050928.py\u001b[0m in \u001b[0;36m<module>\u001b[0;34m\u001b[0m\n\u001b[1;32m      2\u001b[0m \u001b[0mresponse\u001b[0m \u001b[0;34m=\u001b[0m \u001b[0mrequests\u001b[0m\u001b[0;34m.\u001b[0m\u001b[0mrequest\u001b[0m\u001b[0;34m(\u001b[0m\u001b[0;34m\"GET\"\u001b[0m\u001b[0;34m,\u001b[0m \u001b[0murl\u001b[0m\u001b[0;34m,\u001b[0m \u001b[0mheaders\u001b[0m\u001b[0;34m=\u001b[0m\u001b[0mlegacy_api_headers\u001b[0m\u001b[0;34m,\u001b[0m \u001b[0mverify\u001b[0m\u001b[0;34m=\u001b[0m\u001b[0;32mFalse\u001b[0m\u001b[0;34m)\u001b[0m\u001b[0;34m\u001b[0m\u001b[0;34m\u001b[0m\u001b[0m\n\u001b[1;32m      3\u001b[0m \u001b[0;34m\u001b[0m\u001b[0m\n\u001b[0;32m----> 4\u001b[0;31m \u001b[0mdf\u001b[0m \u001b[0;34m=\u001b[0m \u001b[0mpd\u001b[0m\u001b[0;34m.\u001b[0m\u001b[0mjson_normalize\u001b[0m\u001b[0;34m(\u001b[0m\u001b[0mresponse\u001b[0m\u001b[0;34m.\u001b[0m\u001b[0mjson\u001b[0m\u001b[0;34m(\u001b[0m\u001b[0;34m)\u001b[0m\u001b[0;34m,\u001b[0m \u001b[0;34m'current_alerts'\u001b[0m\u001b[0;34m)\u001b[0m\u001b[0;34m\u001b[0m\u001b[0;34m\u001b[0m\u001b[0m\n\u001b[0m\u001b[1;32m      5\u001b[0m \u001b[0mprint\u001b[0m\u001b[0;34m(\u001b[0m\u001b[0mdf\u001b[0m\u001b[0;34m)\u001b[0m\u001b[0;34m\u001b[0m\u001b[0;34m\u001b[0m\u001b[0m\n",
      "\u001b[0;32m/opt/conda/lib/python3.9/site-packages/pandas/io/json/_normalize.py\u001b[0m in \u001b[0;36m_json_normalize\u001b[0;34m(data, record_path, meta, meta_prefix, record_prefix, errors, sep, max_level)\u001b[0m\n\u001b[1;32m    502\u001b[0m                 \u001b[0mrecords\u001b[0m\u001b[0;34m.\u001b[0m\u001b[0mextend\u001b[0m\u001b[0;34m(\u001b[0m\u001b[0mrecs\u001b[0m\u001b[0;34m)\u001b[0m\u001b[0;34m\u001b[0m\u001b[0;34m\u001b[0m\u001b[0m\n\u001b[1;32m    503\u001b[0m \u001b[0;34m\u001b[0m\u001b[0m\n\u001b[0;32m--> 504\u001b[0;31m     \u001b[0m_recursive_extract\u001b[0m\u001b[0;34m(\u001b[0m\u001b[0mdata\u001b[0m\u001b[0;34m,\u001b[0m \u001b[0mrecord_path\u001b[0m\u001b[0;34m,\u001b[0m \u001b[0;34m{\u001b[0m\u001b[0;34m}\u001b[0m\u001b[0;34m,\u001b[0m \u001b[0mlevel\u001b[0m\u001b[0;34m=\u001b[0m\u001b[0;36m0\u001b[0m\u001b[0;34m)\u001b[0m\u001b[0;34m\u001b[0m\u001b[0;34m\u001b[0m\u001b[0m\n\u001b[0m\u001b[1;32m    505\u001b[0m \u001b[0;34m\u001b[0m\u001b[0m\n\u001b[1;32m    506\u001b[0m     \u001b[0mresult\u001b[0m \u001b[0;34m=\u001b[0m \u001b[0mDataFrame\u001b[0m\u001b[0;34m(\u001b[0m\u001b[0mrecords\u001b[0m\u001b[0;34m)\u001b[0m\u001b[0;34m\u001b[0m\u001b[0;34m\u001b[0m\u001b[0m\n",
      "\u001b[0;32m/opt/conda/lib/python3.9/site-packages/pandas/io/json/_normalize.py\u001b[0m in \u001b[0;36m_recursive_extract\u001b[0;34m(data, path, seen_meta, level)\u001b[0m\n\u001b[1;32m    475\u001b[0m         \u001b[0;32melse\u001b[0m\u001b[0;34m:\u001b[0m\u001b[0;34m\u001b[0m\u001b[0;34m\u001b[0m\u001b[0m\n\u001b[1;32m    476\u001b[0m             \u001b[0;32mfor\u001b[0m \u001b[0mobj\u001b[0m \u001b[0;32min\u001b[0m \u001b[0mdata\u001b[0m\u001b[0;34m:\u001b[0m\u001b[0;34m\u001b[0m\u001b[0;34m\u001b[0m\u001b[0m\n\u001b[0;32m--> 477\u001b[0;31m                 \u001b[0mrecs\u001b[0m \u001b[0;34m=\u001b[0m \u001b[0m_pull_records\u001b[0m\u001b[0;34m(\u001b[0m\u001b[0mobj\u001b[0m\u001b[0;34m,\u001b[0m \u001b[0mpath\u001b[0m\u001b[0;34m[\u001b[0m\u001b[0;36m0\u001b[0m\u001b[0;34m]\u001b[0m\u001b[0;34m)\u001b[0m\u001b[0;34m\u001b[0m\u001b[0;34m\u001b[0m\u001b[0m\n\u001b[0m\u001b[1;32m    478\u001b[0m                 recs = [\n\u001b[1;32m    479\u001b[0m                     \u001b[0mnested_to_record\u001b[0m\u001b[0;34m(\u001b[0m\u001b[0mr\u001b[0m\u001b[0;34m,\u001b[0m \u001b[0msep\u001b[0m\u001b[0;34m=\u001b[0m\u001b[0msep\u001b[0m\u001b[0;34m,\u001b[0m \u001b[0mmax_level\u001b[0m\u001b[0;34m=\u001b[0m\u001b[0mmax_level\u001b[0m\u001b[0;34m)\u001b[0m\u001b[0;34m\u001b[0m\u001b[0;34m\u001b[0m\u001b[0m\n",
      "\u001b[0;32m/opt/conda/lib/python3.9/site-packages/pandas/io/json/_normalize.py\u001b[0m in \u001b[0;36m_pull_records\u001b[0;34m(js, spec)\u001b[0m\n\u001b[1;32m    397\u001b[0m         \u001b[0;32mif\u001b[0m \u001b[0mhas\u001b[0m \u001b[0mnon\u001b[0m \u001b[0miterable\u001b[0m \u001b[0mvalue\u001b[0m\u001b[0;34m.\u001b[0m\u001b[0;34m\u001b[0m\u001b[0;34m\u001b[0m\u001b[0m\n\u001b[1;32m    398\u001b[0m         \"\"\"\n\u001b[0;32m--> 399\u001b[0;31m         \u001b[0mresult\u001b[0m \u001b[0;34m=\u001b[0m \u001b[0m_pull_field\u001b[0m\u001b[0;34m(\u001b[0m\u001b[0mjs\u001b[0m\u001b[0;34m,\u001b[0m \u001b[0mspec\u001b[0m\u001b[0;34m)\u001b[0m\u001b[0;34m\u001b[0m\u001b[0;34m\u001b[0m\u001b[0m\n\u001b[0m\u001b[1;32m    400\u001b[0m \u001b[0;34m\u001b[0m\u001b[0m\n\u001b[1;32m    401\u001b[0m         \u001b[0;31m# GH 31507 GH 30145, GH 26284 if result is not list, raise TypeError if not\u001b[0m\u001b[0;34m\u001b[0m\u001b[0;34m\u001b[0m\u001b[0;34m\u001b[0m\u001b[0m\n",
      "\u001b[0;32m/opt/conda/lib/python3.9/site-packages/pandas/io/json/_normalize.py\u001b[0m in \u001b[0;36m_pull_field\u001b[0;34m(js, spec)\u001b[0m\n\u001b[1;32m    388\u001b[0m                 \u001b[0mresult\u001b[0m \u001b[0;34m=\u001b[0m \u001b[0mresult\u001b[0m\u001b[0;34m[\u001b[0m\u001b[0mfield\u001b[0m\u001b[0;34m]\u001b[0m\u001b[0;34m\u001b[0m\u001b[0;34m\u001b[0m\u001b[0m\n\u001b[1;32m    389\u001b[0m         \u001b[0;32melse\u001b[0m\u001b[0;34m:\u001b[0m\u001b[0;34m\u001b[0m\u001b[0;34m\u001b[0m\u001b[0m\n\u001b[0;32m--> 390\u001b[0;31m             \u001b[0mresult\u001b[0m \u001b[0;34m=\u001b[0m \u001b[0mresult\u001b[0m\u001b[0;34m[\u001b[0m\u001b[0mspec\u001b[0m\u001b[0;34m]\u001b[0m\u001b[0;34m\u001b[0m\u001b[0;34m\u001b[0m\u001b[0m\n\u001b[0m\u001b[1;32m    391\u001b[0m         \u001b[0;32mreturn\u001b[0m \u001b[0mresult\u001b[0m\u001b[0;34m\u001b[0m\u001b[0;34m\u001b[0m\u001b[0m\n\u001b[1;32m    392\u001b[0m \u001b[0;34m\u001b[0m\u001b[0m\n",
      "\u001b[0;31mKeyError\u001b[0m: 'current_alerts'"
     ]
    }
   ],
   "source": [
    "url = f\"{base_url}/nb_alerts.json?from={from_ts}&to={to_ts}\"\n",
    "response = requests.request(\"GET\", url, headers=legacy_api_headers, verify=False)\n",
    "\n",
    "df = pd.json_normalize(response.json(), 'current_alerts')\n",
    "print(df)"
   ]
  },
  {
   "cell_type": "markdown",
   "metadata": {},
   "source": [
    "Then we filter out only the alerts with severity less than 5 (faillure alerts have severity 1, and warning alerts have severity 4. When an alert is cleared that event is marked with severity 6). Then count the alerts per agent, and then get the top 10."
   ]
  },
  {
   "cell_type": "code",
   "execution_count": null,
   "metadata": {
    "scrolled": false
   },
   "outputs": [],
   "source": [
    "opening_alerts = df[df['severity'] < 5]\n",
    "count_per_agent = opening_alerts[['source_agent_id', 'severity']].groupby(['source_agent_id']).count()\n",
    "count_per_agent = count_per_agent.rename(columns={'severity':'count'})\n",
    "count_per_agent.index = pd.to_numeric(count_per_agent.index, downcast='integer')\n",
    "top_10 = count_per_agent.nlargest(10, columns='count')\n",
    "print(top_10)"
   ]
  },
  {
   "cell_type": "markdown",
   "metadata": {},
   "source": [
    "### Enrich the data with speedtest results:"
   ]
  },
  {
   "cell_type": "code",
   "execution_count": null,
   "metadata": {
    "scrolled": false
   },
   "outputs": [],
   "source": [
    "search_term='Internet Bandwidth'\n",
    "url = f\"{base_url}/scheduled_nb_test_templates?filter[label]={search_term}\"\n",
    "\n",
    "response = requests.request(\"GET\", url, headers=legacy_api_headers, verify=False)\n",
    "scheduled_test_templates=response.json()\n",
    "print(scheduled_test_templates)"
   ]
  },
  {
   "cell_type": "code",
   "execution_count": null,
   "metadata": {},
   "outputs": [],
   "source": [
    "scheduled_nb_test_template_id = scheduled_test_templates['data'][0]['id']\n",
    "\n",
    "agent_ids = ','.join(top_10.index.array.astype('str'))\n",
    "\n"
   ]
  },
  {
   "cell_type": "code",
   "execution_count": null,
   "metadata": {},
   "outputs": [],
   "source": [
    "url = f\"{base_url}/scheduled_nb_test_templates/{scheduled_nb_test_template_id}/results?filter[ts][value1]={from_ts}&filter[ts][value1]={to_ts}&filter[ts][operator]<=>&filter[agent_ids]={agent_ids}\"\n",
    "\n",
    "response = requests.request(\"GET\", url, headers=legacy_api_headers, verify=False)\n",
    "\n",
    "print(response.json())"
   ]
  },
  {
   "cell_type": "code",
   "execution_count": null,
   "metadata": {},
   "outputs": [],
   "source": [
    "results = pd.json_normalize(response.json()['data'])\n",
    "print(results)\n",
    "\n",
    "\n",
    "results = pd.json_normalize(results['attributes.result_values'])\n",
    "\n",
    "print(results)"
   ]
  },
  {
   "cell_type": "markdown",
   "metadata": {},
   "source": [
    "### Plot the alerts"
   ]
  },
  {
   "cell_type": "markdown",
   "metadata": {},
   "source": [
    "To convert the agent ids to agent names we then retrieve the agent objects one by one and extract the name strings from those objects."
   ]
  },
  {
   "cell_type": "code",
   "execution_count": null,
   "metadata": {},
   "outputs": [],
   "source": [
    "agent_names = []\n",
    "for agent_id in top_10.index:\n",
    "    url = f\"{base_url}/agents/{agent_id}.json\"\n",
    "    response = requests.request(\"GET\", url, headers=legacy_api_headers, verify=False)\n",
    "    agent_names.append(response.json()['name'])\n",
    "    \n",
    "print(\"Done loading names\")"
   ]
  },
  {
   "cell_type": "markdown",
   "metadata": {},
   "source": [
    "Finally, we prepare the data for plotting."
   ]
  },
  {
   "cell_type": "code",
   "execution_count": null,
   "metadata": {
    "scrolled": false
   },
   "outputs": [],
   "source": [
    "to_plot = pd.DataFrame(index=agent_names, data=top_10.values, columns=['Alert Count'])\n",
    "to_plot.index.rename('Agents')\n",
    "print(to_plot)"
   ]
  },
  {
   "cell_type": "code",
   "execution_count": null,
   "metadata": {},
   "outputs": [],
   "source": [
    "to_plot.plot.bar()"
   ]
  },
  {
   "cell_type": "code",
   "execution_count": null,
   "metadata": {},
   "outputs": [],
   "source": []
  }
 ],
 "metadata": {
  "interpreter": {
   "hash": "ac2eaa0ea0ebeafcc7822e65e46aa9d4f966f30b695406963e145ea4a91cd4fc"
  },
  "kernelspec": {
   "display_name": "Python 3 (ipykernel)",
   "language": "python",
   "name": "python3"
  },
  "language_info": {
   "codemirror_mode": {
    "name": "ipython",
    "version": 3
   },
   "file_extension": ".py",
   "mimetype": "text/x-python",
   "name": "python",
   "nbconvert_exporter": "python",
   "pygments_lexer": "ipython3",
   "version": "3.9.6"
  },
  "metadata": {
   "interpreter": {
    "hash": "ac2eaa0ea0ebeafcc7822e65e46aa9d4f966f30b695406963e145ea4a91cd4fc"
   }
  }
 },
 "nbformat": 4,
 "nbformat_minor": 4
}
