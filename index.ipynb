{
 "cells": [
  {
   "cell_type": "markdown",
   "metadata": {},
   "source": [
    "# NetBeez API examples\n",
    "## Example 1: Retrive PING test results from a specific agent for the past 60 minutes\n",
    "## Example 2: Display top 10 agents with most alerts from the last 24 hours"
   ]
  },
  {
   "cell_type": "markdown",
   "metadata": {},
   "source": [
    "This notebook uses a Python environment to demonstrate how a NetBeez user can retrive data from the API and manipulate them and visualize them in a meaningful way.\n",
    "\n",
    "First we describe the setup process for getting data from the API."
   ]
  },
  {
   "cell_type": "markdown",
   "metadata": {},
   "source": [
    "## Setup your NetBeez Beezkeeper details"
   ]
  },
  {
   "cell_type": "markdown",
   "metadata": {},
   "source": [
    "First you need to identify your server's FQDN and generate an API key to use in these examples.\n",
    "\n",
    "If the URL you use to access NetBeez looks like this https://demo.netbeecloud.net then `demo.netbeecloud.net` is the fqdn."
   ]
  },
  {
   "cell_type": "code",
   "execution_count": 1,
   "metadata": {},
   "outputs": [],
   "source": [
    "beezkeeper_fqdn=\"demo.netbeezcloud.net\"\n",
    "base_url='https://' + beezkeeper_fqdn"
   ]
  },
  {
   "cell_type": "code",
   "execution_count": 2,
   "metadata": {
    "jupyter": {
     "source_hidden": true
    },
    "tags": []
   },
   "outputs": [
    {
     "data": {
      "text/markdown": [
       "For documentation go to https://api.netbeez.net or https://demo.netbeezcloud.net/swagger/"
      ],
      "text/plain": [
       "<IPython.core.display.Markdown object>"
      ]
     },
     "execution_count": 2,
     "metadata": {},
     "output_type": "execute_result"
    }
   ],
   "source": [
    "from IPython.display import Markdown as md\n",
    "\n",
    "md(f\"To generate an API key head over to https://{beezkeeper_fqdn}/#settings-tab/api-keys-settings\")\n",
    "\n",
    "md(f\"For documentation go to https://api.netbeez.net or https://{beezkeeper_fqdn}/swagger/\")"
   ]
  },
  {
   "cell_type": "code",
   "execution_count": 3,
   "metadata": {
    "tags": []
   },
   "outputs": [],
   "source": [
    "api_key=\"7g5_hKXw_460SNKEkJEYlMn1eqw3iTmaus_cCMZ8REhc5MOEtEAx8g\""
   ]
  },
  {
   "cell_type": "markdown",
   "metadata": {},
   "source": [
    "## Setup the headers\n",
    "We define the content type format as JSON and provide the API key that you generated in the previous step as part of the headers."
   ]
  },
  {
   "cell_type": "code",
   "execution_count": 4,
   "metadata": {
    "tags": []
   },
   "outputs": [],
   "source": [
    "import requests\n",
    "import urllib3\n",
    "\n",
    "urllib3.disable_warnings()\n",
    "\n",
    "\n",
    "headers = {\n",
    "            'Cache-Control': 'no-store',\n",
    "            'Content-type': 'application/json',\n",
    "            'Authorization': 'Bearer ' + api_key\n",
    "          }\n",
    "\n",
    "legacy_api_headers = {\n",
    "    'Authorization': api_key,\n",
    "    'API-VERSION': 'v1',\n",
    "    'Content-type': 'application/json'\n",
    "}"
   ]
  },
  {
   "cell_type": "markdown",
   "metadata": {},
   "source": [
    "Note that when the legacy api headers are used it means that we are using the legacy API which is subject to be replaced soon by the new JSON API (documentation here: https://api.netbeez.net)"
   ]
  },
  {
   "cell_type": "markdown",
   "metadata": {},
   "source": [
    "# Example 1: Get NetBeez Agent information and last 24 hours Ping results.\n",
    "\n",
    "In this example we will be searching for an agent by name, then selecting the ping tests that are currently running, and then retriving the raw measurement results for those tests from the past 60 minutes."
   ]
  },
  {
   "cell_type": "markdown",
   "metadata": {},
   "source": [
    "## Retrieve the agent\n",
    "First we set retrieve the agent by search by name using this API endpoint: https://api.netbeez.net/#f3d48709-5344-45b7-af9b-7b92feddd4ec."
   ]
  },
  {
   "cell_type": "code",
   "execution_count": 5,
   "metadata": {},
   "outputs": [],
   "source": [
    "search_name = \"Virtual Agent\"\n",
    "url = f\"{base_url}/agents?filter[name]={search_name}&type=beta\"\n"
   ]
  },
  {
   "cell_type": "code",
   "execution_count": 6,
   "metadata": {},
   "outputs": [
    {
     "name": "stdout",
     "output_type": "stream",
     "text": [
      "{'id': '341', 'type': 'agent', 'attributes': {'name': 'Pittsburgh - Virtual Agent', 'reached_target_test_limit': False, 'reached_scheduled_test_limit': None, 'nb_target_ids': [463, 464, 465, 437, 32], 'nb_test_ids': [1667068, 1667069, 1667070, 1667065, 1667066, 1667067, 1667071, 1688201, 1688302, 1688303, 1688304, 1688305, 1688306, 1688391, 1688392, 1688393, 1688394, 1688395, 1688474, 1688475, 1688476, 1688477, 1688478], 'agent_type_name': 'virtual-model-ova', 'os_version': 'Debian GNU/Linux 8.11 (jessie)', 'kernel_version': '#1 SMP Debian 3.16.51-3 (2017-12-13)', 'uuid': '00:0c:29:09:fa:ee', 'agent_class': 'virtual', 'active': True, 'active_ts': 1624631782781, 'description': None, 'category': 'network_agent', 'software_version': '8.0.6', 'open_incident_id': None, 'test_aggregate_counts_by_type': {'1': {'success': 5, 'fail': 0, 'warning': 0, 'paused': 0, 'unknown': 0}, '2': {'success': 5, 'fail': 0, 'warning': 0, 'paused': 0, 'unknown': 0}, '3': {'success': 5, 'fail': 0, 'warning': 0, 'paused': 0, 'unknown': 0}, '4': {'success': 4, 'fail': 0, 'warning': 0, 'paused': 0, 'unknown': 0}}}, 'relationships': {'network_interfaces': {'data': [{'id': '387', 'type': 'network_interface'}]}, 'agent_groups': {'data': [{'id': '5', 'type': 'agent_group'}]}}}\n"
     ]
    }
   ],
   "source": [
    "response = requests.request(\"GET\", url, headers=headers, verify=False)\n",
    "\n",
    "import json\n",
    "data = json.loads(response.text)\n",
    "agent = data['data'][0]\n",
    "print(agent)"
   ]
  },
  {
   "cell_type": "markdown",
   "metadata": {},
   "source": [
    "## Retrieve Ping tests\n",
    "Then we iterate through the tests and select the ping tests."
   ]
  },
  {
   "cell_type": "code",
   "execution_count": 7,
   "metadata": {},
   "outputs": [
    {
     "name": "stdout",
     "output_type": "stream",
     "text": [
      "{'id': 1667068, 'target': 'www.google.com', 'count': 0, 'interval': 5, 'timeout': 5, 'start_ts': '2021-04-01T15:39:11.736-04:00', 'created_at': '2021-04-01T19:39:11.000Z', 'updated_at': '2021-06-03T15:34:27.000Z', 'agent_id': 341, 'test_type_id': 1, 'heir_id': 11374, 'heir_type': 'PingTest', 'ad_hoc': False, 'test_name': None, 'nb_test_templatable_type': 'NbTestTemplate', 'nb_test_templatable_id': 99, 'current_alert_mode': 'success', 'wifi_profile_id': None, 'network_interface_id': 387, 'nb_target_id': 32, 'nb_test_template_id': 99, 'schedule_type': 'periodic', 'options': {'data_size': 54, 'dont_fragment': False, 'tos': None, 'port': None, 'ping_type': 2, 'flags': None, 'jitter_mos': True}, 'alert_mode': 'success', 'interface_type': 'wired'}\n",
      "{'id': 1667065, 'target': 'demo-app.netbeezcloud.net', 'count': 0, 'interval': 5, 'timeout': 5, 'start_ts': '2021-04-01T15:39:11.604-04:00', 'created_at': '2021-04-01T19:39:11.000Z', 'updated_at': '2021-06-03T15:34:27.000Z', 'agent_id': 341, 'test_type_id': 1, 'heir_id': 11373, 'heir_type': 'PingTest', 'ad_hoc': False, 'test_name': '', 'nb_test_templatable_type': 'NbTestTemplate', 'nb_test_templatable_id': 1830, 'current_alert_mode': 'success', 'wifi_profile_id': None, 'network_interface_id': 387, 'nb_target_id': 437, 'nb_test_template_id': 1830, 'schedule_type': 'periodic', 'options': {'data_size': 54, 'dont_fragment': False, 'tos': None, 'port': None, 'ping_type': 2, 'flags': None, 'jitter_mos': False}, 'alert_mode': 'success', 'interface_type': 'wired'}\n",
      "{'id': 1688303, 'target': 'baidu.com', 'count': 0, 'interval': 5, 'timeout': 5, 'start_ts': '2021-05-17T23:56:56.125-04:00', 'created_at': '2021-05-18T03:56:56.000Z', 'updated_at': '2021-07-05T15:02:15.000Z', 'agent_id': 341, 'test_type_id': 1, 'heir_id': 11441, 'heir_type': 'PingTest', 'ad_hoc': False, 'test_name': '', 'nb_test_templatable_type': 'NbTestTemplate', 'nb_test_templatable_id': 2074, 'current_alert_mode': 'success', 'wifi_profile_id': None, 'network_interface_id': 387, 'nb_target_id': 463, 'nb_test_template_id': 2074, 'schedule_type': 'periodic', 'options': {'data_size': 54, 'dont_fragment': False, 'tos': None, 'port': None, 'ping_type': 2, 'flags': None, 'jitter_mos': None}, 'alert_mode': 'success', 'interface_type': 'wired'}\n",
      "{'id': 1688391, 'target': 'in.gr', 'count': 0, 'interval': 5, 'timeout': 5, 'start_ts': '2021-05-17T23:57:16.957-04:00', 'created_at': '2021-05-18T03:57:16.000Z', 'updated_at': '2021-07-05T18:12:00.000Z', 'agent_id': 341, 'test_type_id': 1, 'heir_id': 11461, 'heir_type': 'PingTest', 'ad_hoc': False, 'test_name': '', 'nb_test_templatable_type': 'NbTestTemplate', 'nb_test_templatable_id': 2078, 'current_alert_mode': 'success', 'wifi_profile_id': None, 'network_interface_id': 387, 'nb_target_id': 464, 'nb_test_template_id': 2078, 'schedule_type': 'periodic', 'options': {'data_size': 54, 'dont_fragment': False, 'tos': None, 'port': None, 'ping_type': 2, 'flags': None, 'jitter_mos': None}, 'alert_mode': 'success', 'interface_type': 'wired'}\n",
      "{'id': 1688474, 'target': 'amazon.com', 'count': 0, 'interval': 5, 'timeout': 5, 'start_ts': '2021-05-18T00:00:42.578-04:00', 'created_at': '2021-05-18T04:00:42.000Z', 'updated_at': '2021-06-11T06:27:10.000Z', 'agent_id': 341, 'test_type_id': 1, 'heir_id': 11477, 'heir_type': 'PingTest', 'ad_hoc': False, 'test_name': '', 'nb_test_templatable_type': 'NbTestTemplate', 'nb_test_templatable_id': 2083, 'current_alert_mode': 'success', 'wifi_profile_id': None, 'network_interface_id': 387, 'nb_target_id': 465, 'nb_test_template_id': 2083, 'schedule_type': 'periodic', 'options': {'data_size': 54, 'dont_fragment': False, 'tos': None, 'port': None, 'ping_type': 2, 'flags': None, 'jitter_mos': None}, 'alert_mode': 'success', 'interface_type': 'wired'}\n"
     ]
    }
   ],
   "source": [
    "nb_tests = []\n",
    "for nb_test_id in agent['attributes']['nb_test_ids']:\n",
    "    url = f\"{base_url}/nb_tests/{nb_test_id}.json\"\n",
    "    response = requests.request(\"GET\", url, headers=legacy_api_headers, verify=False)\n",
    "    data = json.loads(response.text)\n",
    "    if data['heir_type'] == 'PingTest':\n",
    "        print(data)\n",
    "        nb_tests.append(data)\n"
   ]
  },
  {
   "cell_type": "markdown",
   "metadata": {},
   "source": [
    "## Retrive the results\n",
    "Then we retrieve the results for the past 60 minutes."
   ]
  },
  {
   "cell_type": "code",
   "execution_count": 8,
   "metadata": {},
   "outputs": [
    {
     "name": "stdout",
     "output_type": "stream",
     "text": [
      "2021-07-06 02:18:17.003000\n",
      "2021-07-06 03:18:17.003000\n"
     ]
    }
   ],
   "source": [
    "import time\n",
    "import datetime\n",
    "to_ts = int(time.time() * 1000)\n",
    "from_ts = to_ts - (60 * 60 * 1000)\n",
    "\n",
    "print(datetime.datetime.fromtimestamp(from_ts/1000.0))\n",
    "print(datetime.datetime.fromtimestamp(to_ts/1000.0))\n"
   ]
  },
  {
   "cell_type": "code",
   "execution_count": 9,
   "metadata": {
    "scrolled": false
   },
   "outputs": [],
   "source": [
    "results = []\n",
    "import pandas as pd\n",
    "for nb_test in nb_tests:\n",
    "    url = f\"{base_url}/results.json?nb_test_id={nb_test['id']}&from={from_ts}&to={to_ts}\"\n",
    "    response = requests.request(\"GET\", url, headers=legacy_api_headers, verify=False)\n",
    "    df = pd.json_normalize(json.loads(response.text), 'index')\n",
    "    if df.empty == False :\n",
    "        df['timestamp'] = df['timestamp'].transform(lambda x: datetime.datetime.fromtimestamp(x/1000.0))\n",
    "        df.set_index('id', inplace=True)\n",
    "        results.append(df)\n",
    "    \n",
    "results = pd.concat(results)"
   ]
  },
  {
   "cell_type": "markdown",
   "metadata": {},
   "source": [
    "...and here is a printout of the results:"
   ]
  },
  {
   "cell_type": "code",
   "execution_count": 10,
   "metadata": {
    "scrolled": true
   },
   "outputs": [
    {
     "name": "stdout",
     "output_type": "stream",
     "text": [
      "            value               timestamp  sequence_number  nb_test_id\n",
      "id                                                                    \n",
      "9905711541  12.10 2021-07-06 02:18:18.637          1643884     1667068\n",
      "9905711772  20.40 2021-07-06 02:18:23.852          1643885     1667068\n",
      "9905711878  20.40 2021-07-06 02:18:28.856          1643886     1667068\n",
      "9905712156  20.10 2021-07-06 02:18:33.858          1643887     1667068\n",
      "9905712268  38.40 2021-07-06 02:18:38.865          1643888     1667068\n",
      "...           ...                     ...              ...         ...\n",
      "9905840070   9.75 2021-07-06 03:17:53.055           844807     1688474\n",
      "9905840241   9.57 2021-07-06 03:17:58.073           844808     1688474\n",
      "9905840449   9.75 2021-07-06 03:18:03.077           844809     1688474\n",
      "9905840669   9.74 2021-07-06 03:18:08.082           844810     1688474\n",
      "9905840809   9.67 2021-07-06 03:18:13.083           844811     1688474\n",
      "\n",
      "[3595 rows x 4 columns]\n"
     ]
    }
   ],
   "source": [
    "print(results)"
   ]
  },
  {
   "cell_type": "code",
   "execution_count": 11,
   "metadata": {},
   "outputs": [
    {
     "name": "stdout",
     "output_type": "stream",
     "text": [
      "nb_test_id               1667065  1667068  1688303  1688391  1688474\n",
      "timestamp                                                           \n",
      "2021-07-06 02:18:18.194      NaN      NaN      NaN      NaN    9.340\n",
      "2021-07-06 02:18:18.637      NaN    12.10      NaN      NaN    9.376\n",
      "2021-07-06 02:18:18.871    10.60    13.76      NaN      NaN    9.412\n",
      "2021-07-06 02:18:18.881    10.58    15.42      NaN    105.0    9.448\n",
      "2021-07-06 02:18:19.188    10.56    17.08    214.0    104.5    9.484\n",
      "...                          ...      ...      ...      ...      ...\n",
      "2021-07-06 03:18:13.083    10.42    20.90    223.8    104.0    9.670\n",
      "2021-07-06 03:18:13.394    10.40    21.10    220.6    104.0    9.670\n",
      "2021-07-06 03:18:13.465    10.40    21.30    217.4    104.0    9.670\n",
      "2021-07-06 03:18:13.587    10.40    21.30    214.2    104.0    9.670\n",
      "2021-07-06 03:18:13.904    10.40    21.30    211.0    104.0    9.670\n",
      "\n",
      "[3415 rows x 5 columns]\n"
     ]
    }
   ],
   "source": [
    "results_pivot = results.pivot(index='timestamp', columns='nb_test_id', values='value')\n",
    "pf = results_pivot.interpolate()\n",
    "print(pf)"
   ]
  },
  {
   "cell_type": "code",
   "execution_count": 12,
   "metadata": {},
   "outputs": [
    {
     "data": {
      "text/plain": [
       "<AxesSubplot:xlabel='timestamp'>"
      ]
     },
     "execution_count": 12,
     "metadata": {},
     "output_type": "execute_result"
    },
    {
     "data": {
      "image/png": "[encoded data removed]",
      "text/plain": [
       "<Figure size 432x288 with 1 Axes>"
      ]
     },
     "metadata": {
      "needs_background": "light"
     },
     "output_type": "display_data"
    }
   ],
   "source": [
    "pf.plot()"
   ]
  },
  {
   "cell_type": "markdown",
   "metadata": {},
   "source": [
    "# Example 2: Get the top 10 Agents with the most alerts triggered during the past 24 hours.\n",
    "\n",
    "In this example we will be retrieve all the alerts triggered during the past 24 hours. Then we'll group them by agent and count them on a per agent basis. We then sort and pick the top 10. We then enrich the data with the agent names by fetching them through some extra API calls."
   ]
  },
  {
   "cell_type": "markdown",
   "metadata": {},
   "source": [
    "First we set the timestamps for `from` and `to`"
   ]
  },
  {
   "cell_type": "code",
   "execution_count": 13,
   "metadata": {
    "scrolled": true
   },
   "outputs": [
    {
     "name": "stdout",
     "output_type": "stream",
     "text": [
      "From: 2021-07-05 03:18:19.669000\n",
      "To:   2021-07-06 03:18:19.669000\n"
     ]
    }
   ],
   "source": [
    "import time\n",
    "import datetime\n",
    "to_ts = int(time.time() * 1000)\n",
    "from_ts = to_ts - (24 * 60 * 60 * 1000)\n",
    "\n",
    "print(f\"From: {datetime.datetime.fromtimestamp(from_ts/1000.0)}\")\n",
    "print(f\"To:   {datetime.datetime.fromtimestamp(to_ts/1000.0)}\")"
   ]
  },
  {
   "cell_type": "markdown",
   "metadata": {},
   "source": [
    "We then retrieve the alerts using the `/nb_alerts.json` legacy api from swagger."
   ]
  },
  {
   "cell_type": "code",
   "execution_count": 14,
   "metadata": {
    "scrolled": false
   },
   "outputs": [
    {
     "name": "stdout",
     "output_type": "stream",
     "text": [
      "           id                      message  severity       alert_ts     state  \\\n",
      "0     2129150            Agent back online         6  1625541338616  reported   \n",
      "1     2129149            Agent Unreachable         1  1625541248614  reported   \n",
      "2     2129148                Alert cleared         6  1625541110464  reported   \n",
      "3     2129147                     Time out         1  1625541010260  reported   \n",
      "4     2129146                Alert cleared         6  1625540955837  reported   \n",
      "...       ...                          ...       ...            ...       ...   \n",
      "1093  2128056                Alert cleared         6  1625455447521  reported   \n",
      "1094  2128054                     Time out         1  1625455328266  reported   \n",
      "1095  2128055  Traceroute max hops reached         1  1625455305708  reported   \n",
      "1096  2128053                Alert cleared         6  1625455258985  reported   \n",
      "1097  2128052                Alert cleared         6  1625455213040  reported   \n",
      "\n",
      "      alert_detector_instance_id                created_at  \\\n",
      "0                          30937  2021-07-06T03:15:38.000Z   \n",
      "1                          30937  2021-07-06T03:14:08.000Z   \n",
      "2                          34566  2021-07-06T03:11:54.000Z   \n",
      "3                          34566  2021-07-06T03:10:17.000Z   \n",
      "4                          34538  2021-07-06T03:09:17.000Z   \n",
      "...                          ...                       ...   \n",
      "1093                       34538  2021-07-05T03:24:12.000Z   \n",
      "1094                       34538  2021-07-05T03:22:15.000Z   \n",
      "1095                       34568  2021-07-05T03:22:41.000Z   \n",
      "1096                       34566  2021-07-05T03:21:02.000Z   \n",
      "1097                       34538  2021-07-05T03:20:14.000Z   \n",
      "\n",
      "                    updated_at  opening_nb_alert_id     closed_ts  ...  \\\n",
      "0     2021-07-06T03:15:38.000Z            2129149.0           NaN  ...   \n",
      "1     2021-07-06T03:14:08.000Z                  NaN           NaN  ...   \n",
      "2     2021-07-06T03:11:54.000Z            2129147.0           NaN  ...   \n",
      "3     2021-07-06T03:11:54.000Z                  NaN  1.625541e+12  ...   \n",
      "4     2021-07-06T03:09:17.000Z            2129144.0           NaN  ...   \n",
      "...                        ...                  ...           ...  ...   \n",
      "1093  2021-07-05T03:28:15.000Z            2128054.0  1.625456e+12  ...   \n",
      "1094  2021-07-05T03:24:12.000Z                  NaN  1.625455e+12  ...   \n",
      "1095  2021-07-05T03:26:27.000Z                  NaN  1.625456e+12  ...   \n",
      "1096  2021-07-05T03:26:59.000Z            2128045.0  1.625456e+12  ...   \n",
      "1097  2021-07-05T03:22:15.000Z            2128051.0  1.625455e+12  ...   \n",
      "\n",
      "     target_display_name source_id  source_type opening_alert_severity  \\\n",
      "0                   None       283        Agent                    1.0   \n",
      "1                   None       283        Agent                    NaN   \n",
      "2              baidu.com   1688253       NbTest                    1.0   \n",
      "3              baidu.com   1688253       NbTest                    NaN   \n",
      "4              baidu.com   1688218       NbTest                    1.0   \n",
      "...                  ...       ...          ...                    ...   \n",
      "1093           baidu.com   1688218       NbTest                    1.0   \n",
      "1094           baidu.com   1688218       NbTest                    NaN   \n",
      "1095           baidu.com   1688255       NbTest                    NaN   \n",
      "1096           baidu.com   1688253       NbTest                    1.0   \n",
      "1097           baidu.com   1688218       NbTest                    1.0   \n",
      "\n",
      "      source_agent_id  nb_target_display_name source_test_target  \\\n",
      "0                 NaN                     NaN                NaN   \n",
      "1                 NaN                     NaN                NaN   \n",
      "2               300.0                   Baidu          baidu.com   \n",
      "3               300.0                   Baidu          baidu.com   \n",
      "4               249.0                   Baidu          baidu.com   \n",
      "...               ...                     ...                ...   \n",
      "1093            249.0                   Baidu          baidu.com   \n",
      "1094            249.0                   Baidu          baidu.com   \n",
      "1095            300.0                   Baidu          baidu.com   \n",
      "1096            300.0                   Baidu          baidu.com   \n",
      "1097            249.0                   Baidu          baidu.com   \n",
      "\n",
      "     source_test_type_id  source_nb_target_id  source_nb_test_template_id  \n",
      "0                    NaN                  NaN                         NaN  \n",
      "1                    NaN                  NaN                         NaN  \n",
      "2                    1.0                463.0                      2074.0  \n",
      "3                    1.0                463.0                      2074.0  \n",
      "4                    1.0                463.0                      2074.0  \n",
      "...                  ...                  ...                         ...  \n",
      "1093                 1.0                463.0                      2074.0  \n",
      "1094                 1.0                463.0                      2074.0  \n",
      "1095                 4.0                463.0                      2076.0  \n",
      "1096                 1.0                463.0                      2074.0  \n",
      "1097                 1.0                463.0                      2074.0  \n",
      "\n",
      "[1098 rows x 21 columns]\n"
     ]
    }
   ],
   "source": [
    "url = f\"{base_url}/nb_alerts.json?from={from_ts}&to={to_ts}\"\n",
    "response = requests.request(\"GET\", url, headers=legacy_api_headers, verify=False)\n",
    "\n",
    "df = pd.json_normalize(response.json(), 'current_alerts')\n",
    "print(df)"
   ]
  },
  {
   "cell_type": "markdown",
   "metadata": {},
   "source": [
    "Then we filter out only the alerts with severity less than 5 (faillure alerts have severity 1, and warning alerts have severity 4. When an alert is cleared that event is marked with severity 6). Then count the alerts per agent, and then get the top 10."
   ]
  },
  {
   "cell_type": "code",
   "execution_count": 15,
   "metadata": {
    "scrolled": false
   },
   "outputs": [
    {
     "name": "stdout",
     "output_type": "stream",
     "text": [
      "                 count\n",
      "source_agent_id       \n",
      "249                211\n",
      "300                203\n",
      "54                  19\n",
      "270                  2\n",
      "279                  2\n",
      "319                  2\n",
      "329                  2\n",
      "341                  2\n",
      "280                  1\n",
      "297                  1\n"
     ]
    }
   ],
   "source": [
    "opening_alerts = df[df['severity'] < 5]\n",
    "count_per_agent = opening_alerts[['source_agent_id', 'severity']].groupby(['source_agent_id']).count()\n",
    "count_per_agent = count_per_agent.rename(columns={'severity':'count'})\n",
    "count_per_agent.index = pd.to_numeric(count_per_agent.index, downcast='integer')\n",
    "top_10 = count_per_agent.nlargest(10, columns='count')\n",
    "print(top_10)"
   ]
  },
  {
   "cell_type": "markdown",
   "metadata": {},
   "source": [
    "To convert the agent ids to agent names we then retrieve the agent objects one by one and extract the name strings from those objects."
   ]
  },
  {
   "cell_type": "code",
   "execution_count": 16,
   "metadata": {},
   "outputs": [
    {
     "name": "stdout",
     "output_type": "stream",
     "text": [
      "Done loading names\n"
     ]
    }
   ],
   "source": [
    "agent_names = []\n",
    "for agent_id in top_10.index:\n",
    "    url = f\"{base_url}/agents/{agent_id}.json\"\n",
    "    response = requests.request(\"GET\", url, headers=legacy_api_headers, verify=False)\n",
    "    agent_names.append(response.json()['name'])\n",
    "    \n",
    "print(\"Done loading names\")"
   ]
  },
  {
   "cell_type": "markdown",
   "metadata": {},
   "source": [
    "Finally, we prepare the data for plotting."
   ]
  },
  {
   "cell_type": "code",
   "execution_count": 17,
   "metadata": {},
   "outputs": [
    {
     "name": "stdout",
     "output_type": "stream",
     "text": [
      "                            Alert Count\n",
      "San Jose                            211\n",
      "San Jose - WiFi                     203\n",
      "Cloud - Google                       19\n",
      "Container - AWS                       2\n",
      "Pittsburgh - Wired 2                  2\n",
      "Pittsburgh - SmartSFP                 2\n",
      "DESKTOP-S87JLNG                       2\n",
      "Pittsburgh - Virtual Agent            2\n",
      "Pittsburgh - Wired                    1\n",
      "Pittsburgh - WiFi Main                1\n"
     ]
    }
   ],
   "source": [
    "to_plot = pd.DataFrame(index=agent_names, data=top_10.values, columns=['Alert Count'])\n",
    "to_plot.index.rename('Agents')\n",
    "print(to_plot)"
   ]
  },
  {
   "cell_type": "code",
   "execution_count": 18,
   "metadata": {},
   "outputs": [
    {
     "data": {
      "text/plain": [
       "<AxesSubplot:>"
      ]
     },
     "execution_count": 18,
     "metadata": {},
     "output_type": "execute_result"
    },
    {
     "data": {
      "image/png": "[encoded data removed]",
      "text/plain": [
       "<Figure size 432x288 with 1 Axes>"
      ]
     },
     "metadata": {
      "needs_background": "light"
     },
     "output_type": "display_data"
    }
   ],
   "source": [
    "to_plot.plot.bar()"
   ]
  }
 ],
 "metadata": {
  "interpreter": {
   "hash": "ac2eaa0ea0ebeafcc7822e65e46aa9d4f966f30b695406963e145ea4a91cd4fc"
  },
  "kernelspec": {
   "display_name": "Python 3",
   "language": "python",
   "name": "python3"
  },
  "language_info": {
   "codemirror_mode": {
    "name": "ipython",
    "version": 3
   },
   "file_extension": ".py",
   "mimetype": "text/x-python",
   "name": "python",
   "nbconvert_exporter": "python",
   "pygments_lexer": "ipython3",
   "version": "3.9.5"
  },
  "metadata": {
   "interpreter": {
    "hash": "ac2eaa0ea0ebeafcc7822e65e46aa9d4f966f30b695406963e145ea4a91cd4fc"
   }
  }
 },
 "nbformat": 4,
 "nbformat_minor": 4
}
