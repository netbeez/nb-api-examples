{
 "cells": [
  {
   "cell_type": "markdown",
   "metadata": {},
   "source": [
    "# NetBeez API examples\n",
    "## Example 1: Retrive PING test results from a specific agent for the past 60 minutes\n",
    "## Example 2: Display top 10 agents with most alerts from the last 24 hours"
   ]
  },
  {
   "cell_type": "markdown",
   "metadata": {},
   "source": [
    "This notebook uses a Python environment to demonstrate how a NetBeez user can retrive data from the API and manipulate them and visualize them in a meaningful way.\n",
    "\n",
    "First we describe the setup process for getting data from the API."
   ]
  },
  {
   "cell_type": "markdown",
   "metadata": {},
   "source": [
    "## Setup your NetBeez Beezkeeper details"
   ]
  },
  {
   "cell_type": "markdown",
   "metadata": {},
   "source": [
    "First you need to identify your server's FQDN and generate an API key to use in these examples.\n",
    "\n",
    "If the URL you use to access NetBeez looks like this https://demo.netbeecloud.net then `demo.netbeecloud.net` is the fqdn."
   ]
  },
  {
   "cell_type": "code",
   "execution_count": 1,
   "metadata": {},
   "outputs": [],
   "source": [
    "beezkeeper_fqdn=\"demo.netbeezcloud.net\"  ## <--------- CHANGE THIS TO YOUR INSTANCE FQDN\n",
    "base_url='https://' + beezkeeper_fqdn"
   ]
  },
  {
   "cell_type": "code",
   "execution_count": 2,
   "metadata": {
    "jupyter": {
     "source_hidden": true
    },
    "tags": []
   },
   "outputs": [
    {
     "data": {
      "text/markdown": [
       "For documentation go to https://api.netbeez.net or https://demo.netbeezcloud.net/swagger/"
      ],
      "text/plain": [
       "<IPython.core.display.Markdown object>"
      ]
     },
     "execution_count": 2,
     "metadata": {},
     "output_type": "execute_result"
    }
   ],
   "source": [
    "from IPython.display import Markdown as md\n",
    "\n",
    "md(f\"To generate an API key head over to https://{beezkeeper_fqdn}/#settings-tab/api-keys-settings\")\n",
    "\n",
    "md(f\"For documentation go to https://api.netbeez.net or https://{beezkeeper_fqdn}/swagger/\")"
   ]
  },
  {
   "cell_type": "code",
   "execution_count": 3,
   "metadata": {
    "tags": []
   },
   "outputs": [],
   "source": [
    "api_key=\"7g5_hKXw_460SNKEkJEYlMn1eqw3iTmaus_cCMZ8REhc5MOEtEAx8g\"  # <--------- CHANGE THIS TO YOUR KEY"
   ]
  },
  {
   "cell_type": "markdown",
   "metadata": {},
   "source": [
    "## Setup the headers\n",
    "We define the content type format as JSON and provide the API key that you generated in the previous step as part of the headers."
   ]
  },
  {
   "cell_type": "code",
   "execution_count": 4,
   "metadata": {
    "tags": []
   },
   "outputs": [],
   "source": [
    "import requests\n",
    "import urllib3\n",
    "\n",
    "urllib3.disable_warnings()\n",
    "\n",
    "\n",
    "headers = {\n",
    "            'Cache-Control': 'no-store',\n",
    "            'Content-type': 'application/json',\n",
    "            'Authorization': 'Bearer ' + api_key\n",
    "          }\n",
    "\n",
    "legacy_api_headers = {\n",
    "    'Authorization': api_key,\n",
    "    'API-VERSION': 'v1',\n",
    "    'Content-type': 'application/json'\n",
    "}"
   ]
  },
  {
   "cell_type": "markdown",
   "metadata": {},
   "source": [
    "Note that when the legacy api headers are used it means that we are using the legacy API which is subject to be replaced soon by the new JSON API (documentation here: https://api.netbeez.net)"
   ]
  },
  {
   "cell_type": "markdown",
   "metadata": {},
   "source": [
    "# Example 1: Get NetBeez Agent information and last 24 hours Ping results.\n",
    "\n",
    "In this example we will be searching for an agent by name, then selecting the ping tests that are currently running, and then retriving the raw measurement results for those tests from the past 60 minutes."
   ]
  },
  {
   "cell_type": "markdown",
   "metadata": {},
   "source": [
    "## Retrieve the agent\n",
    "First we set retrieve the agent by search by name using this API endpoint: https://api.netbeez.net/#f3d48709-5344-45b7-af9b-7b92feddd4ec."
   ]
  },
  {
   "cell_type": "code",
   "execution_count": 5,
   "metadata": {},
   "outputs": [],
   "source": [
    "search_name = \"Virtual Agent\"\n",
    "url = f\"{base_url}/agents?filter[name]={search_name}&type=beta\"\n"
   ]
  },
  {
   "cell_type": "code",
   "execution_count": 6,
   "metadata": {},
   "outputs": [
    {
     "name": "stdout",
     "output_type": "stream",
     "text": [
      "{'id': '341', 'type': 'agent', 'attributes': {'name': 'Pittsburgh - Virtual Agent', 'reached_target_test_limit': False, 'reached_scheduled_test_limit': False, 'nb_target_ids': [463, 464, 465, 437, 32], 'nb_test_ids': [1667068, 1667069, 1667070, 1667065, 1667066, 1667067, 1667071, 1688201, 1688302, 1688303, 1688304, 1688305, 1688306, 1688391, 1688392, 1688393, 1688394, 1688395, 1688474, 1688475, 1688476, 1688477, 1688478], 'agent_type_name': 'virtual-model-ova', 'os_version': 'Debian GNU/Linux 8.11 (jessie)', 'kernel_version': '#1 SMP Debian 3.16.51-3 (2017-12-13)', 'created_at': '2021-04-01T19:39:11.000Z', 'uuid': '00:0c:29:09:fa:ee', 'agent_class': 'virtual', 'active': True, 'active_ts': 1631648799161, 'description': None, 'category': 'network_agent', 'software_version': '8.1.1', 'open_incident_id': None, 'test_aggregate_counts_by_type': {'1': {'success': 4, 'fail': 0, 'warning': 1, 'paused': 0, 'unknown': 0}, '2': {'success': 5, 'fail': 0, 'warning': 0, 'paused': 0, 'unknown': 0}, '3': {'success': 5, 'fail': 0, 'warning': 0, 'paused': 0, 'unknown': 0}, '4': {'success': 4, 'fail': 0, 'warning': 0, 'paused': 0, 'unknown': 0}}}, 'relationships': {'scheduled_nb_test_templates': {'data': [{'id': '1', 'type': 'scheduled_nb_test_template'}]}, 'network_interfaces': {'data': [{'id': '387', 'type': 'network_interface'}]}, 'agent_groups': {'data': [{'id': '5', 'type': 'agent_group'}]}}}\n"
     ]
    }
   ],
   "source": [
    "response = requests.request(\"GET\", url, headers=headers, verify=False)\n",
    "\n",
    "import json\n",
    "data = json.loads(response.text)\n",
    "agent = data['data'][0]\n",
    "print(agent)"
   ]
  },
  {
   "cell_type": "markdown",
   "metadata": {},
   "source": [
    "## Retrieve Ping tests\n",
    "Then we iterate through the tests and select the ping tests."
   ]
  },
  {
   "cell_type": "code",
   "execution_count": 7,
   "metadata": {},
   "outputs": [
    {
     "name": "stdout",
     "output_type": "stream",
     "text": [
      "{'id': 1667068, 'target': 'www.google.com', 'count': 0, 'interval': 5, 'timeout': 5, 'start_ts': '2021-04-01T15:39:11.736-04:00', 'created_at': '2021-04-01T19:39:11.000Z', 'updated_at': '2021-09-14T21:50:03.000Z', 'agent_id': 341, 'test_type_id': 1, 'heir_id': 11374, 'heir_type': 'PingTest', 'ad_hoc': False, 'test_name': None, 'nb_test_templatable_type': 'NbTestTemplate', 'nb_test_templatable_id': 99, 'current_alert_mode': 'success', 'wifi_profile_id': None, 'network_interface_id': 387, 'nb_target_id': 32, 'nb_test_template_id': 99, 'schedule_type': 'periodic', 'options': {'data_size': 54, 'dont_fragment': False, 'tos': None, 'port': None, 'ping_type': 2, 'flags': None, 'jitter_mos': True}, 'alert_mode': 'success', 'interface_type': 'wired'}\n",
      "{'id': 1667065, 'target': 'demo-app.netbeezcloud.net', 'count': 0, 'interval': 5, 'timeout': 5, 'start_ts': '2021-04-01T15:39:11.604-04:00', 'created_at': '2021-04-01T19:39:11.000Z', 'updated_at': '2021-09-14T21:50:04.000Z', 'agent_id': 341, 'test_type_id': 1, 'heir_id': 11373, 'heir_type': 'PingTest', 'ad_hoc': False, 'test_name': '', 'nb_test_templatable_type': 'NbTestTemplate', 'nb_test_templatable_id': 1830, 'current_alert_mode': 'success', 'wifi_profile_id': None, 'network_interface_id': 387, 'nb_target_id': 437, 'nb_test_template_id': 1830, 'schedule_type': 'periodic', 'options': {'data_size': 54, 'dont_fragment': False, 'tos': None, 'port': None, 'ping_type': 2, 'flags': None, 'jitter_mos': False}, 'alert_mode': 'success', 'interface_type': 'wired'}\n",
      "{'id': 1688303, 'target': 'baidu.com', 'count': 0, 'interval': 5, 'timeout': 5, 'start_ts': '2021-05-17T23:56:56.125-04:00', 'created_at': '2021-05-18T03:56:56.000Z', 'updated_at': '2021-09-14T21:41:02.000Z', 'agent_id': 341, 'test_type_id': 1, 'heir_id': 11441, 'heir_type': 'PingTest', 'ad_hoc': False, 'test_name': '', 'nb_test_templatable_type': 'NbTestTemplate', 'nb_test_templatable_id': 2074, 'current_alert_mode': 'warning', 'wifi_profile_id': None, 'network_interface_id': 387, 'nb_target_id': 463, 'nb_test_template_id': 2074, 'schedule_type': 'periodic', 'options': {'data_size': 54, 'dont_fragment': False, 'tos': None, 'port': None, 'ping_type': 2, 'flags': None, 'jitter_mos': None}, 'alert_mode': 'warning', 'interface_type': 'wired'}\n",
      "{'id': 1688391, 'target': 'in.gr', 'count': 0, 'interval': 5, 'timeout': 5, 'start_ts': '2021-05-17T23:57:16.957-04:00', 'created_at': '2021-05-18T03:57:16.000Z', 'updated_at': '2021-09-14T21:51:03.000Z', 'agent_id': 341, 'test_type_id': 1, 'heir_id': 11461, 'heir_type': 'PingTest', 'ad_hoc': False, 'test_name': '', 'nb_test_templatable_type': 'NbTestTemplate', 'nb_test_templatable_id': 2078, 'current_alert_mode': 'success', 'wifi_profile_id': None, 'network_interface_id': 387, 'nb_target_id': 464, 'nb_test_template_id': 2078, 'schedule_type': 'periodic', 'options': {'data_size': 54, 'dont_fragment': False, 'tos': None, 'port': None, 'ping_type': 2, 'flags': None, 'jitter_mos': None}, 'alert_mode': 'success', 'interface_type': 'wired'}\n",
      "{'id': 1688474, 'target': 'amazon.com', 'count': 0, 'interval': 5, 'timeout': 5, 'start_ts': '2021-05-18T00:00:42.578-04:00', 'created_at': '2021-05-18T04:00:42.000Z', 'updated_at': '2021-09-14T21:50:03.000Z', 'agent_id': 341, 'test_type_id': 1, 'heir_id': 11477, 'heir_type': 'PingTest', 'ad_hoc': False, 'test_name': '', 'nb_test_templatable_type': 'NbTestTemplate', 'nb_test_templatable_id': 2083, 'current_alert_mode': 'success', 'wifi_profile_id': None, 'network_interface_id': 387, 'nb_target_id': 465, 'nb_test_template_id': 2083, 'schedule_type': 'periodic', 'options': {'data_size': 54, 'dont_fragment': False, 'tos': None, 'port': None, 'ping_type': 2, 'flags': None, 'jitter_mos': None}, 'alert_mode': 'success', 'interface_type': 'wired'}\n"
     ]
    }
   ],
   "source": [
    "nb_tests = []\n",
    "for nb_test_id in agent['attributes']['nb_test_ids']:\n",
    "    url = f\"{base_url}/nb_tests/{nb_test_id}.json\"\n",
    "    response = requests.request(\"GET\", url, headers=legacy_api_headers, verify=False)\n",
    "    data = json.loads(response.text)\n",
    "    if data['heir_type'] == 'PingTest':\n",
    "        print(data)\n",
    "        nb_tests.append(data)\n"
   ]
  },
  {
   "cell_type": "markdown",
   "metadata": {},
   "source": [
    "## Retrive the results\n",
    "Then we retrieve the results for the past 60 minutes."
   ]
  },
  {
   "cell_type": "code",
   "execution_count": 8,
   "metadata": {},
   "outputs": [
    {
     "name": "stdout",
     "output_type": "stream",
     "text": [
      "2021-09-15 02:36:11.471000\n",
      "2021-09-15 03:36:11.471000\n"
     ]
    }
   ],
   "source": [
    "import time\n",
    "import datetime\n",
    "to_ts = int(time.time() * 1000)\n",
    "from_ts = to_ts - (60 * 60 * 1000)\n",
    "\n",
    "print(datetime.datetime.fromtimestamp(from_ts/1000.0))\n",
    "print(datetime.datetime.fromtimestamp(to_ts/1000.0))\n"
   ]
  },
  {
   "cell_type": "code",
   "execution_count": 9,
   "metadata": {
    "scrolled": false
   },
   "outputs": [],
   "source": [
    "results = []\n",
    "import pandas as pd\n",
    "for nb_test in nb_tests:\n",
    "    url = f\"{base_url}/results.json?nb_test_id={nb_test['id']}&from={from_ts}&to={to_ts}\"\n",
    "    response = requests.request(\"GET\", url, headers=legacy_api_headers, verify=False)\n",
    "    df = pd.json_normalize(json.loads(response.text), 'index')\n",
    "    if df.empty == False :\n",
    "        df['timestamp'] = df['timestamp'].transform(lambda x: datetime.datetime.fromtimestamp(x/1000.0))\n",
    "        df.set_index('id', inplace=True)\n",
    "        results.append(df)\n",
    "    \n",
    "results = pd.concat(results)"
   ]
  },
  {
   "cell_type": "markdown",
   "metadata": {},
   "source": [
    "...and here is a printout of the results:"
   ]
  },
  {
   "cell_type": "code",
   "execution_count": 10,
   "metadata": {
    "scrolled": true
   },
   "outputs": [
    {
     "name": "stdout",
     "output_type": "stream",
     "text": [
      "             value               timestamp  sequence_number  nb_test_id\n",
      "id                                                                     \n",
      "10085450741   33.8 2021-09-15 02:36:16.237          2136751     1667068\n",
      "10085450875   11.0 2021-09-15 02:36:21.240          2136752     1667068\n",
      "10085451112   50.1 2021-09-15 02:36:26.244          2136753     1667068\n",
      "10085451247   20.9 2021-09-15 02:36:31.254          2136754     1667068\n",
      "10085451601   11.0 2021-09-15 02:36:36.254          2136755     1667068\n",
      "...            ...                     ...              ...         ...\n",
      "10085581720   10.6 2021-09-15 03:35:50.789          1337630     1688474\n",
      "10085581912   12.1 2021-09-15 03:35:55.791          1337631     1688474\n",
      "10085582096   10.6 2021-09-15 03:36:00.793          1337632     1688474\n",
      "10085582332   16.4 2021-09-15 03:36:05.794          1337633     1688474\n",
      "10085582487   11.6 2021-09-15 03:36:10.800          1337634     1688474\n",
      "\n",
      "[3586 rows x 4 columns]\n"
     ]
    }
   ],
   "source": [
    "print(results)"
   ]
  },
  {
   "cell_type": "code",
   "execution_count": 11,
   "metadata": {},
   "outputs": [
    {
     "name": "stdout",
     "output_type": "stream",
     "text": [
      "nb_test_id               1667065  1667068  1688303  1688391  1688474\n",
      "timestamp                                                           \n",
      "2021-09-15 02:36:11.481      NaN      NaN    202.0      NaN      NaN\n",
      "2021-09-15 02:36:16.217      NaN      NaN    202.0      NaN    34.50\n",
      "2021-09-15 02:36:16.237      NaN     33.8    202.0  122.000    28.55\n",
      "2021-09-15 02:36:16.461   10.500     28.1    202.0  116.375    22.60\n",
      "2021-09-15 02:36:16.482   10.475     22.4    202.0  110.750    16.65\n",
      "...                          ...      ...      ...      ...      ...\n",
      "2021-09-15 03:36:10.746   10.400     13.6    199.4  103.760    13.52\n",
      "2021-09-15 03:36:10.776   10.400     13.5    199.6  102.520    12.56\n",
      "2021-09-15 03:36:10.800   10.400     13.5    199.8  101.280    11.60\n",
      "2021-09-15 03:36:11.145   10.400     13.5    200.0  100.040    11.60\n",
      "2021-09-15 03:36:11.155   10.400     13.5    200.0   98.800    11.60\n",
      "\n",
      "[2963 rows x 5 columns]\n"
     ]
    }
   ],
   "source": [
    "results_pivot = results.pivot(index='timestamp', columns='nb_test_id', values='value')\n",
    "pf = results_pivot.interpolate()\n",
    "print(pf)"
   ]
  },
  {
   "cell_type": "code",
   "execution_count": 12,
   "metadata": {},
   "outputs": [
    {
     "data": {
      "text/plain": [
       "<AxesSubplot:xlabel='timestamp'>"
      ]
     },
     "execution_count": 12,
     "metadata": {},
     "output_type": "execute_result"
    },
    {
     "data": {
      "image/png": "[encoded data removed]",
      "text/plain": [
       "<Figure size 432x288 with 1 Axes>"
      ]
     },
     "metadata": {
      "needs_background": "light"
     },
     "output_type": "display_data"
    }
   ],
   "source": [
    "pf.plot()"
   ]
  },
  {
   "cell_type": "markdown",
   "metadata": {},
   "source": [
    "# Example 2: Get the top 10 Agents with the most alerts triggered during the past 24 hours.\n",
    "\n",
    "In this example we will be retrieve all the alerts triggered during the past 24 hours. Then we'll group them by agent and count them on a per agent basis. We then sort and pick the top 10. We then enrich the data with the agent names by fetching them through some extra API calls."
   ]
  },
  {
   "cell_type": "markdown",
   "metadata": {},
   "source": [
    "First we set the timestamps for `from` and `to`"
   ]
  },
  {
   "cell_type": "code",
   "execution_count": 13,
   "metadata": {
    "scrolled": true
   },
   "outputs": [
    {
     "name": "stdout",
     "output_type": "stream",
     "text": [
      "From: 2021-09-11 03:36:25.776000\n",
      "To:   2021-09-12 03:36:25.776000\n"
     ]
    }
   ],
   "source": [
    "import time\n",
    "import datetime\n",
    "to_ts = int(time.time() * 1000 - 3 * 24 * 60 * 60 * 1000)\n",
    "from_ts = to_ts - (24 * 60 * 60 * 1000)\n",
    "\n",
    "print(f\"From: {datetime.datetime.fromtimestamp(from_ts/1000.0)}\")\n",
    "print(f\"To:   {datetime.datetime.fromtimestamp(to_ts/1000.0)}\")"
   ]
  },
  {
   "cell_type": "markdown",
   "metadata": {},
   "source": [
    "We then retrieve the alerts using the `/nb_alerts.json` legacy api from swagger."
   ]
  },
  {
   "cell_type": "code",
   "execution_count": 14,
   "metadata": {
    "scrolled": false
   },
   "outputs": [
    {
     "name": "stdout",
     "output_type": "stream",
     "text": [
      "          id                                            message  severity  \\\n",
      "0    2171621  Agent connected to Access point: SSID: netbeez...         6   \n",
      "1    2171620  Agent disconnected from Access point: SSID: Th...         1   \n",
      "2    2171619                                      Alert cleared         6   \n",
      "3    2171618                                           Time out         1   \n",
      "4    2171617                 Send failure: Connection was reset         1   \n",
      "..       ...                                                ...       ...   \n",
      "439  2171182                                      Alert cleared         6   \n",
      "440  2171181                                      Alert cleared         6   \n",
      "441  2171180  Operation timed out after 5000 milliseconds wi...         1   \n",
      "442  2171179  schannel: failed to receive handshake, SSL/TLS...         1   \n",
      "443  2171178  schannel: failed to receive handshake, SSL/TLS...         1   \n",
      "\n",
      "          alert_ts     state  alert_detector_instance_id  \\\n",
      "0    1631417504604  reported                       34949   \n",
      "1    1631417492528  reported                       34949   \n",
      "2    1631416837478  reported                       34550   \n",
      "3    1631416757367  reported                       34550   \n",
      "4    1631416602643  reported                       34591   \n",
      "..             ...       ...                         ...   \n",
      "439  1631332489881  reported                       34543   \n",
      "440  1631332340913  reported                       34753   \n",
      "441  1631332179688  reported                       34543   \n",
      "442  1631332160575  reported                       34591   \n",
      "443  1631331782277  reported                       34753   \n",
      "\n",
      "                   created_at                updated_at  opening_nb_alert_id  \\\n",
      "0    2021-09-12T03:31:44.000Z  2021-09-12T03:31:44.000Z            2171620.0   \n",
      "1    2021-09-12T03:31:32.000Z  2021-09-12T03:31:32.000Z                  NaN   \n",
      "2    2021-09-12T03:20:39.000Z  2021-09-12T06:19:54.000Z            2171618.0   \n",
      "3    2021-09-12T03:19:25.000Z  2021-09-12T03:20:39.000Z                  NaN   \n",
      "4    2021-09-12T03:16:47.000Z  2021-09-12T04:07:11.000Z                  NaN   \n",
      "..                        ...                       ...                  ...   \n",
      "439  2021-09-11T03:54:52.000Z  2021-09-11T06:03:08.000Z            2171180.0   \n",
      "440  2021-09-11T03:52:25.000Z  2021-09-11T04:26:31.000Z            2171178.0   \n",
      "441  2021-09-11T03:49:45.000Z  2021-09-11T03:54:52.000Z                  NaN   \n",
      "442  2021-09-11T03:49:26.000Z  2021-09-11T04:07:05.000Z                  NaN   \n",
      "443  2021-09-11T03:43:04.000Z  2021-09-11T03:52:25.000Z                  NaN   \n",
      "\n",
      "        closed_ts  ... target_display_name source_id  source_type  \\\n",
      "0             NaN  ...                None       345        Agent   \n",
      "1             NaN  ...                None       345        Agent   \n",
      "2    1.631428e+12  ...           baidu.com   1688233       NbTest   \n",
      "3    1.631417e+12  ...           baidu.com   1688233       NbTest   \n",
      "4    1.631420e+12  ...   https://baidu.com   1688284       NbTest   \n",
      "..            ...  ...                 ...       ...          ...   \n",
      "439  1.631340e+12  ...   https://baidu.com   1688224       NbTest   \n",
      "440  1.631334e+12  ...   https://baidu.com   1691837       NbTest   \n",
      "441  1.631332e+12  ...   https://baidu.com   1688224       NbTest   \n",
      "442  1.631333e+12  ...   https://baidu.com   1688284       NbTest   \n",
      "443  1.631332e+12  ...   https://baidu.com   1691837       NbTest   \n",
      "\n",
      "    opening_alert_severity  source_agent_id  nb_target_display_name  \\\n",
      "0                      1.0              NaN                     NaN   \n",
      "1                      NaN              NaN                     NaN   \n",
      "2                      1.0            280.0                   Baidu   \n",
      "3                      NaN            280.0                   Baidu   \n",
      "4                      NaN            334.0                   Baidu   \n",
      "..                     ...              ...                     ...   \n",
      "439                    1.0            270.0                   Baidu   \n",
      "440                    1.0            325.0                   Baidu   \n",
      "441                    NaN            270.0                   Baidu   \n",
      "442                    NaN            334.0                   Baidu   \n",
      "443                    NaN            325.0                   Baidu   \n",
      "\n",
      "    source_test_target source_test_type_id  source_nb_target_id  \\\n",
      "0                  NaN                 NaN                  NaN   \n",
      "1                  NaN                 NaN                  NaN   \n",
      "2            baidu.com                 1.0                463.0   \n",
      "3            baidu.com                 1.0                463.0   \n",
      "4    https://baidu.com                 3.0                463.0   \n",
      "..                 ...                 ...                  ...   \n",
      "439  https://baidu.com                 3.0                463.0   \n",
      "440  https://baidu.com                 3.0                463.0   \n",
      "441  https://baidu.com                 3.0                463.0   \n",
      "442  https://baidu.com                 3.0                463.0   \n",
      "443  https://baidu.com                 3.0                463.0   \n",
      "\n",
      "     source_nb_test_template_id  \n",
      "0                           NaN  \n",
      "1                           NaN  \n",
      "2                        2074.0  \n",
      "3                        2074.0  \n",
      "4                        2075.0  \n",
      "..                          ...  \n",
      "439                      2075.0  \n",
      "440                      2075.0  \n",
      "441                      2075.0  \n",
      "442                      2075.0  \n",
      "443                      2075.0  \n",
      "\n",
      "[444 rows x 21 columns]\n"
     ]
    }
   ],
   "source": [
    "url = f\"{base_url}/nb_alerts.json?from={from_ts}&to={to_ts}\"\n",
    "response = requests.request(\"GET\", url, headers=legacy_api_headers, verify=False)\n",
    "\n",
    "df = pd.json_normalize(response.json(), 'current_alerts')\n",
    "print(df)"
   ]
  },
  {
   "cell_type": "markdown",
   "metadata": {},
   "source": [
    "Then we filter out only the alerts with severity less than 5 (faillure alerts have severity 1, and warning alerts have severity 4. When an alert is cleared that event is marked with severity 6). Then count the alerts per agent, and then get the top 10."
   ]
  },
  {
   "cell_type": "code",
   "execution_count": 15,
   "metadata": {
    "scrolled": false
   },
   "outputs": [
    {
     "name": "stdout",
     "output_type": "stream",
     "text": [
      "                 count\n",
      "source_agent_id       \n",
      "334                 90\n",
      "325                 33\n",
      "328                 25\n",
      "270                 18\n",
      "54                  14\n",
      "300                 11\n",
      "249                  8\n",
      "319                  7\n",
      "280                  5\n",
      "297                  4\n"
     ]
    }
   ],
   "source": [
    "opening_alerts = df[df['severity'] < 5]\n",
    "count_per_agent = opening_alerts[['source_agent_id', 'severity']].groupby(['source_agent_id']).count()\n",
    "count_per_agent = count_per_agent.rename(columns={'severity':'count'})\n",
    "count_per_agent.index = pd.to_numeric(count_per_agent.index, downcast='integer')\n",
    "top_10 = count_per_agent.nlargest(10, columns='count')\n",
    "print(top_10)"
   ]
  },
  {
   "cell_type": "markdown",
   "metadata": {},
   "source": [
    "### Enrich the data with speedtest results:"
   ]
  },
  {
   "cell_type": "code",
   "execution_count": 16,
   "metadata": {
    "scrolled": false
   },
   "outputs": [
    {
     "name": "stdout",
     "output_type": "stream",
     "text": [
      "{'data': [{'id': '1', 'type': 'scheduled_nb_test_template', 'attributes': {'label': 'Internet Bandwidth', 'target': '', 'test_type_id': 7, 'cron_schedule': '0 * * * *', 'pause_other_tests': True, 'heir_type': 'SpeedtestTemplate', 'created_at': '2016-08-11T21:43:39.000Z', 'configuration': {'server': '', 'secure': True, 'mini_server': None, 'speedtest_type': 1}, 'warning_conditions': {'or': [{'<': [{'var': 'down'}, 10]}, {'<': [{'var': 'up'}, 10]}, {'>': [{'var': 'latency'}, 80]}]}, 'last_result': {'min_severity': 1, 'error_count': 3, 'warning_count': 1, 'ts': 1631674800000, 'avg_result_values': [{'key': 'latency', 'value': 35.08592370840219}, {'key': 'up', 'value': 45.53846157514132}, {'key': 'down', 'value': 147.9007654923659}]}}, 'relationships': {'agents': {'data': [{'id': '280', 'type': 'agent'}, {'id': '305', 'type': 'agent'}, {'id': '226', 'type': 'agent'}, {'id': '54', 'type': 'agent'}, {'id': '341', 'type': 'agent'}, {'id': '325', 'type': 'agent'}, {'id': '334', 'type': 'agent'}, {'id': '339', 'type': 'agent'}, {'id': '352', 'type': 'agent'}, {'id': '345', 'type': 'agent'}, {'id': '249', 'type': 'agent'}, {'id': '279', 'type': 'agent'}, {'id': '297', 'type': 'agent'}, {'id': '328', 'type': 'agent'}, {'id': '338', 'type': 'agent'}, {'id': '342', 'type': 'agent'}, {'id': '343', 'type': 'agent'}, {'id': '357', 'type': 'agent'}]}}}], 'meta': {'page': {'offset': 1, 'limit': 25, 'total': 1}}}\n"
     ]
    }
   ],
   "source": [
    "search_term='Internet Bandwidth'\n",
    "url = f\"{base_url}/scheduled_nb_test_templates?filter[label]={search_term}\"\n",
    "\n",
    "response = requests.request(\"GET\", url, headers=legacy_api_headers, verify=False)\n",
    "scheduled_test_templates=response.json()\n",
    "print(scheduled_test_templates)"
   ]
  },
  {
   "cell_type": "code",
   "execution_count": 17,
   "metadata": {},
   "outputs": [],
   "source": [
    "scheduled_nb_test_template_id = scheduled_test_templates['data'][0]['id']\n",
    "\n",
    "agent_ids = ','.join(top_10.index.array.astype('str'))\n",
    "\n"
   ]
  },
  {
   "cell_type": "code",
   "execution_count": 18,
   "metadata": {},
   "outputs": [
    {
     "name": "stdout",
     "output_type": "stream",
     "text": [
      "{'data': [{'id': '1330511', 'type': 'scheduled_nb_test_result', 'attributes': {'error_message': None, 'severity': 6, 'ts': 1623816000000, 'ssid': None, 'result_values': [{'key': 'down', 'value': 46.83}, {'key': 'latency', 'value': 6.294}, {'key': 'up', 'value': 71.72}], 'violated_condition': None}, 'relationships': {'agent': {'data': {'id': '280', 'type': 'agent'}}, 'nb_test': {'data': {'id': '1698646', 'type': 'nb_test'}}, 'scheduled_nb_test_template': {'data': {'id': '1', 'type': 'scheduled_nb_test_template'}}}}, {'id': '1330514', 'type': 'scheduled_nb_test_result', 'attributes': {'error_message': None, 'severity': 6, 'ts': 1623817500000, 'ssid': None, 'result_values': [{'key': 'down', 'value': 73.24}, {'key': 'latency', 'value': 6.012}, {'key': 'up', 'value': 92.53}], 'violated_condition': None}, 'relationships': {'agent': {'data': {'id': '280', 'type': 'agent'}}, 'nb_test': {'data': {'id': '1698653', 'type': 'nb_test'}}, 'scheduled_nb_test_template': {'data': {'id': '1', 'type': 'scheduled_nb_test_template'}}}}, {'id': '1330516', 'type': 'scheduled_nb_test_result', 'attributes': {'error_message': None, 'severity': 6, 'ts': 1623818100000, 'ssid': None, 'result_values': [{'key': 'down', 'value': 79.59}, {'key': 'latency', 'value': 5.911}, {'key': 'up', 'value': 93.14}], 'violated_condition': None}, 'relationships': {'agent': {'data': {'id': '280', 'type': 'agent'}}, 'nb_test': {'data': {'id': '1698656', 'type': 'nb_test'}}, 'scheduled_nb_test_template': {'data': {'id': '1', 'type': 'scheduled_nb_test_template'}}}}, {'id': '1330518', 'type': 'scheduled_nb_test_result', 'attributes': {'error_message': None, 'severity': 6, 'ts': 1623819600000, 'ssid': None, 'result_values': [{'key': 'down', 'value': 91.51}, {'key': 'latency', 'value': 5.844}, {'key': 'up', 'value': 93.26}], 'violated_condition': None}, 'relationships': {'agent': {'data': {'id': '280', 'type': 'agent'}}, 'nb_test': {'data': {'id': '1698658', 'type': 'nb_test'}}, 'scheduled_nb_test_template': {'data': {'id': '1', 'type': 'scheduled_nb_test_template'}}}}, {'id': '1330521', 'type': 'scheduled_nb_test_result', 'attributes': {'error_message': None, 'severity': 6, 'ts': 1623821100000, 'ssid': None, 'result_values': [{'key': 'down', 'value': 75.34}, {'key': 'latency', 'value': 9.076}, {'key': 'up', 'value': 91.1}], 'violated_condition': None}, 'relationships': {'agent': {'data': {'id': '280', 'type': 'agent'}}, 'nb_test': {'data': {'id': '1698664', 'type': 'nb_test'}}, 'scheduled_nb_test_template': {'data': {'id': '1', 'type': 'scheduled_nb_test_template'}}}}, {'id': '1330523', 'type': 'scheduled_nb_test_result', 'attributes': {'error_message': None, 'severity': 6, 'ts': 1623821700000, 'ssid': None, 'result_values': [{'key': 'down', 'value': 73.98}, {'key': 'latency', 'value': 7.63}, {'key': 'up', 'value': 93.55}], 'violated_condition': None}, 'relationships': {'agent': {'data': {'id': '280', 'type': 'agent'}}, 'nb_test': {'data': {'id': '1698669', 'type': 'nb_test'}}, 'scheduled_nb_test_template': {'data': {'id': '1', 'type': 'scheduled_nb_test_template'}}}}, {'id': '1330525', 'type': 'scheduled_nb_test_result', 'attributes': {'error_message': None, 'severity': 6, 'ts': 1623823200000, 'ssid': None, 'result_values': [{'key': 'down', 'value': 92.0}, {'key': 'latency', 'value': 5.644}, {'key': 'up', 'value': 93.32}], 'violated_condition': None}, 'relationships': {'agent': {'data': {'id': '280', 'type': 'agent'}}, 'nb_test': {'data': {'id': '1698670', 'type': 'nb_test'}}, 'scheduled_nb_test_template': {'data': {'id': '1', 'type': 'scheduled_nb_test_template'}}}}, {'id': '1330528', 'type': 'scheduled_nb_test_result', 'attributes': {'error_message': None, 'severity': 6, 'ts': 1623824700000, 'ssid': None, 'result_values': [{'key': 'down', 'value': 75.15}, {'key': 'latency', 'value': 7.911}, {'key': 'up', 'value': 93.13}], 'violated_condition': None}, 'relationships': {'agent': {'data': {'id': '280', 'type': 'agent'}}, 'nb_test': {'data': {'id': '1698676', 'type': 'nb_test'}}, 'scheduled_nb_test_template': {'data': {'id': '1', 'type': 'scheduled_nb_test_template'}}}}, {'id': '1330530', 'type': 'scheduled_nb_test_result', 'attributes': {'error_message': None, 'severity': 6, 'ts': 1623825300000, 'ssid': None, 'result_values': [{'key': 'down', 'value': 81.44}, {'key': 'latency', 'value': 5.917}, {'key': 'up', 'value': 92.91}], 'violated_condition': None}, 'relationships': {'agent': {'data': {'id': '280', 'type': 'agent'}}, 'nb_test': {'data': {'id': '1698680', 'type': 'nb_test'}}, 'scheduled_nb_test_template': {'data': {'id': '1', 'type': 'scheduled_nb_test_template'}}}}, {'id': '1330532', 'type': 'scheduled_nb_test_result', 'attributes': {'error_message': None, 'severity': 6, 'ts': 1623826800000, 'ssid': None, 'result_values': [{'key': 'down', 'value': 91.86}, {'key': 'latency', 'value': 6.026}, {'key': 'up', 'value': 92.92}], 'violated_condition': None}, 'relationships': {'agent': {'data': {'id': '280', 'type': 'agent'}}, 'nb_test': {'data': {'id': '1698682', 'type': 'nb_test'}}, 'scheduled_nb_test_template': {'data': {'id': '1', 'type': 'scheduled_nb_test_template'}}}}, {'id': '1330535', 'type': 'scheduled_nb_test_result', 'attributes': {'error_message': None, 'severity': 6, 'ts': 1623828300000, 'ssid': None, 'result_values': [{'key': 'down', 'value': 68.83}, {'key': 'latency', 'value': 5.818}, {'key': 'up', 'value': 93.61}], 'violated_condition': None}, 'relationships': {'agent': {'data': {'id': '280', 'type': 'agent'}}, 'nb_test': {'data': {'id': '1698689', 'type': 'nb_test'}}, 'scheduled_nb_test_template': {'data': {'id': '1', 'type': 'scheduled_nb_test_template'}}}}, {'id': '1330537', 'type': 'scheduled_nb_test_result', 'attributes': {'error_message': None, 'severity': 6, 'ts': 1623828900000, 'ssid': None, 'result_values': [{'key': 'down', 'value': 75.02}, {'key': 'latency', 'value': 5.826}, {'key': 'up', 'value': 93.21}], 'violated_condition': None}, 'relationships': {'agent': {'data': {'id': '280', 'type': 'agent'}}, 'nb_test': {'data': {'id': '1698692', 'type': 'nb_test'}}, 'scheduled_nb_test_template': {'data': {'id': '1', 'type': 'scheduled_nb_test_template'}}}}, {'id': '1330539', 'type': 'scheduled_nb_test_result', 'attributes': {'error_message': None, 'severity': 6, 'ts': 1623830400000, 'ssid': None, 'result_values': [{'key': 'down', 'value': 91.92}, {'key': 'latency', 'value': 6.003}, {'key': 'up', 'value': 93.3}], 'violated_condition': None}, 'relationships': {'agent': {'data': {'id': '280', 'type': 'agent'}}, 'nb_test': {'data': {'id': '1698694', 'type': 'nb_test'}}, 'scheduled_nb_test_template': {'data': {'id': '1', 'type': 'scheduled_nb_test_template'}}}}, {'id': '1330542', 'type': 'scheduled_nb_test_result', 'attributes': {'error_message': None, 'severity': 6, 'ts': 1623831900000, 'ssid': None, 'result_values': [{'key': 'down', 'value': 69.9}, {'key': 'latency', 'value': 5.841}, {'key': 'up', 'value': 37.33}], 'violated_condition': None}, 'relationships': {'agent': {'data': {'id': '280', 'type': 'agent'}}, 'nb_test': {'data': {'id': '1698700', 'type': 'nb_test'}}, 'scheduled_nb_test_template': {'data': {'id': '1', 'type': 'scheduled_nb_test_template'}}}}, {'id': '1330544', 'type': 'scheduled_nb_test_result', 'attributes': {'error_message': None, 'severity': 6, 'ts': 1623832500000, 'ssid': None, 'result_values': [{'key': 'down', 'value': 80.5}, {'key': 'latency', 'value': 5.886}, {'key': 'up', 'value': 89.0}], 'violated_condition': None}, 'relationships': {'agent': {'data': {'id': '280', 'type': 'agent'}}, 'nb_test': {'data': {'id': '1698704', 'type': 'nb_test'}}, 'scheduled_nb_test_template': {'data': {'id': '1', 'type': 'scheduled_nb_test_template'}}}}, {'id': '1330546', 'type': 'scheduled_nb_test_result', 'attributes': {'error_message': None, 'severity': 6, 'ts': 1623834000000, 'ssid': None, 'result_values': [{'key': 'down', 'value': 51.41}, {'key': 'latency', 'value': 48.343}, {'key': 'up', 'value': 82.03}], 'violated_condition': None}, 'relationships': {'agent': {'data': {'id': '280', 'type': 'agent'}}, 'nb_test': {'data': {'id': '1698706', 'type': 'nb_test'}}, 'scheduled_nb_test_template': {'data': {'id': '1', 'type': 'scheduled_nb_test_template'}}}}, {'id': '1330549', 'type': 'scheduled_nb_test_result', 'attributes': {'error_message': None, 'severity': 6, 'ts': 1623835500000, 'ssid': None, 'result_values': [{'key': 'down', 'value': 73.1}, {'key': 'latency', 'value': 6.722}, {'key': 'up', 'value': 92.94}], 'violated_condition': None}, 'relationships': {'agent': {'data': {'id': '280', 'type': 'agent'}}, 'nb_test': {'data': {'id': '1698712', 'type': 'nb_test'}}, 'scheduled_nb_test_template': {'data': {'id': '1', 'type': 'scheduled_nb_test_template'}}}}, {'id': '1330551', 'type': 'scheduled_nb_test_result', 'attributes': {'error_message': None, 'severity': 6, 'ts': 1623836100000, 'ssid': None, 'result_values': [{'key': 'down', 'value': 71.81}, {'key': 'latency', 'value': 5.851}, {'key': 'up', 'value': 93.36}], 'violated_condition': None}, 'relationships': {'agent': {'data': {'id': '280', 'type': 'agent'}}, 'nb_test': {'data': {'id': '1698717', 'type': 'nb_test'}}, 'scheduled_nb_test_template': {'data': {'id': '1', 'type': 'scheduled_nb_test_template'}}}}, {'id': '1330553', 'type': 'scheduled_nb_test_result', 'attributes': {'error_message': None, 'severity': 6, 'ts': 1623837600000, 'ssid': None, 'result_values': [{'key': 'down', 'value': 91.57}, {'key': 'latency', 'value': 5.664}, {'key': 'up', 'value': 92.68}], 'violated_condition': None}, 'relationships': {'agent': {'data': {'id': '280', 'type': 'agent'}}, 'nb_test': {'data': {'id': '1698719', 'type': 'nb_test'}}, 'scheduled_nb_test_template': {'data': {'id': '1', 'type': 'scheduled_nb_test_template'}}}}, {'id': '1330556', 'type': 'scheduled_nb_test_result', 'attributes': {'error_message': None, 'severity': 6, 'ts': 1623839100000, 'ssid': None, 'result_values': [{'key': 'down', 'value': 75.53}, {'key': 'latency', 'value': 5.894}, {'key': 'up', 'value': 70.95}], 'violated_condition': None}, 'relationships': {'agent': {'data': {'id': '280', 'type': 'agent'}}, 'nb_test': {'data': {'id': '1698724', 'type': 'nb_test'}}, 'scheduled_nb_test_template': {'data': {'id': '1', 'type': 'scheduled_nb_test_template'}}}}, {'id': '1330558', 'type': 'scheduled_nb_test_result', 'attributes': {'error_message': None, 'severity': 6, 'ts': 1623839700000, 'ssid': None, 'result_values': [{'key': 'down', 'value': 77.02}, {'key': 'latency', 'value': 7.129}, {'key': 'up', 'value': 92.62}], 'violated_condition': None}, 'relationships': {'agent': {'data': {'id': '280', 'type': 'agent'}}, 'nb_test': {'data': {'id': '1698728', 'type': 'nb_test'}}, 'scheduled_nb_test_template': {'data': {'id': '1', 'type': 'scheduled_nb_test_template'}}}}, {'id': '1330560', 'type': 'scheduled_nb_test_result', 'attributes': {'error_message': None, 'severity': 6, 'ts': 1623841200000, 'ssid': None, 'result_values': [{'key': 'down', 'value': 91.74}, {'key': 'latency', 'value': 6.311}, {'key': 'up', 'value': 93.36}], 'violated_condition': None}, 'relationships': {'agent': {'data': {'id': '280', 'type': 'agent'}}, 'nb_test': {'data': {'id': '1698731', 'type': 'nb_test'}}, 'scheduled_nb_test_template': {'data': {'id': '1', 'type': 'scheduled_nb_test_template'}}}}, {'id': '1330564', 'type': 'scheduled_nb_test_result', 'attributes': {'error_message': None, 'severity': 6, 'ts': 1623842700000, 'ssid': None, 'result_values': [{'key': 'down', 'value': 73.43}, {'key': 'latency', 'value': 6.423}, {'key': 'up', 'value': 91.87}], 'violated_condition': None}, 'relationships': {'agent': {'data': {'id': '280', 'type': 'agent'}}, 'nb_test': {'data': {'id': '1698736', 'type': 'nb_test'}}, 'scheduled_nb_test_template': {'data': {'id': '1', 'type': 'scheduled_nb_test_template'}}}}, {'id': '1330567', 'type': 'scheduled_nb_test_result', 'attributes': {'error_message': None, 'severity': 6, 'ts': 1623843300000, 'ssid': None, 'result_values': [{'key': 'down', 'value': 84.9}, {'key': 'latency', 'value': 6.653}, {'key': 'up', 'value': 94.18}], 'violated_condition': None}, 'relationships': {'agent': {'data': {'id': '280', 'type': 'agent'}}, 'nb_test': {'data': {'id': '1698740', 'type': 'nb_test'}}, 'scheduled_nb_test_template': {'data': {'id': '1', 'type': 'scheduled_nb_test_template'}}}}, {'id': '1330569', 'type': 'scheduled_nb_test_result', 'attributes': {'error_message': None, 'severity': 6, 'ts': 1623844800000, 'ssid': None, 'result_values': [{'key': 'down', 'value': 92.34}, {'key': 'latency', 'value': 12.864}, {'key': 'up', 'value': 59.25}], 'violated_condition': None}, 'relationships': {'agent': {'data': {'id': '280', 'type': 'agent'}}, 'nb_test': {'data': {'id': '1698743', 'type': 'nb_test'}}, 'scheduled_nb_test_template': {'data': {'id': '1', 'type': 'scheduled_nb_test_template'}}}}], 'meta': {'page': {'offset': 1, 'limit': 25, 'total': 380}}}\n"
     ]
    }
   ],
   "source": [
    "url = f\"{base_url}/scheduled_nb_test_templates/{scheduled_nb_test_template_id}/results?filter[ts][value1]={from_ts}&filter[ts][value1]={to_ts}&filter[ts][operator]<=>&filter[agent_ids]={agent_ids}\"\n",
    "\n",
    "response = requests.request(\"GET\", url, headers=legacy_api_headers, verify=False)\n",
    "\n",
    "print(response.json())"
   ]
  },
  {
   "cell_type": "code",
   "execution_count": 19,
   "metadata": {},
   "outputs": [
    {
     "name": "stdout",
     "output_type": "stream",
     "text": [
      "         id                      type attributes.error_message  \\\n",
      "0   1330511  scheduled_nb_test_result                     None   \n",
      "1   1330514  scheduled_nb_test_result                     None   \n",
      "2   1330516  scheduled_nb_test_result                     None   \n",
      "3   1330518  scheduled_nb_test_result                     None   \n",
      "4   1330521  scheduled_nb_test_result                     None   \n",
      "5   1330523  scheduled_nb_test_result                     None   \n",
      "6   1330525  scheduled_nb_test_result                     None   \n",
      "7   1330528  scheduled_nb_test_result                     None   \n",
      "8   1330530  scheduled_nb_test_result                     None   \n",
      "9   1330532  scheduled_nb_test_result                     None   \n",
      "10  1330535  scheduled_nb_test_result                     None   \n",
      "11  1330537  scheduled_nb_test_result                     None   \n",
      "12  1330539  scheduled_nb_test_result                     None   \n",
      "13  1330542  scheduled_nb_test_result                     None   \n",
      "14  1330544  scheduled_nb_test_result                     None   \n",
      "15  1330546  scheduled_nb_test_result                     None   \n",
      "16  1330549  scheduled_nb_test_result                     None   \n",
      "17  1330551  scheduled_nb_test_result                     None   \n",
      "18  1330553  scheduled_nb_test_result                     None   \n",
      "19  1330556  scheduled_nb_test_result                     None   \n",
      "20  1330558  scheduled_nb_test_result                     None   \n",
      "21  1330560  scheduled_nb_test_result                     None   \n",
      "22  1330564  scheduled_nb_test_result                     None   \n",
      "23  1330567  scheduled_nb_test_result                     None   \n",
      "24  1330569  scheduled_nb_test_result                     None   \n",
      "\n",
      "    attributes.severity  attributes.ts attributes.ssid  \\\n",
      "0                     6  1623816000000            None   \n",
      "1                     6  1623817500000            None   \n",
      "2                     6  1623818100000            None   \n",
      "3                     6  1623819600000            None   \n",
      "4                     6  1623821100000            None   \n",
      "5                     6  1623821700000            None   \n",
      "6                     6  1623823200000            None   \n",
      "7                     6  1623824700000            None   \n",
      "8                     6  1623825300000            None   \n",
      "9                     6  1623826800000            None   \n",
      "10                    6  1623828300000            None   \n",
      "11                    6  1623828900000            None   \n",
      "12                    6  1623830400000            None   \n",
      "13                    6  1623831900000            None   \n",
      "14                    6  1623832500000            None   \n",
      "15                    6  1623834000000            None   \n",
      "16                    6  1623835500000            None   \n",
      "17                    6  1623836100000            None   \n",
      "18                    6  1623837600000            None   \n",
      "19                    6  1623839100000            None   \n",
      "20                    6  1623839700000            None   \n",
      "21                    6  1623841200000            None   \n",
      "22                    6  1623842700000            None   \n",
      "23                    6  1623843300000            None   \n",
      "24                    6  1623844800000            None   \n",
      "\n",
      "                             attributes.result_values  \\\n",
      "0   [{'key': 'down', 'value': 46.83}, {'key': 'lat...   \n",
      "1   [{'key': 'down', 'value': 73.24}, {'key': 'lat...   \n",
      "2   [{'key': 'down', 'value': 79.59}, {'key': 'lat...   \n",
      "3   [{'key': 'down', 'value': 91.51}, {'key': 'lat...   \n",
      "4   [{'key': 'down', 'value': 75.34}, {'key': 'lat...   \n",
      "5   [{'key': 'down', 'value': 73.98}, {'key': 'lat...   \n",
      "6   [{'key': 'down', 'value': 92.0}, {'key': 'late...   \n",
      "7   [{'key': 'down', 'value': 75.15}, {'key': 'lat...   \n",
      "8   [{'key': 'down', 'value': 81.44}, {'key': 'lat...   \n",
      "9   [{'key': 'down', 'value': 91.86}, {'key': 'lat...   \n",
      "10  [{'key': 'down', 'value': 68.83}, {'key': 'lat...   \n",
      "11  [{'key': 'down', 'value': 75.02}, {'key': 'lat...   \n",
      "12  [{'key': 'down', 'value': 91.92}, {'key': 'lat...   \n",
      "13  [{'key': 'down', 'value': 69.9}, {'key': 'late...   \n",
      "14  [{'key': 'down', 'value': 80.5}, {'key': 'late...   \n",
      "15  [{'key': 'down', 'value': 51.41}, {'key': 'lat...   \n",
      "16  [{'key': 'down', 'value': 73.1}, {'key': 'late...   \n",
      "17  [{'key': 'down', 'value': 71.81}, {'key': 'lat...   \n",
      "18  [{'key': 'down', 'value': 91.57}, {'key': 'lat...   \n",
      "19  [{'key': 'down', 'value': 75.53}, {'key': 'lat...   \n",
      "20  [{'key': 'down', 'value': 77.02}, {'key': 'lat...   \n",
      "21  [{'key': 'down', 'value': 91.74}, {'key': 'lat...   \n",
      "22  [{'key': 'down', 'value': 73.43}, {'key': 'lat...   \n",
      "23  [{'key': 'down', 'value': 84.9}, {'key': 'late...   \n",
      "24  [{'key': 'down', 'value': 92.34}, {'key': 'lat...   \n",
      "\n",
      "   attributes.violated_condition relationships.agent.data.id  \\\n",
      "0                           None                         280   \n",
      "1                           None                         280   \n",
      "2                           None                         280   \n",
      "3                           None                         280   \n",
      "4                           None                         280   \n",
      "5                           None                         280   \n",
      "6                           None                         280   \n",
      "7                           None                         280   \n",
      "8                           None                         280   \n",
      "9                           None                         280   \n",
      "10                          None                         280   \n",
      "11                          None                         280   \n",
      "12                          None                         280   \n",
      "13                          None                         280   \n",
      "14                          None                         280   \n",
      "15                          None                         280   \n",
      "16                          None                         280   \n",
      "17                          None                         280   \n",
      "18                          None                         280   \n",
      "19                          None                         280   \n",
      "20                          None                         280   \n",
      "21                          None                         280   \n",
      "22                          None                         280   \n",
      "23                          None                         280   \n",
      "24                          None                         280   \n",
      "\n",
      "   relationships.agent.data.type relationships.nb_test.data.id  \\\n",
      "0                          agent                       1698646   \n",
      "1                          agent                       1698653   \n",
      "2                          agent                       1698656   \n",
      "3                          agent                       1698658   \n",
      "4                          agent                       1698664   \n",
      "5                          agent                       1698669   \n",
      "6                          agent                       1698670   \n",
      "7                          agent                       1698676   \n",
      "8                          agent                       1698680   \n",
      "9                          agent                       1698682   \n",
      "10                         agent                       1698689   \n",
      "11                         agent                       1698692   \n",
      "12                         agent                       1698694   \n",
      "13                         agent                       1698700   \n",
      "14                         agent                       1698704   \n",
      "15                         agent                       1698706   \n",
      "16                         agent                       1698712   \n",
      "17                         agent                       1698717   \n",
      "18                         agent                       1698719   \n",
      "19                         agent                       1698724   \n",
      "20                         agent                       1698728   \n",
      "21                         agent                       1698731   \n",
      "22                         agent                       1698736   \n",
      "23                         agent                       1698740   \n",
      "24                         agent                       1698743   \n",
      "\n",
      "   relationships.nb_test.data.type  \\\n",
      "0                          nb_test   \n",
      "1                          nb_test   \n",
      "2                          nb_test   \n",
      "3                          nb_test   \n",
      "4                          nb_test   \n",
      "5                          nb_test   \n",
      "6                          nb_test   \n",
      "7                          nb_test   \n",
      "8                          nb_test   \n",
      "9                          nb_test   \n",
      "10                         nb_test   \n",
      "11                         nb_test   \n",
      "12                         nb_test   \n",
      "13                         nb_test   \n",
      "14                         nb_test   \n",
      "15                         nb_test   \n",
      "16                         nb_test   \n",
      "17                         nb_test   \n",
      "18                         nb_test   \n",
      "19                         nb_test   \n",
      "20                         nb_test   \n",
      "21                         nb_test   \n",
      "22                         nb_test   \n",
      "23                         nb_test   \n",
      "24                         nb_test   \n",
      "\n",
      "   relationships.scheduled_nb_test_template.data.id  \\\n",
      "0                                                 1   \n",
      "1                                                 1   \n",
      "2                                                 1   \n",
      "3                                                 1   \n",
      "4                                                 1   \n",
      "5                                                 1   \n",
      "6                                                 1   \n",
      "7                                                 1   \n",
      "8                                                 1   \n",
      "9                                                 1   \n",
      "10                                                1   \n",
      "11                                                1   \n",
      "12                                                1   \n",
      "13                                                1   \n",
      "14                                                1   \n",
      "15                                                1   \n",
      "16                                                1   \n",
      "17                                                1   \n",
      "18                                                1   \n",
      "19                                                1   \n",
      "20                                                1   \n",
      "21                                                1   \n",
      "22                                                1   \n",
      "23                                                1   \n",
      "24                                                1   \n",
      "\n",
      "   relationships.scheduled_nb_test_template.data.type  \n",
      "0                          scheduled_nb_test_template  \n",
      "1                          scheduled_nb_test_template  \n",
      "2                          scheduled_nb_test_template  \n",
      "3                          scheduled_nb_test_template  \n",
      "4                          scheduled_nb_test_template  \n",
      "5                          scheduled_nb_test_template  \n",
      "6                          scheduled_nb_test_template  \n",
      "7                          scheduled_nb_test_template  \n",
      "8                          scheduled_nb_test_template  \n",
      "9                          scheduled_nb_test_template  \n",
      "10                         scheduled_nb_test_template  \n",
      "11                         scheduled_nb_test_template  \n",
      "12                         scheduled_nb_test_template  \n",
      "13                         scheduled_nb_test_template  \n",
      "14                         scheduled_nb_test_template  \n",
      "15                         scheduled_nb_test_template  \n",
      "16                         scheduled_nb_test_template  \n",
      "17                         scheduled_nb_test_template  \n",
      "18                         scheduled_nb_test_template  \n",
      "19                         scheduled_nb_test_template  \n",
      "20                         scheduled_nb_test_template  \n",
      "21                         scheduled_nb_test_template  \n",
      "22                         scheduled_nb_test_template  \n",
      "23                         scheduled_nb_test_template  \n",
      "24                         scheduled_nb_test_template  \n",
      "                                  0                                    1  \\\n",
      "0   {'key': 'down', 'value': 46.83}   {'key': 'latency', 'value': 6.294}   \n",
      "1   {'key': 'down', 'value': 73.24}   {'key': 'latency', 'value': 6.012}   \n",
      "2   {'key': 'down', 'value': 79.59}   {'key': 'latency', 'value': 5.911}   \n",
      "3   {'key': 'down', 'value': 91.51}   {'key': 'latency', 'value': 5.844}   \n",
      "4   {'key': 'down', 'value': 75.34}   {'key': 'latency', 'value': 9.076}   \n",
      "5   {'key': 'down', 'value': 73.98}    {'key': 'latency', 'value': 7.63}   \n",
      "6    {'key': 'down', 'value': 92.0}   {'key': 'latency', 'value': 5.644}   \n",
      "7   {'key': 'down', 'value': 75.15}   {'key': 'latency', 'value': 7.911}   \n",
      "8   {'key': 'down', 'value': 81.44}   {'key': 'latency', 'value': 5.917}   \n",
      "9   {'key': 'down', 'value': 91.86}   {'key': 'latency', 'value': 6.026}   \n",
      "10  {'key': 'down', 'value': 68.83}   {'key': 'latency', 'value': 5.818}   \n",
      "11  {'key': 'down', 'value': 75.02}   {'key': 'latency', 'value': 5.826}   \n",
      "12  {'key': 'down', 'value': 91.92}   {'key': 'latency', 'value': 6.003}   \n",
      "13   {'key': 'down', 'value': 69.9}   {'key': 'latency', 'value': 5.841}   \n",
      "14   {'key': 'down', 'value': 80.5}   {'key': 'latency', 'value': 5.886}   \n",
      "15  {'key': 'down', 'value': 51.41}  {'key': 'latency', 'value': 48.343}   \n",
      "16   {'key': 'down', 'value': 73.1}   {'key': 'latency', 'value': 6.722}   \n",
      "17  {'key': 'down', 'value': 71.81}   {'key': 'latency', 'value': 5.851}   \n",
      "18  {'key': 'down', 'value': 91.57}   {'key': 'latency', 'value': 5.664}   \n",
      "19  {'key': 'down', 'value': 75.53}   {'key': 'latency', 'value': 5.894}   \n",
      "20  {'key': 'down', 'value': 77.02}   {'key': 'latency', 'value': 7.129}   \n",
      "21  {'key': 'down', 'value': 91.74}   {'key': 'latency', 'value': 6.311}   \n",
      "22  {'key': 'down', 'value': 73.43}   {'key': 'latency', 'value': 6.423}   \n",
      "23   {'key': 'down', 'value': 84.9}   {'key': 'latency', 'value': 6.653}   \n",
      "24  {'key': 'down', 'value': 92.34}  {'key': 'latency', 'value': 12.864}   \n",
      "\n",
      "                                2  \n",
      "0   {'key': 'up', 'value': 71.72}  \n",
      "1   {'key': 'up', 'value': 92.53}  \n",
      "2   {'key': 'up', 'value': 93.14}  \n",
      "3   {'key': 'up', 'value': 93.26}  \n",
      "4    {'key': 'up', 'value': 91.1}  \n",
      "5   {'key': 'up', 'value': 93.55}  \n",
      "6   {'key': 'up', 'value': 93.32}  \n",
      "7   {'key': 'up', 'value': 93.13}  \n",
      "8   {'key': 'up', 'value': 92.91}  \n",
      "9   {'key': 'up', 'value': 92.92}  \n",
      "10  {'key': 'up', 'value': 93.61}  \n",
      "11  {'key': 'up', 'value': 93.21}  \n",
      "12   {'key': 'up', 'value': 93.3}  \n",
      "13  {'key': 'up', 'value': 37.33}  \n",
      "14   {'key': 'up', 'value': 89.0}  \n",
      "15  {'key': 'up', 'value': 82.03}  \n",
      "16  {'key': 'up', 'value': 92.94}  \n",
      "17  {'key': 'up', 'value': 93.36}  \n",
      "18  {'key': 'up', 'value': 92.68}  \n",
      "19  {'key': 'up', 'value': 70.95}  \n",
      "20  {'key': 'up', 'value': 92.62}  \n",
      "21  {'key': 'up', 'value': 93.36}  \n",
      "22  {'key': 'up', 'value': 91.87}  \n",
      "23  {'key': 'up', 'value': 94.18}  \n",
      "24  {'key': 'up', 'value': 59.25}  \n"
     ]
    }
   ],
   "source": [
    "results = pd.json_normalize(response.json()['data'])\n",
    "print(results)\n",
    "\n",
    "\n",
    "results = pd.json_normalize(results['attributes.result_values'])\n",
    "\n",
    "print(results)"
   ]
  },
  {
   "cell_type": "markdown",
   "metadata": {},
   "source": [
    "### Plot the alerts"
   ]
  },
  {
   "cell_type": "markdown",
   "metadata": {},
   "source": [
    "To convert the agent ids to agent names we then retrieve the agent objects one by one and extract the name strings from those objects."
   ]
  },
  {
   "cell_type": "code",
   "execution_count": 20,
   "metadata": {},
   "outputs": [
    {
     "name": "stdout",
     "output_type": "stream",
     "text": [
      "Done loading names\n"
     ]
    }
   ],
   "source": [
    "agent_names = []\n",
    "for agent_id in top_10.index:\n",
    "    url = f\"{base_url}/agents/{agent_id}.json\"\n",
    "    response = requests.request(\"GET\", url, headers=legacy_api_headers, verify=False)\n",
    "    agent_names.append(response.json()['name'])\n",
    "    \n",
    "print(\"Done loading names\")"
   ]
  },
  {
   "cell_type": "markdown",
   "metadata": {},
   "source": [
    "Finally, we prepare the data for plotting."
   ]
  },
  {
   "cell_type": "code",
   "execution_count": 21,
   "metadata": {
    "scrolled": false
   },
   "outputs": [
    {
     "name": "stdout",
     "output_type": "stream",
     "text": [
      "                        Alert Count\n",
      "Steven's - Desktop               90\n",
      "Steven's - Laptop                33\n",
      "JW8ZF2                           25\n",
      "Container - AWS                  18\n",
      "Cloud - Google                   14\n",
      "San Jose - WiFi                  11\n",
      "San Jose                          8\n",
      "Pittsburgh - SmartSFP             7\n",
      "Pittsburgh - Wired                5\n",
      "Pittsburgh - WiFi Main            4\n"
     ]
    }
   ],
   "source": [
    "to_plot = pd.DataFrame(index=agent_names, data=top_10.values, columns=['Alert Count'])\n",
    "to_plot.index.rename('Agents')\n",
    "print(to_plot)"
   ]
  },
  {
   "cell_type": "code",
   "execution_count": 22,
   "metadata": {},
   "outputs": [
    {
     "data": {
      "text/plain": [
       "<AxesSubplot:>"
      ]
     },
     "execution_count": 22,
     "metadata": {},
     "output_type": "execute_result"
    },
    {
     "data": {
      "image/png": "[encoded data removed]",
      "text/plain": [
       "<Figure size 432x288 with 1 Axes>"
      ]
     },
     "metadata": {
      "needs_background": "light"
     },
     "output_type": "display_data"
    }
   ],
   "source": [
    "to_plot.plot.bar()"
   ]
  },
  {
   "cell_type": "code",
   "execution_count": null,
   "metadata": {},
   "outputs": [],
   "source": []
  }
 ],
 "metadata": {
  "interpreter": {
   "hash": "ac2eaa0ea0ebeafcc7822e65e46aa9d4f966f30b695406963e145ea4a91cd4fc"
  },
  "kernelspec": {
   "display_name": "Python 3 (ipykernel)",
   "language": "python",
   "name": "python3"
  },
  "language_info": {
   "codemirror_mode": {
    "name": "ipython",
    "version": 3
   },
   "file_extension": ".py",
   "mimetype": "text/x-python",
   "name": "python",
   "nbconvert_exporter": "python",
   "pygments_lexer": "ipython3",
   "version": "3.9.6"
  },
  "metadata": {
   "interpreter": {
    "hash": "ac2eaa0ea0ebeafcc7822e65e46aa9d4f966f30b695406963e145ea4a91cd4fc"
   }
  }
 },
 "nbformat": 4,
 "nbformat_minor": 4
}
