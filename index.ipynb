{
 "cells": [
  {
   "cell_type": "markdown",
   "metadata": {},
   "source": [
    "# NetBeez API examples\n",
    "## Example 1: Retrive PING test results from a specific agent for the past 60 minutes\n",
    "## Example 2: Display top 10 agents with most alerts from the last 24 hours"
   ]
  },
  {
   "cell_type": "markdown",
   "metadata": {},
   "source": [
    "This notebook uses a Python environment to demonstrate how a NetBeez user can retrive data from the API and manipulate them and visualize them in a meaningful way.\n",
    "\n",
    "First we describe the setup process for getting data from the API."
   ]
  },
  {
   "cell_type": "markdown",
   "metadata": {},
   "source": [
    "## Setup your NetBeez Beezkeeper details"
   ]
  },
  {
   "cell_type": "markdown",
   "metadata": {},
   "source": [
    "First you need to identify your server's FQDN and generate an API key to use in these examples.\n",
    "\n",
    "If the URL you use to access NetBeez looks like this https://demo.netbeecloud.net then `demo.netbeecloud.net` is the fqdn."
   ]
  },
  {
   "cell_type": "code",
   "execution_count": 1,
   "metadata": {},
   "outputs": [],
   "source": [
    "beezkeeper_fqdn=\"demo.netbeezcloud.net\"  ## <--------- CHANGE THIS TO YOUR INSTANCE FQDN\n",
    "base_url='https://' + beezkeeper_fqdn"
   ]
  },
  {
   "cell_type": "code",
   "execution_count": 2,
   "metadata": {
    "jupyter": {
     "source_hidden": true
    },
    "tags": []
   },
   "outputs": [
    {
     "data": {
      "text/markdown": [
       "For documentation go to https://api.netbeez.net or https://demo.netbeezcloud.net/swagger/"
      ],
      "text/plain": [
       "<IPython.core.display.Markdown object>"
      ]
     },
     "execution_count": 2,
     "metadata": {},
     "output_type": "execute_result"
    }
   ],
   "source": [
    "from IPython.display import Markdown as md\n",
    "\n",
    "md(f\"To generate an API key head over to https://{beezkeeper_fqdn}/#settings-tab/api-keys-settings\")\n",
    "\n",
    "md(f\"For documentation go to https://api.netbeez.net or https://{beezkeeper_fqdn}/swagger/\")"
   ]
  },
  {
   "cell_type": "code",
   "execution_count": 3,
   "metadata": {
    "tags": []
   },
   "outputs": [],
   "source": [
    "api_key=\"7g5_hKXw_460SNKEkJEYlMn1eqw3iTmaus_cCMZ8REhc5MOEtEAx8g\"  # <--------- CHANGE THIS TO YOUR KEY"
   ]
  },
  {
   "cell_type": "markdown",
   "metadata": {},
   "source": [
    "## Setup the headers\n",
    "We define the content type format as JSON and provide the API key that you generated in the previous step as part of the headers."
   ]
  },
  {
   "cell_type": "code",
   "execution_count": 4,
   "metadata": {
    "tags": []
   },
   "outputs": [],
   "source": [
    "import requests\n",
    "import urllib3\n",
    "\n",
    "urllib3.disable_warnings()\n",
    "\n",
    "\n",
    "headers = {\n",
    "            'Cache-Control': 'no-store',\n",
    "            'Content-type': 'application/json',\n",
    "            'Authorization': 'Bearer ' + api_key\n",
    "          }\n",
    "\n",
    "legacy_api_headers = {\n",
    "    'Authorization': api_key,\n",
    "    'API-VERSION': 'v1',\n",
    "    'Content-type': 'application/json'\n",
    "}"
   ]
  },
  {
   "cell_type": "markdown",
   "metadata": {},
   "source": [
    "Note that when the legacy api headers are used it means that we are using the legacy API which is subject to be replaced soon by the new JSON API (documentation here: https://api.netbeez.net)"
   ]
  },
  {
   "cell_type": "markdown",
   "metadata": {},
   "source": [
    "# Example 1: Get NetBeez Agent information and last 24 hours Ping results.\n",
    "\n",
    "In this example we will be searching for an agent by name, then selecting the ping tests that are currently running, and then retriving the raw measurement results for those tests from the past 60 minutes."
   ]
  },
  {
   "cell_type": "markdown",
   "metadata": {},
   "source": [
    "## Retrieve the agent\n",
    "First we set retrieve the agent by search by name using this API endpoint: https://api.netbeez.net/#f3d48709-5344-45b7-af9b-7b92feddd4ec."
   ]
  },
  {
   "cell_type": "code",
   "execution_count": 5,
   "metadata": {},
   "outputs": [],
   "source": [
    "search_name = \"Virtual Agent\"\n",
    "url = f\"{base_url}/agents?filter[name]={search_name}&type=beta\"\n"
   ]
  },
  {
   "cell_type": "code",
   "execution_count": 6,
   "metadata": {},
   "outputs": [
    {
     "name": "stdout",
     "output_type": "stream",
     "text": [
      "{'id': '341', 'type': 'agent', 'attributes': {'name': 'Pittsburgh - Virtual Agent', 'reached_target_test_limit': False, 'reached_scheduled_test_limit': None, 'nb_target_ids': [463, 464, 465, 437, 32], 'nb_test_ids': [1667068, 1667069, 1667070, 1667065, 1667066, 1667067, 1667071, 1688201, 1688302, 1688303, 1688304, 1688305, 1688306, 1688391, 1688392, 1688393, 1688394, 1688395, 1688474, 1688475, 1688476, 1688477, 1688478], 'agent_type_name': 'virtual-model-ova', 'os_version': 'Debian GNU/Linux 8.11 (jessie)', 'kernel_version': '#1 SMP Debian 3.16.51-3 (2017-12-13)', 'uuid': '00:0c:29:09:fa:ee', 'agent_class': 'virtual', 'active': True, 'active_ts': 1625542888771, 'description': None, 'category': 'network_agent', 'software_version': '8.0.6', 'open_incident_id': None, 'test_aggregate_counts_by_type': {'1': {'success': 5, 'fail': 0, 'warning': 0, 'paused': 0, 'unknown': 0}, '2': {'success': 5, 'fail': 0, 'warning': 0, 'paused': 0, 'unknown': 0}, '3': {'success': 5, 'fail': 0, 'warning': 0, 'paused': 0, 'unknown': 0}, '4': {'success': 4, 'fail': 0, 'warning': 0, 'paused': 0, 'unknown': 0}}}, 'relationships': {'network_interfaces': {'data': [{'id': '387', 'type': 'network_interface'}]}, 'agent_groups': {'data': [{'id': '5', 'type': 'agent_group'}]}}}\n"
     ]
    }
   ],
   "source": [
    "response = requests.request(\"GET\", url, headers=headers, verify=False)\n",
    "\n",
    "import json\n",
    "data = json.loads(response.text)\n",
    "agent = data['data'][0]\n",
    "print(agent)"
   ]
  },
  {
   "cell_type": "markdown",
   "metadata": {},
   "source": [
    "## Retrieve Ping tests\n",
    "Then we iterate through the tests and select the ping tests."
   ]
  },
  {
   "cell_type": "code",
   "execution_count": 7,
   "metadata": {},
   "outputs": [
    {
     "name": "stdout",
     "output_type": "stream",
     "text": [
      "{'id': 1667068, 'target': 'www.google.com', 'count': 0, 'interval': 5, 'timeout': 5, 'start_ts': '2021-04-01T15:39:11.736-04:00', 'created_at': '2021-04-01T19:39:11.000Z', 'updated_at': '2021-06-03T15:34:27.000Z', 'agent_id': 341, 'test_type_id': 1, 'heir_id': 11374, 'heir_type': 'PingTest', 'ad_hoc': False, 'test_name': None, 'nb_test_templatable_type': 'NbTestTemplate', 'nb_test_templatable_id': 99, 'current_alert_mode': 'success', 'wifi_profile_id': None, 'network_interface_id': 387, 'nb_target_id': 32, 'nb_test_template_id': 99, 'schedule_type': 'periodic', 'options': {'data_size': 54, 'dont_fragment': False, 'tos': None, 'port': None, 'ping_type': 2, 'flags': None, 'jitter_mos': True}, 'alert_mode': 'success', 'interface_type': 'wired'}\n",
      "{'id': 1667065, 'target': 'demo-app.netbeezcloud.net', 'count': 0, 'interval': 5, 'timeout': 5, 'start_ts': '2021-04-01T15:39:11.604-04:00', 'created_at': '2021-04-01T19:39:11.000Z', 'updated_at': '2021-06-03T15:34:27.000Z', 'agent_id': 341, 'test_type_id': 1, 'heir_id': 11373, 'heir_type': 'PingTest', 'ad_hoc': False, 'test_name': '', 'nb_test_templatable_type': 'NbTestTemplate', 'nb_test_templatable_id': 1830, 'current_alert_mode': 'success', 'wifi_profile_id': None, 'network_interface_id': 387, 'nb_target_id': 437, 'nb_test_template_id': 1830, 'schedule_type': 'periodic', 'options': {'data_size': 54, 'dont_fragment': False, 'tos': None, 'port': None, 'ping_type': 2, 'flags': None, 'jitter_mos': False}, 'alert_mode': 'success', 'interface_type': 'wired'}\n",
      "{'id': 1688303, 'target': 'baidu.com', 'count': 0, 'interval': 5, 'timeout': 5, 'start_ts': '2021-05-17T23:56:56.125-04:00', 'created_at': '2021-05-18T03:56:56.000Z', 'updated_at': '2021-07-06T06:49:17.000Z', 'agent_id': 341, 'test_type_id': 1, 'heir_id': 11441, 'heir_type': 'PingTest', 'ad_hoc': False, 'test_name': '', 'nb_test_templatable_type': 'NbTestTemplate', 'nb_test_templatable_id': 2074, 'current_alert_mode': 'success', 'wifi_profile_id': None, 'network_interface_id': 387, 'nb_target_id': 463, 'nb_test_template_id': 2074, 'schedule_type': 'periodic', 'options': {'data_size': 54, 'dont_fragment': False, 'tos': None, 'port': None, 'ping_type': 2, 'flags': None, 'jitter_mos': None}, 'alert_mode': 'success', 'interface_type': 'wired'}\n",
      "{'id': 1688391, 'target': 'in.gr', 'count': 0, 'interval': 5, 'timeout': 5, 'start_ts': '2021-05-17T23:57:16.957-04:00', 'created_at': '2021-05-18T03:57:16.000Z', 'updated_at': '2021-07-05T18:12:00.000Z', 'agent_id': 341, 'test_type_id': 1, 'heir_id': 11461, 'heir_type': 'PingTest', 'ad_hoc': False, 'test_name': '', 'nb_test_templatable_type': 'NbTestTemplate', 'nb_test_templatable_id': 2078, 'current_alert_mode': 'success', 'wifi_profile_id': None, 'network_interface_id': 387, 'nb_target_id': 464, 'nb_test_template_id': 2078, 'schedule_type': 'periodic', 'options': {'data_size': 54, 'dont_fragment': False, 'tos': None, 'port': None, 'ping_type': 2, 'flags': None, 'jitter_mos': None}, 'alert_mode': 'success', 'interface_type': 'wired'}\n",
      "{'id': 1688474, 'target': 'amazon.com', 'count': 0, 'interval': 5, 'timeout': 5, 'start_ts': '2021-05-18T00:00:42.578-04:00', 'created_at': '2021-05-18T04:00:42.000Z', 'updated_at': '2021-06-11T06:27:10.000Z', 'agent_id': 341, 'test_type_id': 1, 'heir_id': 11477, 'heir_type': 'PingTest', 'ad_hoc': False, 'test_name': '', 'nb_test_templatable_type': 'NbTestTemplate', 'nb_test_templatable_id': 2083, 'current_alert_mode': 'success', 'wifi_profile_id': None, 'network_interface_id': 387, 'nb_target_id': 465, 'nb_test_template_id': 2083, 'schedule_type': 'periodic', 'options': {'data_size': 54, 'dont_fragment': False, 'tos': None, 'port': None, 'ping_type': 2, 'flags': None, 'jitter_mos': None}, 'alert_mode': 'success', 'interface_type': 'wired'}\n"
     ]
    }
   ],
   "source": [
    "nb_tests = []\n",
    "for nb_test_id in agent['attributes']['nb_test_ids']:\n",
    "    url = f\"{base_url}/nb_tests/{nb_test_id}.json\"\n",
    "    response = requests.request(\"GET\", url, headers=legacy_api_headers, verify=False)\n",
    "    data = json.loads(response.text)\n",
    "    if data['heir_type'] == 'PingTest':\n",
    "        print(data)\n",
    "        nb_tests.append(data)\n"
   ]
  },
  {
   "cell_type": "markdown",
   "metadata": {},
   "source": [
    "## Retrive the results\n",
    "Then we retrieve the results for the past 60 minutes."
   ]
  },
  {
   "cell_type": "code",
   "execution_count": 8,
   "metadata": {},
   "outputs": [
    {
     "name": "stdout",
     "output_type": "stream",
     "text": [
      "2021-07-06 12:51:34.041000\n",
      "2021-07-06 13:51:34.041000\n"
     ]
    }
   ],
   "source": [
    "import time\n",
    "import datetime\n",
    "to_ts = int(time.time() * 1000)\n",
    "from_ts = to_ts - (60 * 60 * 1000)\n",
    "\n",
    "print(datetime.datetime.fromtimestamp(from_ts/1000.0))\n",
    "print(datetime.datetime.fromtimestamp(to_ts/1000.0))\n"
   ]
  },
  {
   "cell_type": "code",
   "execution_count": 9,
   "metadata": {
    "scrolled": false
   },
   "outputs": [],
   "source": [
    "results = []\n",
    "import pandas as pd\n",
    "for nb_test in nb_tests:\n",
    "    url = f\"{base_url}/results.json?nb_test_id={nb_test['id']}&from={from_ts}&to={to_ts}\"\n",
    "    response = requests.request(\"GET\", url, headers=legacy_api_headers, verify=False)\n",
    "    df = pd.json_normalize(json.loads(response.text), 'index')\n",
    "    if df.empty == False :\n",
    "        df['timestamp'] = df['timestamp'].transform(lambda x: datetime.datetime.fromtimestamp(x/1000.0))\n",
    "        df.set_index('id', inplace=True)\n",
    "        results.append(df)\n",
    "    \n",
    "results = pd.concat(results)"
   ]
  },
  {
   "cell_type": "markdown",
   "metadata": {},
   "source": [
    "...and here is a printout of the results:"
   ]
  },
  {
   "cell_type": "code",
   "execution_count": 10,
   "metadata": {
    "scrolled": true
   },
   "outputs": [
    {
     "name": "stdout",
     "output_type": "stream",
     "text": [
      "            value               timestamp  sequence_number  nb_test_id\n",
      "id                                                                    \n",
      "9907064934  12.10 2021-07-06 12:51:36.793          1651474     1667068\n",
      "9907065166  12.10 2021-07-06 12:51:41.800          1651475     1667068\n",
      "9907065273  12.90 2021-07-06 12:51:46.800          1651476     1667068\n",
      "9907065466  12.10 2021-07-06 12:51:51.805          1651477     1667068\n",
      "9907065610  12.10 2021-07-06 12:51:56.808          1651478     1667068\n",
      "...           ...                     ...              ...         ...\n",
      "9907187479   9.78 2021-07-06 13:51:11.567           852397     1688474\n",
      "9907187602   9.70 2021-07-06 13:51:16.570           852398     1688474\n",
      "9907187883   9.72 2021-07-06 13:51:21.571           852399     1688474\n",
      "9907188025   9.68 2021-07-06 13:51:26.579           852400     1688474\n",
      "9907188122   9.67 2021-07-06 13:51:31.582           852401     1688474\n",
      "\n",
      "[3595 rows x 4 columns]\n"
     ]
    }
   ],
   "source": [
    "print(results)"
   ]
  },
  {
   "cell_type": "code",
   "execution_count": 11,
   "metadata": {},
   "outputs": [
    {
     "name": "stdout",
     "output_type": "stream",
     "text": [
      "nb_test_id               1667065  1667068  1688303  1688391  1688474\n",
      "timestamp                                                           \n",
      "2021-07-06 12:51:36.228    10.70      NaN      NaN      NaN      NaN\n",
      "2021-07-06 12:51:36.743    10.68      NaN      NaN      NaN    9.240\n",
      "2021-07-06 12:51:36.793    10.66     12.1      NaN      NaN    9.222\n",
      "2021-07-06 12:51:37.320    10.64     12.1      NaN    111.0    9.204\n",
      "2021-07-06 12:51:38.642    10.62     12.1    224.0    109.6    9.186\n",
      "...                          ...      ...      ...      ...      ...\n",
      "2021-07-06 13:51:30.371    10.70     20.7    240.0    103.4    9.674\n",
      "2021-07-06 13:51:31.541    10.70     20.7    240.0    103.6    9.672\n",
      "2021-07-06 13:51:31.582    10.70     20.7    240.0    103.8    9.670\n",
      "2021-07-06 13:51:31.703    10.70     20.7    240.0    104.0    9.670\n",
      "2021-07-06 13:51:32.917    10.70     20.7    240.0    104.0    9.670\n",
      "\n",
      "[3565 rows x 5 columns]\n"
     ]
    }
   ],
   "source": [
    "results_pivot = results.pivot(index='timestamp', columns='nb_test_id', values='value')\n",
    "pf = results_pivot.interpolate()\n",
    "print(pf)"
   ]
  },
  {
   "cell_type": "code",
   "execution_count": 12,
   "metadata": {},
   "outputs": [
    {
     "data": {
      "text/plain": [
       "<AxesSubplot:xlabel='timestamp'>"
      ]
     },
     "execution_count": 12,
     "metadata": {},
     "output_type": "execute_result"
    },
    {
     "data": {
      "image/png": "[encoded data removed]",
      "text/plain": [
       "<Figure size 432x288 with 1 Axes>"
      ]
     },
     "metadata": {
      "needs_background": "light"
     },
     "output_type": "display_data"
    }
   ],
   "source": [
    "pf.plot()"
   ]
  },
  {
   "cell_type": "markdown",
   "metadata": {},
   "source": [
    "# Example 2: Get the top 10 Agents with the most alerts triggered during the past 24 hours.\n",
    "\n",
    "In this example we will be retrieve all the alerts triggered during the past 24 hours. Then we'll group them by agent and count them on a per agent basis. We then sort and pick the top 10. We then enrich the data with the agent names by fetching them through some extra API calls."
   ]
  },
  {
   "cell_type": "markdown",
   "metadata": {},
   "source": [
    "First we set the timestamps for `from` and `to`"
   ]
  },
  {
   "cell_type": "code",
   "execution_count": 13,
   "metadata": {
    "scrolled": true
   },
   "outputs": [
    {
     "name": "stdout",
     "output_type": "stream",
     "text": [
      "From: 2021-07-06 13:21:37.128000\n",
      "To:   2021-07-06 13:51:37.128000\n"
     ]
    }
   ],
   "source": [
    "import time\n",
    "import datetime\n",
    "to_ts = int(time.time() * 1000)\n",
    "from_ts = to_ts - (30 * 60 * 1000)\n",
    "\n",
    "print(f\"From: {datetime.datetime.fromtimestamp(from_ts/1000.0)}\")\n",
    "print(f\"To:   {datetime.datetime.fromtimestamp(to_ts/1000.0)}\")"
   ]
  },
  {
   "cell_type": "markdown",
   "metadata": {},
   "source": [
    "We then retrieve the alerts using the `/nb_alerts.json` legacy api from swagger."
   ]
  },
  {
   "cell_type": "code",
   "execution_count": 14,
   "metadata": {
    "scrolled": false
   },
   "outputs": [
    {
     "name": "stdout",
     "output_type": "stream",
     "text": [
      "         id                      message  severity       alert_ts     state  \\\n",
      "0   2129577                     Time out         1  1625579473716  reported   \n",
      "1   2129576                Alert cleared         6  1625579195950  reported   \n",
      "2   2129574                Alert cleared         6  1625579121958  reported   \n",
      "3   2129575                Alert cleared         6  1625579113150  reported   \n",
      "4   2129573                     Time out         1  1625579074669  reported   \n",
      "5   2129572                     Time out         1  1625578992727  reported   \n",
      "6   2129571                Alert cleared         6  1625578954272  reported   \n",
      "7   2129569                Alert cleared         6  1625578871506  reported   \n",
      "8   2129568            Agent back online         6  1625578865250  reported   \n",
      "9   2129570                Alert cleared         6  1625578850583  reported   \n",
      "10  2129567            Agent Unreachable         1  1625578820249  reported   \n",
      "11  2129566  Traceroute max hops reached         1  1625578247487  reported   \n",
      "12  2129565                     Time out         1  1625578151959  reported   \n",
      "13  2129564                Alert cleared         6  1625578030585  reported   \n",
      "14  2129563                     Time out         1  1625577992325  reported   \n",
      "15  2129561                Alert cleared         6  1625577919289  reported   \n",
      "16  2129560                     Time out         1  1625577911358  reported   \n",
      "17  2129562  Traceroute max hops reached         1  1625577906540  reported   \n",
      "18  2129559                     Time out         1  1625577894275  reported   \n",
      "19  2129558                Alert cleared         6  1625577767145  reported   \n",
      "20  2129557                     Time out         1  1625577727082  reported   \n",
      "\n",
      "    alert_detector_instance_id                created_at  \\\n",
      "0                        34566  2021-07-06T13:51:22.000Z   \n",
      "1                        34538  2021-07-06T13:46:39.000Z   \n",
      "2                        34566  2021-07-06T13:45:25.000Z   \n",
      "3                        34568  2021-07-06T13:45:49.000Z   \n",
      "4                        34538  2021-07-06T13:44:43.000Z   \n",
      "5                        34566  2021-07-06T13:43:19.000Z   \n",
      "6                        34538  2021-07-06T13:42:37.000Z   \n",
      "7                        34566  2021-07-06T13:41:13.000Z   \n",
      "8                        30937  2021-07-06T13:41:05.000Z   \n",
      "9                        34540  2021-07-06T13:41:24.000Z   \n",
      "10                       30937  2021-07-06T13:40:20.000Z   \n",
      "11                       34540  2021-07-06T13:31:48.000Z   \n",
      "12                       34566  2021-07-06T13:29:19.000Z   \n",
      "13                       34566  2021-07-06T13:27:13.000Z   \n",
      "14                       34538  2021-07-06T13:26:40.000Z   \n",
      "15                       34417  2021-07-06T13:25:21.000Z   \n",
      "16                       34566  2021-07-06T13:25:19.000Z   \n",
      "17                       34568  2021-07-06T13:26:01.000Z   \n",
      "18                       34417  2021-07-06T13:25:00.000Z   \n",
      "19                       34594  2021-07-06T13:22:50.000Z   \n",
      "20                       34594  2021-07-06T13:22:14.000Z   \n",
      "\n",
      "                  updated_at  opening_nb_alert_id     closed_ts  ...  \\\n",
      "0   2021-07-06T13:51:22.000Z                  NaN           NaN  ...   \n",
      "1   2021-07-06T13:46:39.000Z            2129573.0           NaN  ...   \n",
      "2   2021-07-06T13:51:22.000Z            2129572.0  1.625579e+12  ...   \n",
      "3   2021-07-06T13:45:49.000Z            2129562.0           NaN  ...   \n",
      "4   2021-07-06T13:46:39.000Z                  NaN  1.625579e+12  ...   \n",
      "5   2021-07-06T13:45:25.000Z                  NaN  1.625579e+12  ...   \n",
      "6   2021-07-06T13:44:43.000Z            2129563.0  1.625579e+12  ...   \n",
      "7   2021-07-06T13:43:19.000Z            2129565.0  1.625579e+12  ...   \n",
      "8   2021-07-06T13:41:05.000Z            2129567.0           NaN  ...   \n",
      "9   2021-07-06T13:41:24.000Z            2129566.0           NaN  ...   \n",
      "10  2021-07-06T13:40:20.000Z                  NaN           NaN  ...   \n",
      "11  2021-07-06T13:41:24.000Z                  NaN  1.625579e+12  ...   \n",
      "12  2021-07-06T13:41:13.000Z                  NaN  1.625579e+12  ...   \n",
      "13  2021-07-06T13:29:19.000Z            2129560.0  1.625578e+12  ...   \n",
      "14  2021-07-06T13:42:37.000Z                  NaN  1.625579e+12  ...   \n",
      "15  2021-07-06T13:25:21.000Z            2129559.0           NaN  ...   \n",
      "16  2021-07-06T13:27:13.000Z                  NaN  1.625578e+12  ...   \n",
      "17  2021-07-06T13:45:49.000Z                  NaN  1.625579e+12  ...   \n",
      "18  2021-07-06T13:25:21.000Z                  NaN  1.625578e+12  ...   \n",
      "19  2021-07-06T13:22:50.000Z            2129557.0           NaN  ...   \n",
      "20  2021-07-06T13:22:50.000Z                  NaN  1.625578e+12  ...   \n",
      "\n",
      "   source_agent_id        target_display_name nb_target_display_name  \\\n",
      "0            300.0                  baidu.com                  Baidu   \n",
      "1            249.0                  baidu.com                  Baidu   \n",
      "2            300.0                  baidu.com                  Baidu   \n",
      "3            300.0                  baidu.com                  Baidu   \n",
      "4            249.0                  baidu.com                  Baidu   \n",
      "5            300.0                  baidu.com                  Baidu   \n",
      "6            249.0                  baidu.com                  Baidu   \n",
      "7            300.0                  baidu.com                  Baidu   \n",
      "8              NaN                       None                    NaN   \n",
      "9            249.0                  baidu.com                  Baidu   \n",
      "10             NaN                       None                    NaN   \n",
      "11           249.0                  baidu.com                  Baidu   \n",
      "12           300.0                  baidu.com                  Baidu   \n",
      "13           300.0                  baidu.com                  Baidu   \n",
      "14           249.0                  baidu.com                  Baidu   \n",
      "15           249.0  demo-app.netbeezcloud.net              Cloud App   \n",
      "16           300.0                  baidu.com                  Baidu   \n",
      "17           300.0                  baidu.com                  Baidu   \n",
      "18           249.0  demo-app.netbeezcloud.net              Cloud App   \n",
      "19           335.0                  baidu.com                  Baidu   \n",
      "20           335.0                  baidu.com                  Baidu   \n",
      "\n",
      "           source_test_target source_test_type_id  source_nb_target_id  \\\n",
      "0                   baidu.com                 1.0                463.0   \n",
      "1                   baidu.com                 1.0                463.0   \n",
      "2                   baidu.com                 1.0                463.0   \n",
      "3                   baidu.com                 4.0                463.0   \n",
      "4                   baidu.com                 1.0                463.0   \n",
      "5                   baidu.com                 1.0                463.0   \n",
      "6                   baidu.com                 1.0                463.0   \n",
      "7                   baidu.com                 1.0                463.0   \n",
      "8                         NaN                 NaN                  NaN   \n",
      "9                   baidu.com                 4.0                463.0   \n",
      "10                        NaN                 NaN                  NaN   \n",
      "11                  baidu.com                 4.0                463.0   \n",
      "12                  baidu.com                 1.0                463.0   \n",
      "13                  baidu.com                 1.0                463.0   \n",
      "14                  baidu.com                 1.0                463.0   \n",
      "15  demo-app.netbeezcloud.net                 1.0                437.0   \n",
      "16                  baidu.com                 1.0                463.0   \n",
      "17                  baidu.com                 4.0                463.0   \n",
      "18  demo-app.netbeezcloud.net                 1.0                437.0   \n",
      "19                  baidu.com                 1.0                463.0   \n",
      "20                  baidu.com                 1.0                463.0   \n",
      "\n",
      "    source_nb_test_template_id  source_id  source_type opening_alert_severity  \n",
      "0                       2074.0    1688253       NbTest                    NaN  \n",
      "1                       2074.0    1688218       NbTest                    1.0  \n",
      "2                       2074.0    1688253       NbTest                    1.0  \n",
      "3                       2076.0    1688255       NbTest                    1.0  \n",
      "4                       2074.0    1688218       NbTest                    NaN  \n",
      "5                       2074.0    1688253       NbTest                    NaN  \n",
      "6                       2074.0    1688218       NbTest                    1.0  \n",
      "7                       2074.0    1688253       NbTest                    1.0  \n",
      "8                          NaN        283        Agent                    1.0  \n",
      "9                       2076.0    1688220       NbTest                    1.0  \n",
      "10                         NaN        283        Agent                    NaN  \n",
      "11                      2076.0    1688220       NbTest                    NaN  \n",
      "12                      2074.0    1688253       NbTest                    NaN  \n",
      "13                      2074.0    1688253       NbTest                    1.0  \n",
      "14                      2074.0    1688218       NbTest                    NaN  \n",
      "15                      1830.0    1679479       NbTest                    1.0  \n",
      "16                      2074.0    1688253       NbTest                    NaN  \n",
      "17                      2076.0    1688255       NbTest                    NaN  \n",
      "18                      1830.0    1679479       NbTest                    NaN  \n",
      "19                      2074.0    1688288       NbTest                    1.0  \n",
      "20                      2074.0    1688288       NbTest                    NaN  \n",
      "\n",
      "[21 rows x 21 columns]\n"
     ]
    }
   ],
   "source": [
    "url = f\"{base_url}/nb_alerts.json?from={from_ts}&to={to_ts}\"\n",
    "response = requests.request(\"GET\", url, headers=legacy_api_headers, verify=False)\n",
    "\n",
    "df = pd.json_normalize(response.json(), 'current_alerts')\n",
    "print(df)"
   ]
  },
  {
   "cell_type": "markdown",
   "metadata": {},
   "source": [
    "Then we filter out only the alerts with severity less than 5 (faillure alerts have severity 1, and warning alerts have severity 4. When an alert is cleared that event is marked with severity 6). Then count the alerts per agent, and then get the top 10."
   ]
  },
  {
   "cell_type": "code",
   "execution_count": 15,
   "metadata": {
    "scrolled": false
   },
   "outputs": [
    {
     "name": "stdout",
     "output_type": "stream",
     "text": [
      "                 count\n",
      "source_agent_id       \n",
      "300                  5\n",
      "249                  4\n",
      "335                  1\n"
     ]
    }
   ],
   "source": [
    "opening_alerts = df[df['severity'] < 5]\n",
    "count_per_agent = opening_alerts[['source_agent_id', 'severity']].groupby(['source_agent_id']).count()\n",
    "count_per_agent = count_per_agent.rename(columns={'severity':'count'})\n",
    "count_per_agent.index = pd.to_numeric(count_per_agent.index, downcast='integer')\n",
    "top_10 = count_per_agent.nlargest(10, columns='count')\n",
    "print(top_10)"
   ]
  },
  {
   "cell_type": "markdown",
   "metadata": {},
   "source": [
    "To convert the agent ids to agent names we then retrieve the agent objects one by one and extract the name strings from those objects."
   ]
  },
  {
   "cell_type": "code",
   "execution_count": 16,
   "metadata": {},
   "outputs": [
    {
     "name": "stdout",
     "output_type": "stream",
     "text": [
      "Done loading names\n"
     ]
    }
   ],
   "source": [
    "agent_names = []\n",
    "for agent_id in top_10.index:\n",
    "    url = f\"{base_url}/agents/{agent_id}.json\"\n",
    "    response = requests.request(\"GET\", url, headers=legacy_api_headers, verify=False)\n",
    "    agent_names.append(response.json()['name'])\n",
    "    \n",
    "print(\"Done loading names\")"
   ]
  },
  {
   "cell_type": "markdown",
   "metadata": {},
   "source": [
    "Finally, we prepare the data for plotting."
   ]
  },
  {
   "cell_type": "code",
   "execution_count": 17,
   "metadata": {},
   "outputs": [
    {
     "name": "stdout",
     "output_type": "stream",
     "text": [
      "                   Alert Count\n",
      "San Jose - WiFi              5\n",
      "San Jose                     4\n",
      "Steven's - Unraid            1\n"
     ]
    }
   ],
   "source": [
    "to_plot = pd.DataFrame(index=agent_names, data=top_10.values, columns=['Alert Count'])\n",
    "to_plot.index.rename('Agents')\n",
    "print(to_plot)"
   ]
  },
  {
   "cell_type": "code",
   "execution_count": 18,
   "metadata": {},
   "outputs": [
    {
     "data": {
      "text/plain": [
       "<AxesSubplot:>"
      ]
     },
     "execution_count": 18,
     "metadata": {},
     "output_type": "execute_result"
    },
    {
     "data": {
      "image/png": "[encoded data removed]",
      "text/plain": [
       "<Figure size 432x288 with 1 Axes>"
      ]
     },
     "metadata": {
      "needs_background": "light"
     },
     "output_type": "display_data"
    }
   ],
   "source": [
    "to_plot.plot.bar()"
   ]
  },
  {
   "cell_type": "code",
   "execution_count": null,
   "metadata": {},
   "outputs": [],
   "source": []
  }
 ],
 "metadata": {
  "interpreter": {
   "hash": "ac2eaa0ea0ebeafcc7822e65e46aa9d4f966f30b695406963e145ea4a91cd4fc"
  },
  "kernelspec": {
   "display_name": "Python 3",
   "language": "python",
   "name": "python3"
  },
  "language_info": {
   "codemirror_mode": {
    "name": "ipython",
    "version": 3
   },
   "file_extension": ".py",
   "mimetype": "text/x-python",
   "name": "python",
   "nbconvert_exporter": "python",
   "pygments_lexer": "ipython3",
   "version": "3.9.5"
  },
  "metadata": {
   "interpreter": {
    "hash": "ac2eaa0ea0ebeafcc7822e65e46aa9d4f966f30b695406963e145ea4a91cd4fc"
   }
  }
 },
 "nbformat": 4,
 "nbformat_minor": 4
}
