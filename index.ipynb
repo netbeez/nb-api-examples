{
 "cells": [
  {
   "cell_type": "markdown",
   "metadata": {},
   "source": [
    "# Welcome to NetBeez API examples - Retrive PING test results from a specific agent"
   ]
  },
  {
   "cell_type": "markdown",
   "metadata": {},
   "source": [
    "This notebook uses a Python environment to demonstrate how a NetBeez user can retrive data from the API.\n",
    "\n",
    "In this example we will be searching for an agent by name, then selecting the ping tests that are currently running, and then retriving the raw measurement results for those tests from the past 60 minutes."
   ]
  },
  {
   "cell_type": "markdown",
   "metadata": {},
   "source": [
    "## Setup your NetBeez Beezkeeper details"
   ]
  },
  {
   "cell_type": "markdown",
   "metadata": {},
   "source": [
    "First you need to identify your server's FQDN and generate an API key to use in these examples.\n",
    "\n",
    "If the URL you use to access NetBeez looks like this https://demo.netbeecloud.net then `demo.netbeecloud.net` is the fqdn."
   ]
  },
  {
   "cell_type": "code",
   "execution_count": 1,
   "metadata": {},
   "outputs": [],
   "source": [
    "beezkeeper_fqdn=\"demo.netbeezcloud.net\"\n",
    "base_url='https://' + beezkeeper_fqdn"
   ]
  },
  {
   "cell_type": "code",
   "execution_count": 2,
   "metadata": {
    "jupyter": {
     "source_hidden": true
    },
    "tags": []
   },
   "outputs": [
    {
     "data": {
      "text/markdown": [
       "To generate an API key head over to https://demo.netbeezcloud.net/#settings-tab/api-keys-settings"
      ],
      "text/plain": [
       "<IPython.core.display.Markdown object>"
      ]
     },
     "execution_count": 2,
     "metadata": {},
     "output_type": "execute_result"
    }
   ],
   "source": [
    "from IPython.display import Markdown as md\n",
    "\n",
    "md(f\"To generate an API key head over to https://{beezkeeper_fqdn}/#settings-tab/api-keys-settings\")"
   ]
  },
  {
   "cell_type": "code",
   "execution_count": 3,
   "metadata": {
    "tags": []
   },
   "outputs": [],
   "source": [
    "api_key=\"7g5_hKXw_460SNKEkJEYlMn1eqw3iTmaus_cCMZ8REhc5MOEtEAx8g\""
   ]
  },
  {
   "cell_type": "markdown",
   "metadata": {},
   "source": [
    "## Setup the headers\n",
    "We define the content type format as JSON and provide the API key that you generated in the previous step as part of the headers."
   ]
  },
  {
   "cell_type": "code",
   "execution_count": 4,
   "metadata": {
    "tags": []
   },
   "outputs": [],
   "source": [
    "import requests\n",
    "import urllib3\n",
    "\n",
    "urllib3.disable_warnings()\n",
    "\n",
    "\n",
    "headers = {\n",
    "            'Cache-Control': 'no-store',\n",
    "            'Content-type': 'application/json',\n",
    "            'Authorization': 'Bearer ' + api_key\n",
    "          }\n",
    "\n",
    "legacy_api_headers = {\n",
    "    'Authorization': api_key,\n",
    "    'API-VERSION': 'v1',\n",
    "    'Content-type': 'application/json'\n",
    "}"
   ]
  },
  {
   "cell_type": "markdown",
   "metadata": {},
   "source": [
    "Note that when the legacy api headers are used it means that we are using the legacy API which is subject to be replaced soon by the new JSON API (documentation here: https://api.netbeez.net)"
   ]
  },
  {
   "cell_type": "markdown",
   "metadata": {},
   "source": [
    "# Get NetBeez Agent information and last 24 hours Ping results"
   ]
  },
  {
   "cell_type": "markdown",
   "metadata": {},
   "source": [
    "## Retrieve the agent\n",
    "First we set retrieve the agent by search by name using this API endpoint: https://api.netbeez.net/#f3d48709-5344-45b7-af9b-7b92feddd4ec."
   ]
  },
  {
   "cell_type": "code",
   "execution_count": 5,
   "metadata": {},
   "outputs": [],
   "source": [
    "search_name = \"Rome\"\n",
    "url = f\"{base_url}/agents?filter[name]={search_name}&type=beta\"\n"
   ]
  },
  {
   "cell_type": "code",
   "execution_count": 6,
   "metadata": {},
   "outputs": [
    {
     "name": "stdout",
     "output_type": "stream",
     "text": [
      "{'id': '343', 'type': 'agent', 'attributes': {'name': 'Rome', 'reached_target_test_limit': False, 'reached_scheduled_test_limit': None, 'nb_target_ids': [437, 32], 'nb_test_ids': [1698492, 1698493, 1698494, 1698489, 1698490, 1698491, 1698495, 1698496], 'agent_type_name': 'rpi-model-b-3', 'os_version': 'Raspbian GNU/Linux 9.11 (stretch)', 'kernel_version': '#1253 SMP Thu Aug 15 11:49:46 BST 2019', 'uuid': '1d2dbb0a-f034-499a-b1fd-9f27d8f0ca6c', 'agent_class': 'faste', 'active': True, 'active_ts': 1623773876580, 'description': None, 'category': 'network_agent', 'software_version': '8.0.6', 'open_incident_id': None, 'test_aggregate_counts_by_type': {'1': {'success': 2, 'fail': 0, 'warning': 0, 'paused': 0, 'unknown': 0}, '2': {'success': 2, 'fail': 0, 'warning': 0, 'paused': 0, 'unknown': 0}, '3': {'success': 2, 'fail': 0, 'warning': 0, 'paused': 0, 'unknown': 0}, '4': {'success': 1, 'fail': 0, 'warning': 0, 'paused': 0, 'unknown': 0}}}, 'relationships': {'network_interfaces': {'data': [{'id': '389', 'type': 'network_interface'}]}, 'agent_groups': {'data': [{'id': '5', 'type': 'agent_group'}]}}}\n"
     ]
    }
   ],
   "source": [
    "response = requests.request(\"GET\", url, headers=headers, verify=False)\n",
    "\n",
    "import json\n",
    "data = json.loads(response.text)\n",
    "agent = data['data'][0]\n",
    "print(agent)"
   ]
  },
  {
   "cell_type": "markdown",
   "metadata": {},
   "source": [
    "## Retrieve Ping tests\n",
    "Then we iterate through the tests and select the ping tests."
   ]
  },
  {
   "cell_type": "code",
   "execution_count": 7,
   "metadata": {},
   "outputs": [
    {
     "name": "stdout",
     "output_type": "stream",
     "text": [
      "{'id': 1698492, 'target': 'www.google.com', 'count': 0, 'interval': 5, 'timeout': 5, 'start_ts': '2021-06-15T11:39:06.773-04:00', 'created_at': '2021-06-15T15:39:06.000Z', 'updated_at': '2021-06-24T14:04:21.000Z', 'agent_id': 343, 'test_type_id': 1, 'heir_id': 11483, 'heir_type': 'PingTest', 'ad_hoc': False, 'test_name': None, 'nb_test_templatable_type': 'NbTestTemplate', 'nb_test_templatable_id': 99, 'current_alert_mode': 'success', 'wifi_profile_id': None, 'network_interface_id': 389, 'nb_target_id': 32, 'nb_test_template_id': 99, 'schedule_type': 'periodic', 'options': {'data_size': 54, 'dont_fragment': False, 'tos': None, 'port': None, 'ping_type': 2, 'flags': None, 'jitter_mos': True}, 'alert_mode': 'success', 'interface_type': 'wired'}\n",
      "{'id': 1698489, 'target': 'demo-app.netbeezcloud.net', 'count': 0, 'interval': 5, 'timeout': 5, 'start_ts': '2021-06-15T11:39:06.605-04:00', 'created_at': '2021-06-15T15:39:06.000Z', 'updated_at': '2021-06-23T17:18:55.000Z', 'agent_id': 343, 'test_type_id': 1, 'heir_id': 11482, 'heir_type': 'PingTest', 'ad_hoc': False, 'test_name': '', 'nb_test_templatable_type': 'NbTestTemplate', 'nb_test_templatable_id': 1830, 'current_alert_mode': 'success', 'wifi_profile_id': None, 'network_interface_id': 389, 'nb_target_id': 437, 'nb_test_template_id': 1830, 'schedule_type': 'periodic', 'options': {'data_size': 54, 'dont_fragment': False, 'tos': None, 'port': None, 'ping_type': 2, 'flags': None, 'jitter_mos': False}, 'alert_mode': 'success', 'interface_type': 'wired'}\n"
     ]
    }
   ],
   "source": [
    "nb_tests = []\n",
    "for nb_test_id in agent['attributes']['nb_test_ids']:\n",
    "  url = f\"{base_url}/nb_tests/{nb_test_id}.json\"\n",
    "  response = requests.request(\"GET\", url, headers=legacy_api_headers, verify=False)\n",
    "  data = json.loads(response.text)\n",
    "  if data['heir_type'] == 'PingTest':\n",
    "    print(data)\n",
    "    nb_tests.append(data)\n"
   ]
  },
  {
   "cell_type": "markdown",
   "metadata": {},
   "source": [
    "## Retrive the results\n",
    "Then we retrieve the results for the past 60 minutes."
   ]
  },
  {
   "cell_type": "code",
   "execution_count": 8,
   "metadata": {},
   "outputs": [
    {
     "name": "stdout",
     "output_type": "stream",
     "text": [
      "2021-06-24 13:12:47.214000\n",
      "2021-06-24 14:12:47.214000\n"
     ]
    }
   ],
   "source": [
    "import time\n",
    "import datetime\n",
    "to_ts = int(time.time() * 1000)\n",
    "from_ts = to_ts - (60 * 60 * 1000)\n",
    "\n",
    "print(datetime.datetime.fromtimestamp(from_ts/1000.0))\n",
    "print(datetime.datetime.fromtimestamp(to_ts/1000.0))\n"
   ]
  },
  {
   "cell_type": "code",
   "execution_count": 9,
   "metadata": {
    "scrolled": false
   },
   "outputs": [],
   "source": [
    "results = []\n",
    "import pandas as pd\n",
    "for nb_test in nb_tests:\n",
    "  url = f\"{base_url}/results.json?nb_test_id={nb_test['id']}&from={from_ts}&to={to_ts}\"\n",
    "  response = requests.request(\"GET\", url, headers=legacy_api_headers, verify=False)\n",
    "  df = pd.json_normalize(json.loads(response.text), 'index')\n",
    "  results.append(df)"
   ]
  },
  {
   "cell_type": "markdown",
   "metadata": {},
   "source": [
    "...and here is a printout of the results:"
   ]
  },
  {
   "cell_type": "code",
   "execution_count": 10,
   "metadata": {},
   "outputs": [
    {
     "name": "stdout",
     "output_type": "stream",
     "text": [
      "             id  value      timestamp  sequence_number  nb_test_id\n",
      "0    9870176790   46.3  1624540368143            14308     1698492\n",
      "1    9870177022   46.3  1624540373147            14309     1698492\n",
      "2    9870177131   46.0  1624540378152            14310     1698492\n",
      "3    9870177290   46.7  1624540383157            14311     1698492\n",
      "4    9870177498   46.2  1624540388159            14312     1698492\n",
      "..          ...    ...            ...              ...         ...\n",
      "714  9870302720   45.5  1624543943275            15022     1698492\n",
      "715  9870302791   46.4  1624543948281            15023     1698492\n",
      "716  9870302913   46.1  1624543953284            15024     1698492\n",
      "717  9870303218   46.7  1624543958334            15025     1698492\n",
      "718  9870303355   46.9  1624543963337            15026     1698492\n",
      "\n",
      "[719 rows x 5 columns]\n",
      "             id  value      timestamp  sequence_number  nb_test_id\n",
      "0    9870176791  109.0  1624540368280            14308     1698489\n",
      "1    9870177023  109.0  1624540373284            14309     1698489\n",
      "2    9870177132  109.0  1624540378284            14310     1698489\n",
      "3    9870177291  109.0  1624540383285            14311     1698489\n",
      "4    9870177499  109.0  1624540388286            14312     1698489\n",
      "..          ...    ...            ...              ...         ...\n",
      "714  9870302721  109.0  1624543943381            15022     1698489\n",
      "715  9870302792  109.0  1624543948388            15023     1698489\n",
      "716  9870303066  109.0  1624543953391            15024     1698489\n",
      "717  9870303219  110.0  1624543958444            15025     1698489\n",
      "718  9870303356  109.0  1624543963445            15026     1698489\n",
      "\n",
      "[719 rows x 5 columns]\n"
     ]
    }
   ],
   "source": [
    "for result in results:\n",
    "  print(result)"
   ]
  },
  {
   "cell_type": "code",
   "execution_count": null,
   "metadata": {},
   "outputs": [],
   "source": []
  }
 ],
 "metadata": {
  "interpreter": {
   "hash": "ac2eaa0ea0ebeafcc7822e65e46aa9d4f966f30b695406963e145ea4a91cd4fc"
  },
  "kernelspec": {
   "display_name": "Python 3",
   "language": "python",
   "name": "python3"
  },
  "language_info": {
   "codemirror_mode": {
    "name": "ipython",
    "version": 3
   },
   "file_extension": ".py",
   "mimetype": "text/x-python",
   "name": "python",
   "nbconvert_exporter": "python",
   "pygments_lexer": "ipython3",
   "version": "3.9.5"
  },
  "metadata": {
   "interpreter": {
    "hash": "ac2eaa0ea0ebeafcc7822e65e46aa9d4f966f30b695406963e145ea4a91cd4fc"
   }
  }
 },
 "nbformat": 4,
 "nbformat_minor": 4
}
