{
 "cells": [
  {
   "cell_type": "markdown",
   "id": "0957a093",
   "metadata": {},
   "source": [
    "# Display top 10 agents with most alerts from the last 24 hours\n",
    "\n",
    "This notebook uses a Python environment to demonstrate how a NetBeez user can retrive data from the API and manipulate them and visualize them in a meaningful way.\n",
    "\n",
    "First we describe the setup process for getting data from the API.\n",
    "\n",
    "## Setup your NetBeez Beezkeeper details\n",
    "\n",
    "First you need to identify your server's FQDN and generate an API key to use in these examples.\n",
    "\n",
    "If the URL you use to access NetBeez looks like this https://demo.netbeecloud.net then `demo.netbeecloud.net` is the fqdn.\n",
    "\n",
    "### Setup your instance FQDN"
   ]
  },
  {
   "cell_type": "code",
   "execution_count": 3,
   "id": "477f90d6",
   "metadata": {},
   "outputs": [],
   "source": [
    "beezkeeper_fqdn=\"demo.netbeezcloud.net\"  ## <--------- CHANGE THIS TO YOUR INSTANCE FQDN\n",
    "base_url='https://' + beezkeeper_fqdn"
   ]
  },
  {
   "cell_type": "markdown",
   "id": "476f4a9f",
   "metadata": {},
   "source": [
    "### Add your API Key"
   ]
  },
  {
   "cell_type": "code",
   "execution_count": 4,
   "id": "6b435c00",
   "metadata": {},
   "outputs": [
    {
     "data": {
      "text/markdown": [
       "To generate an API key head over to https://demo.netbeezcloud.net/#settings-tab/api-keys-settings"
      ],
      "text/plain": [
       "<IPython.core.display.Markdown object>"
      ]
     },
     "execution_count": 4,
     "metadata": {},
     "output_type": "execute_result"
    }
   ],
   "source": [
    "from IPython.display import Markdown as md\n",
    "\n",
    "md(f\"To generate an API key head over to https://{beezkeeper_fqdn}/#settings-tab/api-keys-settings\")"
   ]
  },
  {
   "cell_type": "code",
   "execution_count": 5,
   "id": "fa298792",
   "metadata": {},
   "outputs": [],
   "source": [
    "api_key=\"7g5_hKXw_460SNKEkJEYlMn1eqw3iTmaus_cCMZ8REhc5MOEtEAx8g\"  # <--------- CHANGE THIS TO YOUR KEY"
   ]
  },
  {
   "cell_type": "markdown",
   "id": "091f0b49",
   "metadata": {},
   "source": [
    "## Setup the headers\n",
    "We define the content type format as JSON and provide the API key that you generated in the previous step as part of the headers."
   ]
  },
  {
   "cell_type": "code",
   "execution_count": 6,
   "id": "a64ed95e",
   "metadata": {},
   "outputs": [],
   "source": [
    "import requests\n",
    "import urllib3\n",
    "\n",
    "urllib3.disable_warnings()\n",
    "\n",
    "\n",
    "headers = {\n",
    "            'Cache-Control': 'no-store',\n",
    "            'Content-type': 'application/json',\n",
    "            'Authorization': 'Bearer ' + api_key\n",
    "          }\n",
    "\n",
    "legacy_api_headers = {\n",
    "    'Authorization': api_key,\n",
    "    'API-VERSION': 'v1',\n",
    "    'Content-type': 'application/json'\n",
    "}"
   ]
  },
  {
   "cell_type": "markdown",
   "id": "0c79ae20",
   "metadata": {},
   "source": [
    "Note that when the legacy api headers are used it means that we are using the legacy API which is subject to be replaced soon by the new JSON API (documentation here: https://api.netbeez.net)"
   ]
  },
  {
   "cell_type": "markdown",
   "id": "e4485ec6",
   "metadata": {},
   "source": [
    "## Example: Get the top 10 Agents with the most alerts triggered during the past 24 hours.\n",
    "\n",
    "In this example we will be retrieve all the alerts triggered during the past 24 hours. Then we'll group them by agent and count them on a per agent basis. We then sort and pick the top 10. We then enrich the data with the agent names by fetching them through some extra API calls.\n",
    "\n",
    "### Timestamps\n",
    "First we set the timestamps for `from` and `to`"
   ]
  },
  {
   "cell_type": "code",
   "execution_count": 7,
   "id": "2d9945bf",
   "metadata": {},
   "outputs": [
    {
     "name": "stdout",
     "output_type": "stream",
     "text": [
      "From: 2021-09-11 13:52:56.798000\n",
      "To:   2021-09-12 13:52:56.798000\n"
     ]
    }
   ],
   "source": [
    "import time\n",
    "import datetime\n",
    "to_ts = int(time.time() * 1000 - 3 * 24 * 60 * 60 * 1000)\n",
    "from_ts = to_ts - (24 * 60 * 60 * 1000)\n",
    "\n",
    "print(f\"From: {datetime.datetime.fromtimestamp(from_ts/1000.0)}\")\n",
    "print(f\"To:   {datetime.datetime.fromtimestamp(to_ts/1000.0)}\")"
   ]
  },
  {
   "cell_type": "markdown",
   "id": "0855df83",
   "metadata": {},
   "source": [
    "We then retrieve the alerts using the `/nb_alerts.json` legacy api from swagger."
   ]
  },
  {
   "cell_type": "code",
   "execution_count": 9,
   "id": "1f27ea64",
   "metadata": {},
   "outputs": [
    {
     "name": "stdout",
     "output_type": "stream",
     "text": [
      "          id                                            message  severity  \\\n",
      "0    2171757                                      Alert cleared         6   \n",
      "1    2171756                        Traceroute max hops reached         1   \n",
      "2    2171755                                      Alert cleared         6   \n",
      "3    2171754                                      Alert cleared         6   \n",
      "4    2171753                        Traceroute max hops reached         1   \n",
      "..       ...                                                ...       ...   \n",
      "343  2171414  schannel: failed to receive handshake, SSL/TLS...         1   \n",
      "344  2171413                                           Time out         1   \n",
      "345  2171412                                           Time out         1   \n",
      "346  2171411                                      Alert cleared         6   \n",
      "347  2171410                                           Time out         1   \n",
      "\n",
      "          alert_ts     state  alert_detector_instance_id  \\\n",
      "0    1631454661681  reported                       34583   \n",
      "1    1631454585382  reported                       34568   \n",
      "2    1631454434955  reported                       34753   \n",
      "3    1631453981407  reported                       34568   \n",
      "4    1631453377611  reported                       34568   \n",
      "..             ...       ...                         ...   \n",
      "343  1631368671539  reported                       34753   \n",
      "344  1631368529450  reported                       34582   \n",
      "345  1631368523109  reported                       34590   \n",
      "346  1631368479369  reported                       34582   \n",
      "347  1631368378876  reported                       34582   \n",
      "\n",
      "                   created_at                updated_at  opening_nb_alert_id  \\\n",
      "0    2021-09-12T13:51:05.000Z  2021-09-13T12:21:12.000Z            2171436.0   \n",
      "1    2021-09-12T13:50:41.000Z  2021-09-12T13:56:29.000Z                  NaN   \n",
      "2    2021-09-12T13:47:18.000Z  2021-09-12T13:58:42.000Z            2171748.0   \n",
      "3    2021-09-12T13:40:02.000Z  2021-09-12T13:50:41.000Z            2171753.0   \n",
      "4    2021-09-12T13:30:32.000Z  2021-09-12T13:40:02.000Z                  NaN   \n",
      "..                        ...                       ...                  ...   \n",
      "343  2021-09-11T13:57:54.000Z  2021-09-11T14:04:08.000Z                  NaN   \n",
      "344  2021-09-11T13:55:37.000Z  2021-09-11T13:58:59.000Z                  NaN   \n",
      "345  2021-09-11T13:55:30.000Z  2021-09-11T13:59:51.000Z                  NaN   \n",
      "346  2021-09-11T13:54:40.000Z  2021-09-11T13:55:37.000Z            2171410.0   \n",
      "347  2021-09-11T13:53:04.000Z  2021-09-11T13:54:40.000Z                  NaN   \n",
      "\n",
      "        closed_ts  ... source_agent_id  target_display_name  \\\n",
      "0    1.631536e+12  ...           328.0    https://baidu.com   \n",
      "1    1.631455e+12  ...           300.0            baidu.com   \n",
      "2    1.631455e+12  ...           325.0    https://baidu.com   \n",
      "3    1.631455e+12  ...           300.0            baidu.com   \n",
      "4    1.631454e+12  ...           300.0            baidu.com   \n",
      "..            ...  ...             ...                  ...   \n",
      "343  1.631369e+12  ...           325.0    https://baidu.com   \n",
      "344  1.631369e+12  ...           328.0            baidu.com   \n",
      "345  1.631369e+12  ...           334.0            baidu.com   \n",
      "346  1.631369e+12  ...           328.0            baidu.com   \n",
      "347  1.631368e+12  ...           328.0            baidu.com   \n",
      "\n",
      "    nb_target_display_name source_test_target source_test_type_id  \\\n",
      "0                    Baidu  https://baidu.com                 3.0   \n",
      "1                    Baidu          baidu.com                 4.0   \n",
      "2                    Baidu  https://baidu.com                 3.0   \n",
      "3                    Baidu          baidu.com                 4.0   \n",
      "4                    Baidu          baidu.com                 4.0   \n",
      "..                     ...                ...                 ...   \n",
      "343                  Baidu  https://baidu.com                 3.0   \n",
      "344                  Baidu          baidu.com                 1.0   \n",
      "345                  Baidu          baidu.com                 1.0   \n",
      "346                  Baidu          baidu.com                 1.0   \n",
      "347                  Baidu          baidu.com                 1.0   \n",
      "\n",
      "     source_nb_target_id  source_nb_test_template_id  source_id  source_type  \\\n",
      "0                  463.0                      2075.0    1688274       NbTest   \n",
      "1                  463.0                      2076.0    1688255       NbTest   \n",
      "2                  463.0                      2075.0    1691837       NbTest   \n",
      "3                  463.0                      2076.0    1688255       NbTest   \n",
      "4                  463.0                      2076.0    1688255       NbTest   \n",
      "..                   ...                         ...        ...          ...   \n",
      "343                463.0                      2075.0    1691837       NbTest   \n",
      "344                463.0                      2074.0    1688273       NbTest   \n",
      "345                463.0                      2074.0    1688283       NbTest   \n",
      "346                463.0                      2074.0    1688273       NbTest   \n",
      "347                463.0                      2074.0    1688273       NbTest   \n",
      "\n",
      "    opening_alert_severity  \n",
      "0                      1.0  \n",
      "1                      NaN  \n",
      "2                      1.0  \n",
      "3                      1.0  \n",
      "4                      NaN  \n",
      "..                     ...  \n",
      "343                    NaN  \n",
      "344                    NaN  \n",
      "345                    NaN  \n",
      "346                    1.0  \n",
      "347                    NaN  \n",
      "\n",
      "[348 rows x 21 columns]\n"
     ]
    }
   ],
   "source": [
    "import pandas as pd\n",
    "\n",
    "url = f\"{base_url}/nb_alerts.json?from={from_ts}&to={to_ts}\"\n",
    "response = requests.request(\"GET\", url, headers=legacy_api_headers, verify=False)\n",
    "\n",
    "df = pd.json_normalize(response.json(), 'current_alerts')\n",
    "print(df)"
   ]
  },
  {
   "cell_type": "markdown",
   "id": "29e97337",
   "metadata": {},
   "source": [
    "Then we filter out only the alerts with severity less than 5 (faillure alerts have severity 1, and warning alerts have severity 4. When an alert is cleared that event is marked with severity 6). Then count the alerts per agent, and then get the top 10."
   ]
  },
  {
   "cell_type": "code",
   "execution_count": 10,
   "id": "d07f66ea",
   "metadata": {},
   "outputs": [
    {
     "name": "stdout",
     "output_type": "stream",
     "text": [
      "                 count\n",
      "source_agent_id       \n",
      "334                 48\n",
      "325                 34\n",
      "270                 16\n",
      "54                  14\n",
      "300                 14\n",
      "297                  9\n",
      "249                  8\n",
      "319                  8\n",
      "280                  6\n",
      "341                  6\n"
     ]
    }
   ],
   "source": [
    "opening_alerts = df[df['severity'] < 5]\n",
    "count_per_agent = opening_alerts[['source_agent_id', 'severity']].groupby(['source_agent_id']).count()\n",
    "count_per_agent = count_per_agent.rename(columns={'severity':'count'})\n",
    "count_per_agent.index = pd.to_numeric(count_per_agent.index, downcast='integer')\n",
    "top_10 = count_per_agent.nlargest(10, columns='count')\n",
    "print(top_10)"
   ]
  },
  {
   "cell_type": "markdown",
   "id": "273c2fdd",
   "metadata": {},
   "source": [
    "### Plot the alerts\n",
    "\n",
    "To convert the agent ids to agent names we then retrieve the agent objects one by one and extract the name strings from those objects."
   ]
  },
  {
   "cell_type": "code",
   "execution_count": 11,
   "id": "df6d323a",
   "metadata": {},
   "outputs": [
    {
     "name": "stdout",
     "output_type": "stream",
     "text": [
      "Done loading names\n"
     ]
    }
   ],
   "source": [
    "agent_names = []\n",
    "for agent_id in top_10.index:\n",
    "    url = f\"{base_url}/agents/{agent_id}.json\"\n",
    "    response = requests.request(\"GET\", url, headers=legacy_api_headers, verify=False)\n",
    "    agent_names.append(response.json()['name'])\n",
    "    \n",
    "print(\"Done loading names\")"
   ]
  },
  {
   "cell_type": "markdown",
   "id": "e702c231",
   "metadata": {},
   "source": [
    "Finally, we prepare the data for plotting."
   ]
  },
  {
   "cell_type": "code",
   "execution_count": 12,
   "id": "71cec70f",
   "metadata": {},
   "outputs": [
    {
     "name": "stdout",
     "output_type": "stream",
     "text": [
      "                            Alert Count\n",
      "Steven's - Desktop                   48\n",
      "Steven's - Laptop                    34\n",
      "Container - AWS                      16\n",
      "Cloud - Google                       14\n",
      "San Jose - WiFi                      14\n",
      "Pittsburgh - WiFi Main                9\n",
      "San Jose                              8\n",
      "Pittsburgh - SmartSFP                 8\n",
      "Pittsburgh - Wired                    6\n",
      "Pittsburgh - Virtual Agent            6\n"
     ]
    }
   ],
   "source": [
    "to_plot = pd.DataFrame(index=agent_names, data=top_10.values, columns=['Alert Count'])\n",
    "to_plot.index.rename('Agents')\n",
    "print(to_plot)"
   ]
  },
  {
   "cell_type": "code",
   "execution_count": 13,
   "id": "0e26629d",
   "metadata": {},
   "outputs": [
    {
     "data": {
      "text/plain": [
       "<AxesSubplot:>"
      ]
     },
     "execution_count": 13,
     "metadata": {},
     "output_type": "execute_result"
    },
    {
     "data": {
      "image/png": "[encoded data removed]",
      "text/plain": [
       "<Figure size 432x288 with 1 Axes>"
      ]
     },
     "metadata": {
      "needs_background": "light"
     },
     "output_type": "display_data"
    }
   ],
   "source": [
    "to_plot.plot.bar()"
   ]
  },
  {
   "cell_type": "code",
   "execution_count": null,
   "id": "618e11b5",
   "metadata": {},
   "outputs": [],
   "source": []
  }
 ],
 "metadata": {
  "kernelspec": {
   "display_name": "Python 3 (ipykernel)",
   "language": "python",
   "name": "python3"
  },
  "language_info": {
   "codemirror_mode": {
    "name": "ipython",
    "version": 3
   },
   "file_extension": ".py",
   "mimetype": "text/x-python",
   "name": "python",
   "nbconvert_exporter": "python",
   "pygments_lexer": "ipython3",
   "version": "3.9.6"
  }
 },
 "nbformat": 4,
 "nbformat_minor": 5
}
