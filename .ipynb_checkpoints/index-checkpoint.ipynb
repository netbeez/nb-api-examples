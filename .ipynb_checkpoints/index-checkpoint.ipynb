{
 "cells": [
  {
   "cell_type": "markdown",
   "metadata": {},
   "source": [
    "# NetBeez API examples\n",
    "## Example 1: Retrive PING test results from a specific agent for the past 60 minutes\n",
    "## Example 2: Display top 10 agents with most alerts from the last 24 hours"
   ]
  },
  {
   "cell_type": "markdown",
   "metadata": {},
   "source": [
    "This notebook uses a Python environment to demonstrate how a NetBeez user can retrive data from the API and manipulate them and visualize them in a meaningful way.\n",
    "\n",
    "First we describe the setup process for getting data from the API."
   ]
  },
  {
   "cell_type": "markdown",
   "metadata": {},
   "source": [
    "## Setup your NetBeez Beezkeeper details"
   ]
  },
  {
   "cell_type": "markdown",
   "metadata": {},
   "source": [
    "First you need to identify your server's FQDN and generate an API key to use in these examples.\n",
    "\n",
    "If the URL you use to access NetBeez looks like this https://demo.netbeecloud.net then `demo.netbeecloud.net` is the fqdn."
   ]
  },
  {
   "cell_type": "code",
   "execution_count": 1,
   "metadata": {},
   "outputs": [],
   "source": [
    "beezkeeper_fqdn=\"demo.netbeezcloud.net\"  ## <--------- CHANGE THIS TO YOUR INSTANCE FQDN\n",
    "base_url='https://' + beezkeeper_fqdn"
   ]
  },
  {
   "cell_type": "code",
   "execution_count": 2,
   "metadata": {
    "jupyter": {
     "source_hidden": true
    },
    "tags": []
   },
   "outputs": [
    {
     "data": {
      "text/markdown": [
       "For documentation go to https://api.netbeez.net or https://demo.netbeezcloud.net/swagger/"
      ],
      "text/plain": [
       "<IPython.core.display.Markdown object>"
      ]
     },
     "execution_count": 2,
     "metadata": {},
     "output_type": "execute_result"
    }
   ],
   "source": [
    "from IPython.display import Markdown as md\n",
    "\n",
    "md(f\"To generate an API key head over to https://{beezkeeper_fqdn}/#settings-tab/api-keys-settings\")\n",
    "\n",
    "md(f\"For documentation go to https://api.netbeez.net or https://{beezkeeper_fqdn}/swagger/\")"
   ]
  },
  {
   "cell_type": "code",
   "execution_count": 3,
   "metadata": {
    "tags": []
   },
   "outputs": [],
   "source": [
    "api_key=\"7g5_hKXw_460SNKEkJEYlMn1eqw3iTmaus_cCMZ8REhc5MOEtEAx8g\"  # <--------- CHANGE THIS TO YOUR KEY"
   ]
  },
  {
   "cell_type": "markdown",
   "metadata": {},
   "source": [
    "## Setup the headers\n",
    "We define the content type format as JSON and provide the API key that you generated in the previous step as part of the headers."
   ]
  },
  {
   "cell_type": "code",
   "execution_count": 4,
   "metadata": {
    "tags": []
   },
   "outputs": [],
   "source": [
    "import requests\n",
    "import urllib3\n",
    "\n",
    "urllib3.disable_warnings()\n",
    "\n",
    "\n",
    "headers = {\n",
    "            'Cache-Control': 'no-store',\n",
    "            'Content-type': 'application/json',\n",
    "            'Authorization': 'Bearer ' + api_key\n",
    "          }\n",
    "\n",
    "legacy_api_headers = {\n",
    "    'Authorization': api_key,\n",
    "    'API-VERSION': 'v1',\n",
    "    'Content-type': 'application/json'\n",
    "}"
   ]
  },
  {
   "cell_type": "markdown",
   "metadata": {},
   "source": [
    "Note that when the legacy api headers are used it means that we are using the legacy API which is subject to be replaced soon by the new JSON API (documentation here: https://api.netbeez.net)"
   ]
  },
  {
   "cell_type": "markdown",
   "metadata": {},
   "source": [
    "# Example 1: Get NetBeez Agent information and last 24 hours Ping results.\n",
    "\n",
    "In this example we will be searching for an agent by name, then selecting the ping tests that are currently running, and then retriving the raw measurement results for those tests from the past 60 minutes."
   ]
  },
  {
   "cell_type": "markdown",
   "metadata": {},
   "source": [
    "## Retrieve the agent\n",
    "First we set retrieve the agent by search by name using this API endpoint: https://api.netbeez.net/#f3d48709-5344-45b7-af9b-7b92feddd4ec."
   ]
  },
  {
   "cell_type": "code",
   "execution_count": 5,
   "metadata": {},
   "outputs": [],
   "source": [
    "search_name = \"Virtual Agent\"\n",
    "url = f\"{base_url}/agents?filter[name]={search_name}&type=beta\"\n"
   ]
  },
  {
   "cell_type": "code",
   "execution_count": 6,
   "metadata": {},
   "outputs": [
    {
     "name": "stdout",
     "output_type": "stream",
     "text": [
      "{'id': '341', 'type': 'agent', 'attributes': {'name': 'Pittsburgh - Virtual Agent', 'reached_target_test_limit': False, 'reached_scheduled_test_limit': None, 'nb_target_ids': [463, 464, 465, 437, 32], 'nb_test_ids': [1667068, 1667069, 1667070, 1667065, 1667066, 1667067, 1667071, 1688201, 1688302, 1688303, 1688304, 1688305, 1688306, 1688391, 1688392, 1688393, 1688394, 1688395, 1688474, 1688475, 1688476, 1688477, 1688478], 'agent_type_name': 'virtual-model-ova', 'os_version': 'Debian GNU/Linux 8.11 (jessie)', 'kernel_version': '#1 SMP Debian 3.16.51-3 (2017-12-13)', 'created_at': '2021-04-01T19:39:11.000Z', 'uuid': '00:0c:29:09:fa:ee', 'agent_class': 'virtual', 'active': True, 'active_ts': 1628025446428, 'description': None, 'category': 'network_agent', 'software_version': '8.1.1', 'open_incident_id': None, 'test_aggregate_counts_by_type': {'1': {'success': 5, 'fail': 0, 'warning': 0, 'paused': 0, 'unknown': 0}, '2': {'success': 5, 'fail': 0, 'warning': 0, 'paused': 0, 'unknown': 0}, '3': {'success': 5, 'fail': 0, 'warning': 0, 'paused': 0, 'unknown': 0}, '4': {'success': 4, 'fail': 0, 'warning': 0, 'paused': 0, 'unknown': 0}}}, 'relationships': {'scheduled_nb_test_templates': {'data': []}, 'network_interfaces': {'data': [{'id': '387', 'type': 'network_interface'}]}, 'agent_groups': {'data': [{'id': '5', 'type': 'agent_group'}]}}}\n"
     ]
    }
   ],
   "source": [
    "response = requests.request(\"GET\", url, headers=headers, verify=False)\n",
    "\n",
    "import json\n",
    "data = json.loads(response.text)\n",
    "agent = data['data'][0]\n",
    "print(agent)"
   ]
  },
  {
   "cell_type": "markdown",
   "metadata": {},
   "source": [
    "## Retrieve Ping tests\n",
    "Then we iterate through the tests and select the ping tests."
   ]
  },
  {
   "cell_type": "code",
   "execution_count": 7,
   "metadata": {},
   "outputs": [
    {
     "name": "stdout",
     "output_type": "stream",
     "text": [
      "{'id': 1667068, 'target': 'www.google.com', 'count': 0, 'interval': 5, 'timeout': 5, 'start_ts': '2021-04-01T15:39:11.736-04:00', 'created_at': '2021-04-01T19:39:11.000Z', 'updated_at': '2021-07-20T13:49:18.000Z', 'agent_id': 341, 'test_type_id': 1, 'heir_id': 11374, 'heir_type': 'PingTest', 'ad_hoc': False, 'test_name': None, 'nb_test_templatable_type': 'NbTestTemplate', 'nb_test_templatable_id': 99, 'current_alert_mode': 'success', 'wifi_profile_id': None, 'network_interface_id': 387, 'nb_target_id': 32, 'nb_test_template_id': 99, 'schedule_type': 'periodic', 'options': {'data_size': 54, 'dont_fragment': False, 'tos': None, 'port': None, 'ping_type': 2, 'flags': None, 'jitter_mos': True}, 'alert_mode': 'success', 'interface_type': 'wired'}\n",
      "{'id': 1667065, 'target': 'demo-app.netbeezcloud.net', 'count': 0, 'interval': 5, 'timeout': 5, 'start_ts': '2021-04-01T15:39:11.604-04:00', 'created_at': '2021-04-01T19:39:11.000Z', 'updated_at': '2021-07-20T13:49:18.000Z', 'agent_id': 341, 'test_type_id': 1, 'heir_id': 11373, 'heir_type': 'PingTest', 'ad_hoc': False, 'test_name': '', 'nb_test_templatable_type': 'NbTestTemplate', 'nb_test_templatable_id': 1830, 'current_alert_mode': 'success', 'wifi_profile_id': None, 'network_interface_id': 387, 'nb_target_id': 437, 'nb_test_template_id': 1830, 'schedule_type': 'periodic', 'options': {'data_size': 54, 'dont_fragment': False, 'tos': None, 'port': None, 'ping_type': 2, 'flags': None, 'jitter_mos': False}, 'alert_mode': 'success', 'interface_type': 'wired'}\n",
      "{'id': 1688303, 'target': 'baidu.com', 'count': 0, 'interval': 5, 'timeout': 5, 'start_ts': '2021-05-17T23:56:56.125-04:00', 'created_at': '2021-05-18T03:56:56.000Z', 'updated_at': '2021-08-04T16:55:35.000Z', 'agent_id': 341, 'test_type_id': 1, 'heir_id': 11441, 'heir_type': 'PingTest', 'ad_hoc': False, 'test_name': '', 'nb_test_templatable_type': 'NbTestTemplate', 'nb_test_templatable_id': 2074, 'current_alert_mode': 'success', 'wifi_profile_id': None, 'network_interface_id': 387, 'nb_target_id': 463, 'nb_test_template_id': 2074, 'schedule_type': 'periodic', 'options': {'data_size': 54, 'dont_fragment': False, 'tos': None, 'port': None, 'ping_type': 2, 'flags': None, 'jitter_mos': None}, 'alert_mode': 'success', 'interface_type': 'wired'}\n",
      "{'id': 1688391, 'target': 'in.gr', 'count': 0, 'interval': 5, 'timeout': 5, 'start_ts': '2021-05-17T23:57:16.957-04:00', 'created_at': '2021-05-18T03:57:16.000Z', 'updated_at': '2021-08-03T23:28:03.000Z', 'agent_id': 341, 'test_type_id': 1, 'heir_id': 11461, 'heir_type': 'PingTest', 'ad_hoc': False, 'test_name': '', 'nb_test_templatable_type': 'NbTestTemplate', 'nb_test_templatable_id': 2078, 'current_alert_mode': 'success', 'wifi_profile_id': None, 'network_interface_id': 387, 'nb_target_id': 464, 'nb_test_template_id': 2078, 'schedule_type': 'periodic', 'options': {'data_size': 54, 'dont_fragment': False, 'tos': None, 'port': None, 'ping_type': 2, 'flags': None, 'jitter_mos': None}, 'alert_mode': 'success', 'interface_type': 'wired'}\n",
      "{'id': 1688474, 'target': 'amazon.com', 'count': 0, 'interval': 5, 'timeout': 5, 'start_ts': '2021-05-18T00:00:42.578-04:00', 'created_at': '2021-05-18T04:00:42.000Z', 'updated_at': '2021-07-20T13:49:18.000Z', 'agent_id': 341, 'test_type_id': 1, 'heir_id': 11477, 'heir_type': 'PingTest', 'ad_hoc': False, 'test_name': '', 'nb_test_templatable_type': 'NbTestTemplate', 'nb_test_templatable_id': 2083, 'current_alert_mode': 'success', 'wifi_profile_id': None, 'network_interface_id': 387, 'nb_target_id': 465, 'nb_test_template_id': 2083, 'schedule_type': 'periodic', 'options': {'data_size': 54, 'dont_fragment': False, 'tos': None, 'port': None, 'ping_type': 2, 'flags': None, 'jitter_mos': None}, 'alert_mode': 'success', 'interface_type': 'wired'}\n"
     ]
    }
   ],
   "source": [
    "nb_tests = []\n",
    "for nb_test_id in agent['attributes']['nb_test_ids']:\n",
    "    url = f\"{base_url}/nb_tests/{nb_test_id}.json\"\n",
    "    response = requests.request(\"GET\", url, headers=legacy_api_headers, verify=False)\n",
    "    data = json.loads(response.text)\n",
    "    if data['heir_type'] == 'PingTest':\n",
    "        print(data)\n",
    "        nb_tests.append(data)\n"
   ]
  },
  {
   "cell_type": "markdown",
   "metadata": {},
   "source": [
    "## Retrive the results\n",
    "Then we retrieve the results for the past 60 minutes."
   ]
  },
  {
   "cell_type": "code",
   "execution_count": 8,
   "metadata": {},
   "outputs": [
    {
     "name": "stdout",
     "output_type": "stream",
     "text": [
      "2021-08-04 16:16:43.856000\n",
      "2021-08-04 17:16:43.856000\n"
     ]
    }
   ],
   "source": [
    "import time\n",
    "import datetime\n",
    "to_ts = int(time.time() * 1000)\n",
    "from_ts = to_ts - (60 * 60 * 1000)\n",
    "\n",
    "print(datetime.datetime.fromtimestamp(from_ts/1000.0))\n",
    "print(datetime.datetime.fromtimestamp(to_ts/1000.0))\n"
   ]
  },
  {
   "cell_type": "code",
   "execution_count": 9,
   "metadata": {
    "scrolled": false
   },
   "outputs": [],
   "source": [
    "results = []\n",
    "import pandas as pd\n",
    "for nb_test in nb_tests:\n",
    "    url = f\"{base_url}/results.json?nb_test_id={nb_test['id']}&from={from_ts}&to={to_ts}\"\n",
    "    response = requests.request(\"GET\", url, headers=legacy_api_headers, verify=False)\n",
    "    df = pd.json_normalize(json.loads(response.text), 'index')\n",
    "    if df.empty == False :\n",
    "        df['timestamp'] = df['timestamp'].transform(lambda x: datetime.datetime.fromtimestamp(x/1000.0))\n",
    "        df.set_index('id', inplace=True)\n",
    "        results.append(df)\n",
    "    \n",
    "results = pd.concat(results)"
   ]
  },
  {
   "cell_type": "markdown",
   "metadata": {},
   "source": [
    "...and here is a printout of the results:"
   ]
  },
  {
   "cell_type": "code",
   "execution_count": 10,
   "metadata": {
    "scrolled": true
   },
   "outputs": [
    {
     "name": "stdout",
     "output_type": "stream",
     "text": [
      "            value               timestamp  sequence_number  nb_test_id\n",
      "id                                                                    \n",
      "9985189371   21.4 2021-08-04 16:16:47.785          1999717     1667068\n",
      "9985189576   11.7 2021-08-04 16:16:52.789          1999718     1667068\n",
      "9985189685   11.7 2021-08-04 16:16:57.798          1999719     1667068\n",
      "9985189912   11.6 2021-08-04 16:17:02.805          1999720     1667068\n",
      "9985190054   11.7 2021-08-04 16:17:07.815          1999721     1667068\n",
      "...           ...                     ...              ...         ...\n",
      "9985319801   10.9 2021-08-04 17:16:18.471          1200605     1688474\n",
      "9985319930   10.7 2021-08-04 17:16:23.479          1200606     1688474\n",
      "9985320197   10.8 2021-08-04 17:16:28.486          1200607     1688474\n",
      "9985320433   25.6 2021-08-04 17:16:33.495          1200608     1688474\n",
      "9985320550   11.0 2021-08-04 17:16:38.504          1200609     1688474\n",
      "\n",
      "[3592 rows x 4 columns]\n"
     ]
    }
   ],
   "source": [
    "print(results)"
   ]
  },
  {
   "cell_type": "code",
   "execution_count": 11,
   "metadata": {},
   "outputs": [
    {
     "name": "stdout",
     "output_type": "stream",
     "text": [
      "nb_test_id               1667065  1667068  1688303  1688391  1688474\n",
      "timestamp                                                           \n",
      "2021-08-04 16:16:44.159      NaN      NaN      NaN   103.00      NaN\n",
      "2021-08-04 16:16:44.455      NaN      NaN    321.0   105.00      NaN\n",
      "2021-08-04 16:16:47.785      NaN   21.400    321.0   107.00   14.900\n",
      "2021-08-04 16:16:48.818     42.1   18.975    321.0   109.00   13.875\n",
      "2021-08-04 16:16:49.163     34.2   16.550    321.0   111.00   12.850\n",
      "...                          ...      ...      ...      ...      ...\n",
      "2021-08-04 17:16:38.392     10.6   12.860    235.0   126.25   16.840\n",
      "2021-08-04 17:16:38.402     10.6   11.800    235.0   118.50   13.920\n",
      "2021-08-04 17:16:38.504     10.6   11.800    235.0   110.75   11.000\n",
      "2021-08-04 17:16:38.727     10.6   11.800    235.0   103.00   11.000\n",
      "2021-08-04 17:16:43.405     10.6   11.800    235.0   103.00   11.000\n",
      "\n",
      "[3109 rows x 5 columns]\n"
     ]
    }
   ],
   "source": [
    "results_pivot = results.pivot(index='timestamp', columns='nb_test_id', values='value')\n",
    "pf = results_pivot.interpolate()\n",
    "print(pf)"
   ]
  },
  {
   "cell_type": "code",
   "execution_count": 12,
   "metadata": {},
   "outputs": [
    {
     "data": {
      "text/plain": [
       "<AxesSubplot:xlabel='timestamp'>"
      ]
     },
     "execution_count": 12,
     "metadata": {},
     "output_type": "execute_result"
    },
    {
     "data": {
      "image/png": "[encoded data removed]",
      "text/plain": [
       "<Figure size 432x288 with 1 Axes>"
      ]
     },
     "metadata": {
      "needs_background": "light"
     },
     "output_type": "display_data"
    }
   ],
   "source": [
    "pf.plot()"
   ]
  },
  {
   "cell_type": "markdown",
   "metadata": {},
   "source": [
    "# Example 2: Get the top 10 Agents with the most alerts triggered during the past 24 hours.\n",
    "\n",
    "In this example we will be retrieve all the alerts triggered during the past 24 hours. Then we'll group them by agent and count them on a per agent basis. We then sort and pick the top 10. We then enrich the data with the agent names by fetching them through some extra API calls."
   ]
  },
  {
   "cell_type": "markdown",
   "metadata": {},
   "source": [
    "First we set the timestamps for `from` and `to`"
   ]
  },
  {
   "cell_type": "code",
   "execution_count": 13,
   "metadata": {
    "scrolled": true
   },
   "outputs": [
    {
     "name": "stdout",
     "output_type": "stream",
     "text": [
      "From: 2021-08-04 16:46:46.621000\n",
      "To:   2021-08-04 17:16:46.621000\n"
     ]
    }
   ],
   "source": [
    "import time\n",
    "import datetime\n",
    "to_ts = int(time.time() * 1000)\n",
    "from_ts = to_ts - (30 * 60 * 1000)\n",
    "\n",
    "print(f\"From: {datetime.datetime.fromtimestamp(from_ts/1000.0)}\")\n",
    "print(f\"To:   {datetime.datetime.fromtimestamp(to_ts/1000.0)}\")"
   ]
  },
  {
   "cell_type": "markdown",
   "metadata": {},
   "source": [
    "We then retrieve the alerts using the `/nb_alerts.json` legacy api from swagger."
   ]
  },
  {
   "cell_type": "code",
   "execution_count": 14,
   "metadata": {
    "scrolled": false
   },
   "outputs": [
    {
     "name": "stdout",
     "output_type": "stream",
     "text": [
      "         id        message  severity       alert_ts     state  \\\n",
      "0   2156883  Alert cleared         6  1628097248256  reported   \n",
      "1   2156882  Alert cleared         6  1628097216407  reported   \n",
      "2   2156881       Time out         1  1628097128088  reported   \n",
      "3   2156880       Time out         1  1628097106261  reported   \n",
      "4   2156879  Alert cleared         6  1628096206611  reported   \n",
      "5   2156878  Alert cleared         6  1628096178281  reported   \n",
      "6   2156877  Alert cleared         6  1628096137036  reported   \n",
      "7   2156876       Time out         1  1628096111460  reported   \n",
      "8   2156875       Time out         1  1628096107792  reported   \n",
      "9   2156874       Time out         1  1628096101998  reported   \n",
      "10  2156873  Alert cleared         6  1628095861277  reported   \n",
      "\n",
      "    alert_detector_instance_id                created_at  \\\n",
      "0                        34407  2021-08-04T17:14:11.000Z   \n",
      "1                        33467  2021-08-04T17:13:38.000Z   \n",
      "2                        34407  2021-08-04T17:12:17.000Z   \n",
      "3                        33467  2021-08-04T17:11:53.000Z   \n",
      "4                        34752  2021-08-04T16:56:46.000Z   \n",
      "5                        34574  2021-08-04T16:56:20.000Z   \n",
      "6                        34606  2021-08-04T16:55:35.000Z   \n",
      "7                        34752  2021-08-04T16:55:17.000Z   \n",
      "8                        34574  2021-08-04T16:55:14.000Z   \n",
      "9                        34606  2021-08-04T16:55:05.000Z   \n",
      "10                       34374  2021-08-04T16:51:04.000Z   \n",
      "\n",
      "                  updated_at  opening_nb_alert_id     closed_ts  ...  \\\n",
      "0   2021-08-04T17:14:11.000Z            2156881.0           NaN  ...   \n",
      "1   2021-08-04T17:13:38.000Z            2156880.0           NaN  ...   \n",
      "2   2021-08-04T17:14:11.000Z                  NaN  1.628097e+12  ...   \n",
      "3   2021-08-04T17:13:38.000Z                  NaN  1.628097e+12  ...   \n",
      "4   2021-08-04T16:56:46.000Z            2156876.0           NaN  ...   \n",
      "5   2021-08-04T16:56:20.000Z            2156875.0           NaN  ...   \n",
      "6   2021-08-04T16:55:35.000Z            2156874.0           NaN  ...   \n",
      "7   2021-08-04T16:56:46.000Z                  NaN  1.628096e+12  ...   \n",
      "8   2021-08-04T16:56:20.000Z                  NaN  1.628096e+12  ...   \n",
      "9   2021-08-04T16:55:35.000Z                  NaN  1.628096e+12  ...   \n",
      "10  2021-08-04T16:51:04.000Z            2156807.0           NaN  ...   \n",
      "\n",
      "   source_agent_id               target_display_name nb_target_display_name  \\\n",
      "0              249                    www.google.com                 Google   \n",
      "1              300                    www.google.com                 Google   \n",
      "2              249                    www.google.com                 Google   \n",
      "3              300                    www.google.com                 Google   \n",
      "4              325                         baidu.com                  Baidu   \n",
      "5              319                         baidu.com                  Baidu   \n",
      "6              341                         baidu.com                  Baidu   \n",
      "7              325                         baidu.com                  Baidu   \n",
      "8              319                         baidu.com                  Baidu   \n",
      "9              341                         baidu.com                  Baidu   \n",
      "10             339  http://demo-app.netbeezcloud.net              Cloud App   \n",
      "\n",
      "                  source_test_target source_test_type_id  source_nb_target_id  \\\n",
      "0                     www.google.com                   1                   32   \n",
      "1                     www.google.com                   1                   32   \n",
      "2                     www.google.com                   1                   32   \n",
      "3                     www.google.com                   1                   32   \n",
      "4                          baidu.com                   1                  463   \n",
      "5                          baidu.com                   1                  463   \n",
      "6                          baidu.com                   1                  463   \n",
      "7                          baidu.com                   1                  463   \n",
      "8                          baidu.com                   1                  463   \n",
      "9                          baidu.com                   1                  463   \n",
      "10  http://demo-app.netbeezcloud.net                   3                  437   \n",
      "\n",
      "    source_nb_test_template_id  source_id  source_type opening_alert_severity  \n",
      "0                           99    1679469       NbTest                    1.0  \n",
      "1                           99    1497584       NbTest                    1.0  \n",
      "2                           99    1679469       NbTest                    NaN  \n",
      "3                           99    1497584       NbTest                    NaN  \n",
      "4                         2074    1691836       NbTest                    1.0  \n",
      "5                         2074    1688263       NbTest                    1.0  \n",
      "6                         2074    1688303       NbTest                    1.0  \n",
      "7                         2074    1691836       NbTest                    NaN  \n",
      "8                         2074    1688263       NbTest                    NaN  \n",
      "9                         2074    1688303       NbTest                    NaN  \n",
      "10                        1832    1657796       NbTest                    1.0  \n",
      "\n",
      "[11 rows x 21 columns]\n"
     ]
    }
   ],
   "source": [
    "url = f\"{base_url}/nb_alerts.json?from={from_ts}&to={to_ts}\"\n",
    "response = requests.request(\"GET\", url, headers=legacy_api_headers, verify=False)\n",
    "\n",
    "df = pd.json_normalize(response.json(), 'current_alerts')\n",
    "print(df)"
   ]
  },
  {
   "cell_type": "markdown",
   "metadata": {},
   "source": [
    "Then we filter out only the alerts with severity less than 5 (faillure alerts have severity 1, and warning alerts have severity 4. When an alert is cleared that event is marked with severity 6). Then count the alerts per agent, and then get the top 10."
   ]
  },
  {
   "cell_type": "code",
   "execution_count": 15,
   "metadata": {
    "scrolled": false
   },
   "outputs": [
    {
     "name": "stdout",
     "output_type": "stream",
     "text": [
      "                 count\n",
      "source_agent_id       \n",
      "249                  1\n",
      "300                  1\n",
      "319                  1\n",
      "325                  1\n",
      "341                  1\n"
     ]
    }
   ],
   "source": [
    "opening_alerts = df[df['severity'] < 5]\n",
    "count_per_agent = opening_alerts[['source_agent_id', 'severity']].groupby(['source_agent_id']).count()\n",
    "count_per_agent = count_per_agent.rename(columns={'severity':'count'})\n",
    "count_per_agent.index = pd.to_numeric(count_per_agent.index, downcast='integer')\n",
    "top_10 = count_per_agent.nlargest(10, columns='count')\n",
    "print(top_10)"
   ]
  },
  {
   "cell_type": "markdown",
   "metadata": {},
   "source": [
    "To convert the agent ids to agent names we then retrieve the agent objects one by one and extract the name strings from those objects."
   ]
  },
  {
   "cell_type": "code",
   "execution_count": 16,
   "metadata": {},
   "outputs": [
    {
     "name": "stdout",
     "output_type": "stream",
     "text": [
      "Done loading names\n"
     ]
    }
   ],
   "source": [
    "agent_names = []\n",
    "for agent_id in top_10.index:\n",
    "    url = f\"{base_url}/agents/{agent_id}.json\"\n",
    "    response = requests.request(\"GET\", url, headers=legacy_api_headers, verify=False)\n",
    "    agent_names.append(response.json()['name'])\n",
    "    \n",
    "print(\"Done loading names\")"
   ]
  },
  {
   "cell_type": "markdown",
   "metadata": {},
   "source": [
    "Finally, we prepare the data for plotting."
   ]
  },
  {
   "cell_type": "code",
   "execution_count": 17,
   "metadata": {
    "scrolled": true
   },
   "outputs": [
    {
     "name": "stdout",
     "output_type": "stream",
     "text": [
      "                            Alert Count\n",
      "San Jose                              1\n",
      "San Jose - WiFi                       1\n",
      "Pittsburgh - SmartSFP                 1\n",
      "Steven's - Laptop                     1\n",
      "Pittsburgh - Virtual Agent            1\n"
     ]
    }
   ],
   "source": [
    "to_plot = pd.DataFrame(index=agent_names, data=top_10.values, columns=['Alert Count'])\n",
    "to_plot.index.rename('Agents')\n",
    "print(to_plot)"
   ]
  },
  {
   "cell_type": "markdown",
   "metadata": {},
   "source": [
    "### Enrich the data with speedtest results:"
   ]
  },
  {
   "cell_type": "code",
   "execution_count": 48,
   "metadata": {
    "scrolled": false
   },
   "outputs": [
    {
     "name": "stdout",
     "output_type": "stream",
     "text": [
      "{'data': [{'id': '1', 'type': 'scheduled_nb_test_template', 'attributes': {'label': 'Internet Bandwidth', 'target': '', 'test_type_id': 7, 'cron_schedule': '0,25,35 * * * *', 'pause_other_tests': True, 'heir_type': 'SpeedtestTemplate', 'created_at': '2016-08-11T21:43:39.000Z', 'configuration': {'server': '', 'secure': True, 'mini_server': None, 'speedtest_type': 1}, 'warning_conditions': {'or': [{'<': [{'var': 'down'}, 10]}, {'<': [{'var': 'up'}, 10]}, {'>': [{'var': 'latency'}, 80]}]}, 'last_result': {'min_severity': 4, 'error_count': 0, 'warning_count': 1, 'ts': 1628100000000, 'avg_result_values': [{'key': 'latency', 'value': 72.78449964523315}, {'key': 'up', 'value': 48.440001487731934}, {'key': 'down', 'value': 56.39000129699707}]}}, 'relationships': {'agents': {'data': [{'id': '280', 'type': 'agent'}, {'id': '305', 'type': 'agent'}, {'id': '226', 'type': 'agent'}, {'id': '54', 'type': 'agent'}, {'id': '341', 'type': 'agent'}]}}}], 'meta': {'page': {'offset': 1, 'limit': 25, 'total': 1}}}\n"
     ]
    }
   ],
   "source": [
    "search_term='Internet Bandwidth'\n",
    "url = f\"{base_url}/scheduled_nb_test_templates?filter[label]={search_term}\"\n",
    "\n",
    "response = requests.request(\"GET\", url, headers=legacy_api_headers, verify=False)\n",
    "scheduled_test_templates=response.json()\n",
    "print(scheduled_test_templates)"
   ]
  },
  {
   "cell_type": "code",
   "execution_count": 49,
   "metadata": {},
   "outputs": [],
   "source": [
    "scheduled_nb_test_template_id = scheduled_test_templates['data'][0]['id']\n",
    "\n",
    "agent_ids = ','.join(top_10.index.array.astype('str'))\n",
    "\n"
   ]
  },
  {
   "cell_type": "code",
   "execution_count": 50,
   "metadata": {},
   "outputs": [
    {
     "name": "stdout",
     "output_type": "stream",
     "text": [
      "{'data': [], 'meta': {'page': {'offset': 1, 'limit': 25, 'total': 1}}}\n"
     ]
    }
   ],
   "source": [
    "url = f\"{base_url}/scheduled_nb_test_templates/{scheduled_nb_test_template_id}/results?filter[ts][value1]={from_ts}&filter[ts][value1]={to_ts}&filter[ts][operator]<=>&filter[agent_ids]={agent_ids}\"\n",
    "\n",
    "response = requests.request(\"GET\", url, headers=legacy_api_headers, verify=False)\n",
    "\n",
    "print(response.json())"
   ]
  },
  {
   "cell_type": "markdown",
   "metadata": {},
   "source": [
    "### Plot the alerts"
   ]
  },
  {
   "cell_type": "code",
   "execution_count": 19,
   "metadata": {},
   "outputs": [
    {
     "data": {
      "text/plain": [
       "<AxesSubplot:>"
      ]
     },
     "execution_count": 19,
     "metadata": {},
     "output_type": "execute_result"
    },
    {
     "data": {
      "image/png": "[encoded data removed]",
      "text/plain": [
       "<Figure size 432x288 with 1 Axes>"
      ]
     },
     "metadata": {
      "needs_background": "light"
     },
     "output_type": "display_data"
    }
   ],
   "source": [
    "to_plot.plot.bar()"
   ]
  },
  {
   "cell_type": "code",
   "execution_count": null,
   "metadata": {},
   "outputs": [],
   "source": []
  }
 ],
 "metadata": {
  "interpreter": {
   "hash": "ac2eaa0ea0ebeafcc7822e65e46aa9d4f966f30b695406963e145ea4a91cd4fc"
  },
  "kernelspec": {
   "display_name": "Python 3 (ipykernel)",
   "language": "python",
   "name": "python3"
  },
  "language_info": {
   "codemirror_mode": {
    "name": "ipython",
    "version": 3
   },
   "file_extension": ".py",
   "mimetype": "text/x-python",
   "name": "python",
   "nbconvert_exporter": "python",
   "pygments_lexer": "ipython3",
   "version": "3.9.6"
  },
  "metadata": {
   "interpreter": {
    "hash": "ac2eaa0ea0ebeafcc7822e65e46aa9d4f966f30b695406963e145ea4a91cd4fc"
   }
  }
 },
 "nbformat": 4,
 "nbformat_minor": 4
}
