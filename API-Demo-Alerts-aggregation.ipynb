{
 "cells": [
  {
   "cell_type": "markdown",
   "id": "d1f50c9a",
   "metadata": {},
   "source": [
    "# Display top 10 agents with most alerts from the last 24 hours\n",
    "\n",
    "This notebook uses a Python environment to demonstrate how a NetBeez user can retrive data from the API and manipulate them and visualize them in a meaningful way.\n",
    "\n",
    "First we describe the setup process for getting data from the API.\n",
    "\n",
    "## Setup your NetBeez Beezkeeper details\n",
    "\n",
    "First you need to identify your server's FQDN and generate an API key to use in these examples.\n",
    "\n",
    "If the URL you use to access NetBeez looks like this https://demo.netbeecloud.net then `demo.netbeecloud.net` is the fqdn.\n",
    "\n",
    "### Setup your instance FQDN"
   ]
  },
  {
   "cell_type": "code",
   "execution_count": 1,
   "id": "b08d5dff",
   "metadata": {},
   "outputs": [],
   "source": [
    "beezkeeper_fqdn=\"demo.netbeezcloud.net\"  ## <--------- CHANGE THIS TO YOUR INSTANCE FQDN\n",
    "base_url='https://' + beezkeeper_fqdn"
   ]
  },
  {
   "cell_type": "markdown",
   "id": "896c77f3",
   "metadata": {},
   "source": [
    "### Add your API Key"
   ]
  },
  {
   "cell_type": "code",
   "execution_count": 2,
   "id": "132ac5ca",
   "metadata": {},
   "outputs": [
    {
     "data": {
      "text/markdown": [
       "To generate an API key head over to https://demo.netbeezcloud.net/#settings-tab/api-keys-settings"
      ],
      "text/plain": [
       "<IPython.core.display.Markdown object>"
      ]
     },
     "execution_count": 2,
     "metadata": {},
     "output_type": "execute_result"
    }
   ],
   "source": [
    "from IPython.display import Markdown as md\n",
    "\n",
    "md(f\"To generate an API key head over to https://{beezkeeper_fqdn}/#settings-tab/api-keys-settings\")"
   ]
  },
  {
   "cell_type": "code",
   "execution_count": 3,
   "id": "58f5bf1f",
   "metadata": {},
   "outputs": [],
   "source": [
    "api_key=\"7g5_hKXw_460SNKEkJEYlMn1eqw3iTmaus_cCMZ8REhc5MOEtEAx8g\"  # <--------- CHANGE THIS TO YOUR KEY"
   ]
  },
  {
   "cell_type": "markdown",
   "id": "f268c290",
   "metadata": {},
   "source": [
    "## Setup the headers\n",
    "We define the content type format as JSON and provide the API key that you generated in the previous step as part of the headers."
   ]
  },
  {
   "cell_type": "code",
   "execution_count": 4,
   "id": "1bc60ce1",
   "metadata": {},
   "outputs": [],
   "source": [
    "import requests\n",
    "import urllib3\n",
    "\n",
    "urllib3.disable_warnings()\n",
    "\n",
    "\n",
    "headers = {\n",
    "            'Cache-Control': 'no-store',\n",
    "            'Content-type': 'application/json',\n",
    "            'Authorization': 'Bearer ' + api_key\n",
    "          }\n",
    "\n",
    "legacy_api_headers = {\n",
    "    'Authorization': api_key,\n",
    "    'API-VERSION': 'v1',\n",
    "    'Content-type': 'application/json'\n",
    "}"
   ]
  },
  {
   "cell_type": "markdown",
   "id": "7157d8ac",
   "metadata": {},
   "source": [
    "Note that when the legacy api headers are used it means that we are using the legacy API which is subject to be replaced soon by the new JSON API (documentation here: https://api.netbeez.net)"
   ]
  },
  {
   "cell_type": "markdown",
   "id": "b9d324ce",
   "metadata": {},
   "source": [
    "## Example: Get the top 10 Agents with the most alerts triggered during the past 24 hours.\n",
    "\n",
    "In this example we will be retrieve all the alerts triggered during the past 24 hours. Then we'll group them by agent and count them on a per agent basis. We then sort and pick the top 10. We then enrich the data with the agent names by fetching them through some extra API calls.\n",
    "\n",
    "### Timestamps\n",
    "First we set the timestamps for `from` and `to`"
   ]
  },
  {
   "cell_type": "code",
   "execution_count": 5,
   "id": "0b0e56a1",
   "metadata": {},
   "outputs": [
    {
     "name": "stdout",
     "output_type": "stream",
     "text": [
      "From: 2021-12-10 04:48:34.612000\n",
      "To:   2021-12-11 04:48:34.612000\n"
     ]
    }
   ],
   "source": [
    "import time\n",
    "import datetime\n",
    "to_ts = int(time.time() * 1000 - 3 * 24 * 60 * 60 * 1000)\n",
    "from_ts = to_ts - (24 * 60 * 60 * 1000)\n",
    "\n",
    "print(f\"From: {datetime.datetime.fromtimestamp(from_ts/1000.0)}\")\n",
    "print(f\"To:   {datetime.datetime.fromtimestamp(to_ts/1000.0)}\")"
   ]
  },
  {
   "cell_type": "markdown",
   "id": "31b0584e",
   "metadata": {},
   "source": [
    "We then retrieve the alerts using the `/nb_alerts.json` legacy api from swagger."
   ]
  },
  {
   "cell_type": "code",
   "execution_count": 6,
   "id": "d20d0e62",
   "metadata": {},
   "outputs": [
    {
     "name": "stdout",
     "output_type": "stream",
     "text": [
      "<Response [200]>\n"
     ]
    }
   ],
   "source": [
    "import pandas as pd\n",
    "\n",
    "url = f\"{base_url}/nb_alerts.json?from={from_ts}&to={to_ts}\"\n",
    "response = requests.request(\"GET\", url, headers=legacy_api_headers, verify=False)\n",
    "print(response)\n",
    "df = pd.json_normalize(response.json(), 'current_alerts')\n"
   ]
  },
  {
   "cell_type": "markdown",
   "id": "a09aa63a",
   "metadata": {},
   "source": [
    "Then we filter out only the alerts with severity less than 5 (faillure alerts have severity 1, and warning alerts have severity 4. When an alert is cleared that event is marked with severity 6). Then count the alerts per agent, and then get the top 10."
   ]
  },
  {
   "cell_type": "code",
   "execution_count": 7,
   "id": "4107af9d",
   "metadata": {},
   "outputs": [
    {
     "name": "stdout",
     "output_type": "stream",
     "text": [
      "                 count\n",
      "source_agent_id       \n",
      "54                 226\n",
      "279                106\n",
      "388                 92\n",
      "341                 89\n",
      "280                 78\n",
      "335                 78\n",
      "249                 77\n",
      "297                 77\n",
      "329                 76\n",
      "319                 75\n"
     ]
    }
   ],
   "source": [
    "opening_alerts = df[df['severity'] < 5]\n",
    "count_per_agent = opening_alerts[['source_agent_id', 'severity']].groupby(['source_agent_id']).count()\n",
    "count_per_agent = count_per_agent.rename(columns={'severity':'count'})\n",
    "count_per_agent.index = pd.to_numeric(count_per_agent.index, downcast='integer')\n",
    "top_10 = count_per_agent.nlargest(10, columns='count')\n",
    "print(top_10)"
   ]
  },
  {
   "cell_type": "markdown",
   "id": "785985cc",
   "metadata": {},
   "source": [
    "### Plot the alerts\n",
    "\n",
    "To convert the agent ids to agent names we then retrieve the agent objects one by one and extract the name strings from those objects."
   ]
  },
  {
   "cell_type": "code",
   "execution_count": 8,
   "id": "29826c3b",
   "metadata": {},
   "outputs": [
    {
     "name": "stdout",
     "output_type": "stream",
     "text": [
      "Done loading names\n"
     ]
    }
   ],
   "source": [
    "agent_names = []\n",
    "for agent_id in top_10.index:\n",
    "    url = f\"{base_url}/agents/{agent_id}.json\"\n",
    "    response = requests.request(\"GET\", url, headers=legacy_api_headers, verify=False)\n",
    "    agent_names.append(response.json()['name'])\n",
    "    \n",
    "print(\"Done loading names\")"
   ]
  },
  {
   "cell_type": "markdown",
   "id": "44c93308",
   "metadata": {},
   "source": [
    "Finally, we prepare the data for plotting."
   ]
  },
  {
   "cell_type": "code",
   "execution_count": 9,
   "id": "27339dea",
   "metadata": {},
   "outputs": [
    {
     "name": "stdout",
     "output_type": "stream",
     "text": [
      "                            Alert Count\n",
      "Cloud - Google                      226\n",
      "Pittsburgh - Wired 2                106\n",
      "San Jose - Wired                     92\n",
      "Pittsburgh - Virtual Agent           89\n",
      "Pittsburgh - Wired                   78\n",
      "Steven's - Unraid                    78\n",
      "San Jose - WiFi                      77\n",
      "Pittsburgh - WiFi Main               77\n",
      "DESKTOP-S87JLNG                      76\n",
      "Pittsburgh - SmartSFP                75\n"
     ]
    }
   ],
   "source": [
    "to_plot = pd.DataFrame(index=agent_names, data=top_10.values, columns=['Alert Count'])\n",
    "to_plot.index.rename('Agents')\n",
    "print(to_plot)"
   ]
  },
  {
   "cell_type": "code",
   "execution_count": 10,
   "id": "b3a09856",
   "metadata": {},
   "outputs": [
    {
     "data": {
      "text/plain": [
       "<AxesSubplot:>"
      ]
     },
     "execution_count": 10,
     "metadata": {},
     "output_type": "execute_result"
    },
    {
     "data": {
      "image/png": "[encoded data removed]",
      "text/plain": [
       "<Figure size 432x288 with 1 Axes>"
      ]
     },
     "metadata": {
      "needs_background": "light"
     },
     "output_type": "display_data"
    }
   ],
   "source": [
    "to_plot.plot.bar()"
   ]
  },
  {
   "cell_type": "code",
   "execution_count": null,
   "id": "9cfaea6c",
   "metadata": {},
   "outputs": [],
   "source": []
  }
 ],
 "metadata": {
  "kernelspec": {
   "display_name": "Python 3 (ipykernel)",
   "language": "python",
   "name": "python3"
  },
  "language_info": {
   "codemirror_mode": {
    "name": "ipython",
    "version": 3
   },
   "file_extension": ".py",
   "mimetype": "text/x-python",
   "name": "python",
   "nbconvert_exporter": "python",
   "pygments_lexer": "ipython3",
   "version": "3.9.7"
  }
 },
 "nbformat": 4,
 "nbformat_minor": 5
}
