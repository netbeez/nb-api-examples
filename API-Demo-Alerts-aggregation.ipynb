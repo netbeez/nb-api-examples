{
 "cells": [
  {
   "cell_type": "markdown",
   "id": "d1f50c9a",
   "metadata": {},
   "source": [
    "# Display top 10 agents with most alerts from the last 24 hours\n",
    "\n",
    "This notebook uses a Python environment to demonstrate how a NetBeez user can retrive data from the API and manipulate them and visualize them in a meaningful way.\n",
    "\n",
    "First we describe the setup process for getting data from the API.\n",
    "\n",
    "## Setup your NetBeez Beezkeeper details\n",
    "\n",
    "First you need to identify your server's FQDN and generate an API key to use in these examples.\n",
    "\n",
    "If the URL you use to access NetBeez looks like this https://demo.netbeecloud.net then `demo.netbeecloud.net` is the fqdn.\n",
    "\n",
    "### Setup your instance FQDN"
   ]
  },
  {
   "cell_type": "code",
   "execution_count": 1,
   "id": "b08d5dff",
   "metadata": {},
   "outputs": [],
   "source": [
    "beezkeeper_fqdn=\"demo.netbeezcloud.net\"  ## <--------- CHANGE THIS TO YOUR INSTANCE FQDN\n",
    "base_url='https://' + beezkeeper_fqdn"
   ]
  },
  {
   "cell_type": "markdown",
   "id": "896c77f3",
   "metadata": {},
   "source": [
    "### Add your API Key"
   ]
  },
  {
   "cell_type": "code",
   "execution_count": 2,
   "id": "132ac5ca",
   "metadata": {},
   "outputs": [
    {
     "data": {
      "text/markdown": [
       "To generate an API key head over to https://demo.netbeezcloud.net/#settings-tab/api-keys-settings"
      ],
      "text/plain": [
       "<IPython.core.display.Markdown object>"
      ]
     },
     "execution_count": 2,
     "metadata": {},
     "output_type": "execute_result"
    }
   ],
   "source": [
    "from IPython.display import Markdown as md\n",
    "\n",
    "md(f\"To generate an API key head over to https://{beezkeeper_fqdn}/#settings-tab/api-keys-settings\")"
   ]
  },
  {
   "cell_type": "code",
   "execution_count": 3,
   "id": "58f5bf1f",
   "metadata": {},
   "outputs": [],
   "source": [
    "api_key=\"7g5_hKXw_460SNKEkJEYlMn1eqw3iTmaus_cCMZ8REhc5MOEtEAx8g\"  # <--------- CHANGE THIS TO YOUR KEY"
   ]
  },
  {
   "cell_type": "markdown",
   "id": "f268c290",
   "metadata": {},
   "source": [
    "## Setup the headers\n",
    "We define the content type format as JSON and provide the API key that you generated in the previous step as part of the headers."
   ]
  },
  {
   "cell_type": "code",
   "execution_count": 4,
   "id": "1bc60ce1",
   "metadata": {},
   "outputs": [],
   "source": [
    "import requests\n",
    "import urllib3\n",
    "\n",
    "urllib3.disable_warnings()\n",
    "\n",
    "\n",
    "headers = {\n",
    "            'Cache-Control': 'no-store',\n",
    "            'Content-type': 'application/json',\n",
    "            'Authorization': 'Bearer ' + api_key\n",
    "          }\n",
    "\n",
    "legacy_api_headers = {\n",
    "    'Authorization': api_key,\n",
    "    'API-VERSION': 'v1',\n",
    "    'Content-type': 'application/json'\n",
    "}"
   ]
  },
  {
   "cell_type": "markdown",
   "id": "7157d8ac",
   "metadata": {},
   "source": [
    "Note that when the legacy api headers are used it means that we are using the legacy API which is subject to be replaced soon by the new JSON API (documentation here: https://api.netbeez.net)"
   ]
  },
  {
   "cell_type": "markdown",
   "id": "b9d324ce",
   "metadata": {},
   "source": [
    "## Example: Get the top 10 Agents with the most alerts triggered during the past 24 hours.\n",
    "\n",
    "In this example we will be retrieve all the alerts triggered during the past 24 hours. Then we'll group them by agent and count them on a per agent basis. We then sort and pick the top 10. We then enrich the data with the agent names by fetching them through some extra API calls.\n",
    "\n",
    "### Timestamps\n",
    "First we set the timestamps for `from` and `to`"
   ]
  },
  {
   "cell_type": "code",
   "execution_count": 5,
   "id": "0b0e56a1",
   "metadata": {},
   "outputs": [
    {
     "name": "stdout",
     "output_type": "stream",
     "text": [
      "From: 2021-09-11 15:58:45.970000\n",
      "To:   2021-09-12 15:58:45.970000\n"
     ]
    }
   ],
   "source": [
    "import time\n",
    "import datetime\n",
    "to_ts = int(time.time() * 1000 - 3 * 24 * 60 * 60 * 1000)\n",
    "from_ts = to_ts - (24 * 60 * 60 * 1000)\n",
    "\n",
    "print(f\"From: {datetime.datetime.fromtimestamp(from_ts/1000.0)}\")\n",
    "print(f\"To:   {datetime.datetime.fromtimestamp(to_ts/1000.0)}\")"
   ]
  },
  {
   "cell_type": "markdown",
   "id": "31b0584e",
   "metadata": {},
   "source": [
    "We then retrieve the alerts using the `/nb_alerts.json` legacy api from swagger."
   ]
  },
  {
   "cell_type": "code",
   "execution_count": 6,
   "id": "d20d0e62",
   "metadata": {},
   "outputs": [
    {
     "name": "stdout",
     "output_type": "stream",
     "text": [
      "          id                                            message  severity  \\\n",
      "0    2171783                                      Alert cleared         6   \n",
      "1    2171782                                      Alert cleared         6   \n",
      "2    2171781                                           Time out         1   \n",
      "3    2171780                                      Alert cleared         6   \n",
      "4    2171779                                           Time out         1   \n",
      "..       ...                                                ...       ...   \n",
      "299  2171484                                           Time out         1   \n",
      "300  2171483                                      Alert cleared         6   \n",
      "301  2171482                                      Alert cleared         6   \n",
      "302  2171481                                           Time out         1   \n",
      "303  2171480  schannel: failed to receive handshake, SSL/TLS...         1   \n",
      "\n",
      "          alert_ts     state  alert_detector_instance_id  \\\n",
      "0    1631461608360  reported                       34753   \n",
      "1    1631461575540  reported                       34546   \n",
      "2    1631461445303  reported                       34546   \n",
      "3    1631461365010  reported                       34542   \n",
      "4    1631461294914  reported                       34542   \n",
      "..             ...       ...                         ...   \n",
      "299  1631376217430  reported                       34526   \n",
      "300  1631376097392  reported                       34574   \n",
      "301  1631376071878  reported                       34550   \n",
      "302  1631376042344  reported                       34574   \n",
      "303  1631375976785  reported                       34591   \n",
      "\n",
      "                   created_at                updated_at  opening_nb_alert_id  \\\n",
      "0    2021-09-12T15:46:55.000Z  2021-09-12T16:09:39.000Z            2171776.0   \n",
      "1    2021-09-12T15:46:19.000Z  2021-09-12T16:28:10.000Z            2171781.0   \n",
      "2    2021-09-12T15:44:13.000Z  2021-09-12T15:46:19.000Z                  NaN   \n",
      "3    2021-09-12T15:42:47.000Z  2021-09-12T16:20:44.000Z            2171779.0   \n",
      "4    2021-09-12T15:41:42.000Z  2021-09-12T15:42:47.000Z                  NaN   \n",
      "..                        ...                       ...                  ...   \n",
      "299  2021-09-11T16:03:43.000Z  2021-09-11T16:06:24.000Z                  NaN   \n",
      "300  2021-09-11T16:01:39.000Z  2021-09-12T06:12:02.000Z            2171481.0   \n",
      "301  2021-09-11T16:01:14.000Z  2021-09-12T03:19:25.000Z            2171477.0   \n",
      "302  2021-09-11T16:00:48.000Z  2021-09-11T16:01:39.000Z                  NaN   \n",
      "303  2021-09-11T15:59:42.000Z  2021-09-11T16:21:30.000Z                  NaN   \n",
      "\n",
      "        closed_ts  ... source_agent_id  target_display_name  \\\n",
      "0    1.631463e+12  ...           325.0    https://baidu.com   \n",
      "1    1.631464e+12  ...           279.0            baidu.com   \n",
      "2    1.631462e+12  ...           279.0            baidu.com   \n",
      "3    1.631464e+12  ...           270.0            baidu.com   \n",
      "4    1.631461e+12  ...           270.0            baidu.com   \n",
      "..            ...  ...             ...                  ...   \n",
      "299  1.631376e+12  ...            54.0            baidu.com   \n",
      "300  1.631427e+12  ...           319.0            baidu.com   \n",
      "301  1.631417e+12  ...           280.0            baidu.com   \n",
      "302  1.631376e+12  ...           319.0            baidu.com   \n",
      "303  1.631377e+12  ...           334.0    https://baidu.com   \n",
      "\n",
      "    nb_target_display_name source_test_target source_test_type_id  \\\n",
      "0                    Baidu  https://baidu.com                 3.0   \n",
      "1                    Baidu          baidu.com                 1.0   \n",
      "2                    Baidu          baidu.com                 1.0   \n",
      "3                    Baidu          baidu.com                 1.0   \n",
      "4                    Baidu          baidu.com                 1.0   \n",
      "..                     ...                ...                 ...   \n",
      "299                  Baidu          baidu.com                 1.0   \n",
      "300                  Baidu          baidu.com                 1.0   \n",
      "301                  Baidu          baidu.com                 1.0   \n",
      "302                  Baidu          baidu.com                 1.0   \n",
      "303                  Baidu  https://baidu.com                 3.0   \n",
      "\n",
      "     source_nb_target_id  source_nb_test_template_id  source_id  source_type  \\\n",
      "0                  463.0                      2075.0    1691837       NbTest   \n",
      "1                  463.0                      2074.0    1688228       NbTest   \n",
      "2                  463.0                      2074.0    1688228       NbTest   \n",
      "3                  463.0                      2074.0    1688223       NbTest   \n",
      "4                  463.0                      2074.0    1688223       NbTest   \n",
      "..                   ...                         ...        ...          ...   \n",
      "299                463.0                      2074.0    1688203       NbTest   \n",
      "300                463.0                      2074.0    1688263       NbTest   \n",
      "301                463.0                      2074.0    1688233       NbTest   \n",
      "302                463.0                      2074.0    1688263       NbTest   \n",
      "303                463.0                      2075.0    1688284       NbTest   \n",
      "\n",
      "    opening_alert_severity  \n",
      "0                      1.0  \n",
      "1                      1.0  \n",
      "2                      NaN  \n",
      "3                      1.0  \n",
      "4                      NaN  \n",
      "..                     ...  \n",
      "299                    NaN  \n",
      "300                    1.0  \n",
      "301                    1.0  \n",
      "302                    NaN  \n",
      "303                    NaN  \n",
      "\n",
      "[304 rows x 21 columns]\n"
     ]
    }
   ],
   "source": [
    "import pandas as pd\n",
    "\n",
    "url = f\"{base_url}/nb_alerts.json?from={from_ts}&to={to_ts}\"\n",
    "response = requests.request(\"GET\", url, headers=legacy_api_headers, verify=False)\n",
    "\n",
    "df = pd.json_normalize(response.json(), 'current_alerts')\n",
    "print(df)"
   ]
  },
  {
   "cell_type": "markdown",
   "id": "a09aa63a",
   "metadata": {},
   "source": [
    "Then we filter out only the alerts with severity less than 5 (faillure alerts have severity 1, and warning alerts have severity 4. When an alert is cleared that event is marked with severity 6). Then count the alerts per agent, and then get the top 10."
   ]
  },
  {
   "cell_type": "code",
   "execution_count": 7,
   "id": "4107af9d",
   "metadata": {},
   "outputs": [
    {
     "name": "stdout",
     "output_type": "stream",
     "text": [
      "                 count\n",
      "source_agent_id       \n",
      "325                 34\n",
      "334                 33\n",
      "270                 17\n",
      "300                 16\n",
      "54                  14\n",
      "249                  8\n",
      "297                  7\n",
      "341                  6\n",
      "280                  4\n",
      "319                  4\n"
     ]
    }
   ],
   "source": [
    "opening_alerts = df[df['severity'] < 5]\n",
    "count_per_agent = opening_alerts[['source_agent_id', 'severity']].groupby(['source_agent_id']).count()\n",
    "count_per_agent = count_per_agent.rename(columns={'severity':'count'})\n",
    "count_per_agent.index = pd.to_numeric(count_per_agent.index, downcast='integer')\n",
    "top_10 = count_per_agent.nlargest(10, columns='count')\n",
    "print(top_10)"
   ]
  },
  {
   "cell_type": "markdown",
   "id": "785985cc",
   "metadata": {},
   "source": [
    "### Plot the alerts\n",
    "\n",
    "To convert the agent ids to agent names we then retrieve the agent objects one by one and extract the name strings from those objects."
   ]
  },
  {
   "cell_type": "code",
   "execution_count": 8,
   "id": "29826c3b",
   "metadata": {},
   "outputs": [
    {
     "name": "stdout",
     "output_type": "stream",
     "text": [
      "Done loading names\n"
     ]
    }
   ],
   "source": [
    "agent_names = []\n",
    "for agent_id in top_10.index:\n",
    "    url = f\"{base_url}/agents/{agent_id}.json\"\n",
    "    response = requests.request(\"GET\", url, headers=legacy_api_headers, verify=False)\n",
    "    agent_names.append(response.json()['name'])\n",
    "    \n",
    "print(\"Done loading names\")"
   ]
  },
  {
   "cell_type": "markdown",
   "id": "44c93308",
   "metadata": {},
   "source": [
    "Finally, we prepare the data for plotting."
   ]
  },
  {
   "cell_type": "code",
   "execution_count": 9,
   "id": "27339dea",
   "metadata": {},
   "outputs": [
    {
     "name": "stdout",
     "output_type": "stream",
     "text": [
      "                            Alert Count\n",
      "Steven's - Laptop                    34\n",
      "Steven's - Desktop                   33\n",
      "Container - AWS                      17\n",
      "San Jose - WiFi                      16\n",
      "Cloud - Google                       14\n",
      "San Jose                              8\n",
      "Pittsburgh - WiFi Main                7\n",
      "Pittsburgh - Virtual Agent            6\n",
      "Pittsburgh - Wired                    4\n",
      "Pittsburgh - SmartSFP                 4\n"
     ]
    }
   ],
   "source": [
    "to_plot = pd.DataFrame(index=agent_names, data=top_10.values, columns=['Alert Count'])\n",
    "to_plot.index.rename('Agents')\n",
    "print(to_plot)"
   ]
  },
  {
   "cell_type": "code",
   "execution_count": 10,
   "id": "b3a09856",
   "metadata": {},
   "outputs": [
    {
     "data": {
      "text/plain": [
       "<AxesSubplot:>"
      ]
     },
     "execution_count": 10,
     "metadata": {},
     "output_type": "execute_result"
    },
    {
     "data": {
      "image/png": "[encoded data removed]",
      "text/plain": [
       "<Figure size 432x288 with 1 Axes>"
      ]
     },
     "metadata": {
      "needs_background": "light"
     },
     "output_type": "display_data"
    }
   ],
   "source": [
    "to_plot.plot.bar()"
   ]
  },
  {
   "cell_type": "code",
   "execution_count": null,
   "id": "9cfaea6c",
   "metadata": {},
   "outputs": [],
   "source": []
  }
 ],
 "metadata": {
  "kernelspec": {
   "display_name": "Python 3 (ipykernel)",
   "language": "python",
   "name": "python3"
  },
  "language_info": {
   "codemirror_mode": {
    "name": "ipython",
    "version": 3
   },
   "file_extension": ".py",
   "mimetype": "text/x-python",
   "name": "python",
   "nbconvert_exporter": "python",
   "pygments_lexer": "ipython3",
   "version": "3.9.6"
  }
 },
 "nbformat": 4,
 "nbformat_minor": 5
}
