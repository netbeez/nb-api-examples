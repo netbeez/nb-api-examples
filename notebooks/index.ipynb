{
 "cells": [
  {
   "cell_type": "markdown",
   "metadata": {},
   "source": [
    "# Welcome to NetBeez API examples"
   ]
  },
  {
   "cell_type": "markdown",
   "metadata": {},
   "source": [
    "This notebook uses a Python environment with a few libraries, including `dask`, all of which were specificied using a `conda` [environment.yml](../edit/environment.yml) file. To demo the environment, we'll show a simplified example of using `dask` to analyze time series data, adapted from Matthew Rocklin's excellent repo of [dask examples](https://github.com/blaze/dask-examples) — check out that repo for the full version (and many other examples)."
   ]
  },
  {
   "cell_type": "markdown",
   "metadata": {},
   "source": [
    "## Setup your NetBeez Beezkeeper details"
   ]
  },
  {
   "cell_type": "markdown",
   "metadata": {},
   "source": [
    "First you need to identify your server's FQDN and generate an API key to use in these examples.\n",
    "\n",
    "If the URL you use to access NetBeez looks like this https://demo.netbeecloud.net then `demo.netbeecloud.net` is the fqdn."
   ]
  },
  {
   "cell_type": "code",
   "execution_count": 1,
   "metadata": {},
   "outputs": [],
   "source": [
    "beezkeeper_fqdn=\"demo.netbeezcloud.net\"\n",
    "base_url='https://' + beezkeeper_fqdn"
   ]
  },
  {
   "cell_type": "code",
   "execution_count": 2,
   "metadata": {
    "jupyter": {
     "source_hidden": true
    },
    "tags": []
   },
   "outputs": [
    {
     "data": {
      "text/markdown": [
       "To generate an API key head over to https://demo.netbeezcloud.net/#settings-tab/api-keys-settings"
      ],
      "text/plain": [
       "<IPython.core.display.Markdown object>"
      ]
     },
     "execution_count": 2,
     "metadata": {},
     "output_type": "execute_result"
    }
   ],
   "source": [
    "from IPython.display import Markdown as md\n",
    "\n",
    "md(f\"To generate an API key head over to https://{beezkeeper_fqdn}/#settings-tab/api-keys-settings\")"
   ]
  },
  {
   "cell_type": "code",
   "execution_count": 3,
   "metadata": {
    "tags": []
   },
   "outputs": [],
   "source": [
    "api_key=\"7g5_hKXw_460SNKEkJEYlMn1eqw3iTmaus_cCMZ8REhc5MOEtEAx8g\""
   ]
  },
  {
   "cell_type": "markdown",
   "metadata": {},
   "source": [
    "## Setup the headers\n",
    "We define the content type format as JSON and provide the API token that you generated in the previous step as part of the headers."
   ]
  },
  {
   "cell_type": "code",
   "execution_count": 4,
   "metadata": {
    "tags": []
   },
   "outputs": [],
   "source": [
    "import requests\n",
    "import urllib3\n",
    "\n",
    "urllib3.disable_warnings()\n",
    "\n",
    "\n",
    "headers = {\n",
    "            'Cache-Control': 'no-store',\n",
    "            'Content-type': 'application/json',\n",
    "            'Authorization': 'Bearer ' + api_key\n",
    "          }\n",
    "\n",
    "legacy_api_headers = {\n",
    "    'Authorization': api_key,\n",
    "    'API-VERSION': 'v1',\n",
    "    'Content-type': 'application/json'\n",
    "}"
   ]
  },
  {
   "cell_type": "markdown",
   "metadata": {},
   "source": [
    "First search for the agent by name (https://api.netbeez.net/#f3d48709-5344-45b7-af9b-7b92feddd4ec)"
   ]
  },
  {
   "cell_type": "markdown",
   "metadata": {},
   "source": [
    "# Get NetBeez Agent information and last 24 hours Ping results"
   ]
  },
  {
   "cell_type": "markdown",
   "metadata": {},
   "source": [
    "First we set retrieve the agent by search by name."
   ]
  },
  {
   "cell_type": "code",
   "execution_count": 5,
   "metadata": {},
   "outputs": [],
   "source": [
    "search_name = \"Rome\"\n",
    "url = f\"{base_url}/agents?filter[name]={search_name}&type=beta\"\n"
   ]
  },
  {
   "cell_type": "code",
   "execution_count": 6,
   "metadata": {},
   "outputs": [
    {
     "name": "stdout",
     "output_type": "stream",
     "text": [
      "{\"data\":[{\"id\":\"343\",\"type\":\"agent\",\"attributes\":{\"name\":\"Rome\",\"reached_target_test_limit\":false,\"reached_scheduled_test_limit\":null,\"nb_target_ids\":[437,32],\"nb_test_ids\":[1698492,1698493,1698494,1698489,1698490,1698491,1698495,1698496],\"agent_type_name\":\"rpi-model-b-3\",\"os_version\":\"Raspbian GNU/Linux 9.11 (stretch)\",\"kernel_version\":\"#1253 SMP Thu Aug 15 11:49:46 BST 2019\",\"uuid\":\"1d2dbb0a-f034-499a-b1fd-9f27d8f0ca6c\",\"agent_class\":\"faste\",\"active\":true,\"active_ts\":1624417551111,\"description\":null,\"category\":\"network_agent\",\"software_version\":\"8.0.6\",\"open_incident_id\":null,\"test_aggregate_counts_by_type\":{\"1\":{\"success\":2,\"fail\":0,\"warning\":0,\"paused\":0,\"unknown\":0},\"2\":{\"success\":2,\"fail\":0,\"warning\":0,\"paused\":0,\"unknown\":0},\"3\":{\"success\":2,\"fail\":0,\"warning\":0,\"paused\":0,\"unknown\":0},\"4\":{\"success\":1,\"fail\":0,\"warning\":0,\"paused\":0,\"unknown\":0}}},\"relationships\":{\"network_interfaces\":{\"data\":[{\"id\":\"389\",\"type\":\"network_interface\"}]},\"agent_groups\":{\"data\":[{\"id\":\"5\",\"type\":\"agent_group\"}]}}}],\"included\":[{\"id\":\"389\",\"type\":\"network_interface\",\"attributes\":{\"key\":\"eth0\",\"mac\":\"b8:27:eb:25:96:ba\",\"ip_address\":\"192.168.1.2\",\"interface_type\":\"wired\",\"model\":\"10/100\",\"vendor\":\"Microchip SMSC LAN9513-JZX\",\"gateway\":\"192.168.1.1\",\"netmask\":\"255.255.255.0\",\"speed\":\"100\",\"duplex\":\"full\",\"speed_duplex_is_auto\":true,\"dhcp\":true,\"mtu\":1500,\"dns_server1\":\"192.168.1.1\",\"dns_server2\":\"\",\"connected\":true,\"ipv6_address\":\"fe80::9d48:39e9:2fe:31be\",\"ipv6_enabled\":true,\"external_ip\":\"79.6.35.190\"},\"relationships\":{}}],\"meta\":{\"page\":{\"offset\":1,\"limit\":25,\"total\":1},\"filters\":{\"matched_resources\":1}}}\n"
     ]
    }
   ],
   "source": [
    "response = requests.request(\"GET\", url, headers=headers, verify=False)\n",
    "\n",
    "import json\n",
    "data = json.loads(response.text)\n",
    "agent = data['data'][0]\n",
    "print(agent)"
   ]
  },
  {
   "cell_type": "markdown",
   "metadata": {},
   "source": [
    "Then we iterate through the tests to find the ping tests."
   ]
  },
  {
   "cell_type": "code",
   "execution_count": 12,
   "metadata": {},
   "outputs": [
    {
     "name": "stdout",
     "output_type": "stream",
     "text": [
      "{'id': 1698492, 'target': 'www.google.com', 'count': 0, 'interval': 5, 'timeout': 5, 'start_ts': '2021-06-15T11:39:06.773-04:00', 'created_at': '2021-06-15T15:39:06.000Z', 'updated_at': '2021-06-23T03:05:52.000Z', 'agent_id': 343, 'test_type_id': 1, 'heir_id': 11483, 'heir_type': 'PingTest', 'ad_hoc': False, 'test_name': None, 'nb_test_templatable_type': 'NbTestTemplate', 'nb_test_templatable_id': 99, 'current_alert_mode': 'success', 'wifi_profile_id': None, 'network_interface_id': 389, 'nb_target_id': 32, 'nb_test_template_id': 99, 'schedule_type': 'periodic', 'options': {'data_size': 54, 'dont_fragment': False, 'tos': None, 'port': None, 'ping_type': 2, 'flags': None, 'jitter_mos': True}, 'alert_mode': 'success', 'interface_type': 'wired'}\n",
      "{'id': 1698489, 'target': 'demo-app.netbeezcloud.net', 'count': 0, 'interval': 5, 'timeout': 5, 'start_ts': '2021-06-15T11:39:06.605-04:00', 'created_at': '2021-06-15T15:39:06.000Z', 'updated_at': '2021-06-23T03:05:52.000Z', 'agent_id': 343, 'test_type_id': 1, 'heir_id': 11482, 'heir_type': 'PingTest', 'ad_hoc': False, 'test_name': '', 'nb_test_templatable_type': 'NbTestTemplate', 'nb_test_templatable_id': 1830, 'current_alert_mode': 'success', 'wifi_profile_id': None, 'network_interface_id': 389, 'nb_target_id': 437, 'nb_test_template_id': 1830, 'schedule_type': 'periodic', 'options': {'data_size': 54, 'dont_fragment': False, 'tos': None, 'port': None, 'ping_type': 2, 'flags': None, 'jitter_mos': False}, 'alert_mode': 'success', 'interface_type': 'wired'}\n"
     ]
    }
   ],
   "source": [
    "nb_tests = []\n",
    "for nb_test_id in agent['attributes']['nb_test_ids']:\n",
    "  url = f\"{base_url}/nb_tests/{nb_test_id}.json\"\n",
    "  response = requests.request(\"GET\", url, headers=legacy_api_headers, verify=False)\n",
    "  data = json.loads(response.text)\n",
    "  if data['heir_type'] == 'PingTest':\n",
    "    print(data)\n",
    "    nb_tests.append(data)\n"
   ]
  },
  {
   "cell_type": "markdown",
   "metadata": {},
   "source": [
    "Then we retrieve the results for the past 24 hours."
   ]
  },
  {
   "cell_type": "code",
   "execution_count": 17,
   "metadata": {},
   "outputs": [
    {
     "name": "stdout",
     "output_type": "stream",
     "text": [
      "2021-06-23 14:34:12.957000\n",
      "2021-06-23 15:34:12.957000\n"
     ]
    }
   ],
   "source": [
    "import time\n",
    "import datetime\n",
    "to_ts = int(time.time() * 1000)\n",
    "from_ts = to_ts - (60 * 60 * 1000)\n",
    "\n",
    "print(datetime.datetime.fromtimestamp(from_ts/1000.0))\n",
    "print(datetime.datetime.fromtimestamp(to_ts/1000.0))\n"
   ]
  },
  {
   "cell_type": "code",
   "execution_count": 25,
   "metadata": {
    "scrolled": false
   },
   "outputs": [],
   "source": [
    "results = []\n",
    "import pandas as pd\n",
    "for nb_test in nb_tests:\n",
    "  url = f\"{base_url}/results.json?nb_test_id={nb_test['id']}&from={from_ts}&to={to_ts}\"\n",
    "  response = requests.request(\"GET\", url, headers=legacy_api_headers, verify=False)\n",
    "  results.append(pd.json_normalize(json.loads(response.text), 'index'))"
   ]
  },
  {
   "cell_type": "code",
   "execution_count": 26,
   "metadata": {},
   "outputs": [
    {
     "name": "stdout",
     "output_type": "stream",
     "text": [
      "<class 'pandas.core.frame.DataFrame'>\n",
      "RangeIndex: 719 entries, 0 to 718\n",
      "Data columns (total 5 columns):\n",
      " #   Column           Non-Null Count  Dtype  \n",
      "---  ------           --------------  -----  \n",
      " 0   id               719 non-null    int64  \n",
      " 1   value            719 non-null    float64\n",
      " 2   timestamp        719 non-null    int64  \n",
      " 3   sequence_number  719 non-null    int64  \n",
      " 4   nb_test_id       719 non-null    int64  \n",
      "dtypes: float64(1), int64(4)\n",
      "memory usage: 28.2 KB\n"
     ]
    }
   ],
   "source": [
    "results[0].info()"
   ]
  },
  {
   "cell_type": "code",
   "execution_count": null,
   "metadata": {},
   "outputs": [],
   "source": []
  }
 ],
 "metadata": {
  "interpreter": {
   "hash": "ac2eaa0ea0ebeafcc7822e65e46aa9d4f966f30b695406963e145ea4a91cd4fc"
  },
  "kernelspec": {
   "display_name": "Python 3",
   "language": "python",
   "name": "python3"
  },
  "language_info": {
   "codemirror_mode": {
    "name": "ipython",
    "version": 3
   },
   "file_extension": ".py",
   "mimetype": "text/x-python",
   "name": "python",
   "nbconvert_exporter": "python",
   "pygments_lexer": "ipython3",
   "version": "3.9.5"
  },
  "metadata": {
   "interpreter": {
    "hash": "ac2eaa0ea0ebeafcc7822e65e46aa9d4f966f30b695406963e145ea4a91cd4fc"
   }
  }
 },
 "nbformat": 4,
 "nbformat_minor": 4
}
